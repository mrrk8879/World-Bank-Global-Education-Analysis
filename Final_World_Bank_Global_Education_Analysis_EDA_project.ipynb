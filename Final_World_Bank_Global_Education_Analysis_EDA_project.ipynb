{
  "nbformat": 4,
  "nbformat_minor": 0,
  "metadata": {
    "colab": {
      "provenance": [],
      "collapsed_sections": [
        "w6K7xa23Elo4",
        "gIfDvo9L0UH2"
      ],
      "cell_execution_strategy": "setup",
      "toc_visible": true,
      "include_colab_link": true
    },
    "kernelspec": {
      "name": "python3",
      "display_name": "Python 3"
    },
    "language_info": {
      "name": "python"
    }
  },
  "cells": [
    {
      "cell_type": "markdown",
      "metadata": {
        "id": "view-in-github",
        "colab_type": "text"
      },
      "source": [
        "<a href=\"https://colab.research.google.com/github/mrrk8879/World-Bank-Global-Education-Analysis/blob/main/Final_World_Bank_Global_Education_Analysis_EDA_project.ipynb\" target=\"_parent\"><img src=\"https://colab.research.google.com/assets/colab-badge.svg\" alt=\"Open In Colab\"/></a>"
      ]
    },
    {
      "cell_type": "markdown",
      "source": [
        "# **Project Name**    - **World Bank Global Education Analysis**\n",
        "\n"
      ],
      "metadata": {
        "id": "vncDsAP0Gaoa"
      }
    },
    {
      "cell_type": "markdown",
      "source": [
        "##### **Project Type**    - EDA/Regression/Classification/Unsupervised\n",
        "##### **Contribution**    - Individual/Team\n",
        "##### **Team Member 1 -** Mohd Rihan Khan\n"
      ],
      "metadata": {
        "id": "beRrZCGUAJYm"
      }
    },
    {
      "cell_type": "markdown",
      "source": [
        "# **Project Summary -**"
      ],
      "metadata": {
        "id": "FJNUwmbgGyua"
      }
    },
    {
      "cell_type": "markdown",
      "source": [
        "The World Bank EdStats All Indicator Query holds over 4,000 internationally comparable indicators that describe education access, progression, completion, literacy, teachers, population, and expenditures. The indicators cover the education cycle from pre-primary to vocational and tertiary education.The query also holds learning outcome data from international and regional learning assessments (e.g. PISA, TIMSS, PIRLS), equity data from household surveys, and projection/attainment data to 2050.\n",
        "\n",
        "The World Bank Global Education Analysis dataset comprises five distinct datasets, each contributing valuable insights into the educational landscape across countries. These datasets encompass a broad range of indicators, providing a comprehensive perspective on the evolution of education-related metrics over time.\n",
        "\n",
        "1. **EdStatsData**\n",
        "\n",
        "  **Variables**: ['Country Name', 'Country Code', 'Indicator Name', 'Indicator Code', ... '2100', 'Unnamed: 69']\n",
        "\n",
        "  **Key Features**: The primary dataset serves as the backbone, containing crucial information such as country names, codes, indicator details, and yearly data spanning from 1970 to 2100.\n",
        "\n",
        "  **Scope**: This dataset covers a wide array of indicators, facilitating in-depth analyses of educational trends and developments on a global scale.\n",
        "\n",
        "\n",
        "2. **EdStatsCountry**\n",
        "\n",
        "  **Variables**: ['Country Code', 'Short Name', 'Table Name', 'Long Name', ... 'Unnamed: 31']\n",
        "\n",
        "  **Key Features**: This dataset offers detailed country-specific information, including economic groupings, national accounts, lending categories, and demographic details.\n",
        "\n",
        "  **Usage**: It serves as a reference for contextualizing education-related indicators within broader economic and demographic contexts.\n",
        "\n",
        "\n",
        "3. **EdStatsCountrySeries**\n",
        "\n",
        "  **Variables**: ['CountryCode', 'SeriesCode', 'DESCRIPTION', 'Unnamed: 3']\n",
        "\n",
        " **Key Features**: Focused on categorizing indicators, this dataset provides a bridge between countries and specific series, facilitating streamlined access to relevant data points.\n",
        "\n",
        "  **Facilitation**: Helps organize and streamline the accessibility of indicators based on series classifications.\n",
        "\n",
        "\n",
        "4. **EdStatsSeries**\n",
        "\n",
        "  **Variables**: ['Series Code', 'Topic', 'Indicator Name', 'Short definition', ... 'Unnamed: 20']\n",
        "\n",
        " **Key Features**: This dataset delves into the details of individual indicators, offering comprehensive information on topics, definitions, units of measure, and data sources.\n",
        "\n",
        "  **Insight Generation**: Essential for understanding the nuances of each educational indicator and its relevance within the global education landscape.\n",
        "\n",
        "\n",
        "5. **EdStatsFootNote**\n",
        "\n",
        "  **Variables**: ['CountryCode', 'SeriesCode', 'Year', 'DESCRIPTION', 'Unnamed: 4']\n",
        "\n",
        "  **Key Features**: This dataset contains footnotes related to specific indicators, providing additional context, limitations, and exceptions associated with the data.\n",
        "\n",
        "  **Clarification**: Offers insights into the intricacies of the dataset and enhances transparency by highlighting relevant contextual information.\n",
        "\n",
        "\n",
        "**Utilization and Impact:**\n",
        "\n",
        "  The World Bank Global Education Analysis dataset, with its multi-faceted structure, empowers researchers, policymakers, and analysts to conduct detailed examinations of educational trends, compare country-level performances, and draw meaningful conclusions to inform global education strategies.\n",
        "\n",
        "  This dataset, rich in historical and contextual information, opens avenues for in-depth exploration of the intricate dynamics shaping education worldwide. Its meticulous organization and thorough documentation ensure transparency and reliability, making it a valuable resource for evidence-based decision-making in the field of education policy and planning."
      ],
      "metadata": {
        "id": "F6v_1wHtG2nS"
      }
    },
    {
      "cell_type": "markdown",
      "source": [
        "# **GitHub Link -**"
      ],
      "metadata": {
        "id": "w6K7xa23Elo4"
      }
    },
    {
      "cell_type": "markdown",
      "source": [
        "Provide your GitHub Link here. https://github.com/mrrk8879/ds_global-education"
      ],
      "metadata": {
        "id": "h1o69JH3Eqqn"
      }
    },
    {
      "cell_type": "markdown",
      "source": [
        "# **Problem Statement**\n"
      ],
      "metadata": {
        "id": "yQaldy8SH6Dl"
      }
    },
    {
      "cell_type": "markdown",
      "source": [
        "**Write Problem Statement Here.**\n",
        "1. Literacy Rate Disparities: Analyze the literacy rate disparities between genders (e.g., adult male vs. adult female) in different countries.\n",
        "\n",
        "2. Youth Literacy Progress: Investigate the change in youth literacy rates over time and assess whether these changes are consistent across countries.\n",
        "\n",
        "3. Gender Gap in Youth Literacy: Examine the gender gap in youth literacy rates and determine if there has been progress in closing this gap.\n",
        "\n",
        "4. Preprimary Education Impact: Explore the correlation between the percentage of teachers in preprimary education and literacy rates in countries.\n",
        "\n",
        "5. Primary Education Enrollment: Determine if there's a relationship between primary education enrollment rates and overall literacy rates in countries.\n",
        "\n",
        "6. New Entrants in Primary Education: Investigate trends in the number of new entrants to primary education and their impact on educational outcomes.\n",
        "\n",
        "7. Secondary Education Enrollment Trends: Analyze variations in secondary education enrollment ratios among countries..\n",
        "\n",
        "8. Tertiary Education Access: Explore changes in tertiary education enrollment rates and examine how government expenditure on tertiary education impacts access.\n",
        "\n",
        "9. Government Spending on Education: Investigate the relationship between government spending on education and educational outcomes, such as literacy rates.\n",
        "\n",
        "10. Gender Parity in Primary Education: Assess the gender parity index (GPI) in primary education and identify some countries where gender disparities exist.\n",
        "\n",
        "11. Teacher-Student Ratios in Secondary Education: Analyze teacher-student ratios in secondary education and assess their impact on enrollment and educational outcomes.\n",
        "\n",
        "12. Literacy and Economic Development: Investigate the correlation between adult literacy rates and a country's level of economic development, as measured by GDP per capita.\n",
        "\n"
      ],
      "metadata": {
        "id": "DpeJGUA3kjGy"
      }
    },
    {
      "cell_type": "markdown",
      "source": [
        "#### **Define Your Business Objective?**"
      ],
      "metadata": {
        "id": "PH-0ReGfmX4f"
      }
    },
    {
      "cell_type": "markdown",
      "source": [
        "1. **Literacy Rate Disparities:**\n",
        "\n",
        "  **Business Objective**: Evaluate the gender-based literacy rate disparities in various countries to inform targeted interventions and policies aimed at achieving gender equality in education.\n",
        "\n",
        "2. **Youth Literacy Progress:**\n",
        "\n",
        "  **Business Objective**: Examine changes in youth literacy rates over time to identify successful strategies and areas needing improvement, guiding educational policies for enhanced youth literacy.\n",
        "\n",
        "3. **Gender Gap in Youth Literacy:**\n",
        "\n",
        "  **Business Objective**: Investigate the gender gap in youth literacy rates to develop strategies and initiatives fostering gender equity in education, ensuring equal opportunities for male and female youth.\n",
        "\n",
        "4. **Preprimary Education Impact:**\n",
        "\n",
        "  **Business Objective**: Explore the correlation between preprimary education teacher percentages and literacy rates to understand the impact of early education on literacy, providing insights for educational policymakers.\n",
        "\n",
        "5. **Primary Education Enrollment:**\n",
        "\n",
        "  **Business Objective**: Determine the relationship between primary education enrollment rates and overall literacy rates, guiding efforts to enhance primary education access and quality for improved literacy outcomes.\n",
        "\n",
        "6. **New Entrants in Primary Education:**\n",
        "\n",
        "  **Business Objective**: Investigate trends in new entrants to primary education and their impact on educational outcomes, informing policies to address challenges and enhance the effectiveness of primary education programs.\n",
        "\n",
        "7. **Secondary Education Enrollment Trends:**\n",
        "\n",
        "  **Business Objective**: Analyze variations in secondary education enrollment ratios among countries to identify disparities and inform strategies for improving secondary education access and outcomes globally.\n",
        "\n",
        "8. **Tertiary Education Access:**\n",
        "\n",
        "  **Business Objective**: Explore changes in tertiary education enrollment rates and assess the impact of government expenditure on tertiary education, guiding policies to enhance access and quality in tertiary education.\n",
        "\n",
        "9. **Government Spending on Education:**\n",
        "\n",
        "  **Business Objective**: Investigate the relationship between government spending on education and educational outcomes, focusing on literacy rates, to optimize resource allocation and improve overall educational effectiveness.\n",
        "\n",
        "10. **Gender Parity in Primary Education:**\n",
        "\n",
        "  **Business Objective**: Assess the gender parity index in primary education and identify countries with gender disparities, informing initiatives to address gender-based inequalities in primary education.\n",
        "\n",
        "11. **Teacher-Student Ratios in Secondary Education:**\n",
        "\n",
        "  **Business Objective**: Analyze teacher-student ratios in secondary education and assess their impact on enrollment and educational outcomes, guiding policies to optimize teacher distribution and improve educational effectiveness.\n",
        "\n",
        "12. **Literacy and Economic Development:**\n",
        "\n",
        "  **Business Objective**: Investigate the correlation between adult literacy rates and a country's level of economic development, guiding strategies to promote literacy as a driver of economic growth and development.\n",
        "\n",
        "\n"
      ],
      "metadata": {
        "id": "PhDvGCAqmjP1"
      }
    },
    {
      "cell_type": "markdown",
      "source": [
        "# **General Guidelines** : -  "
      ],
      "metadata": {
        "id": "mDgbUHAGgjLW"
      }
    },
    {
      "cell_type": "markdown",
      "source": [
        "1.   Well-structured, formatted, and commented code is required.\n",
        "2.   Exception Handling, Production Grade Code & Deployment Ready Code will be a plus. Those students will be awarded some additional credits.\n",
        "     \n",
        "     The additional credits will have advantages over other students during Star Student selection.\n",
        "       \n",
        "             [ Note: - Deployment Ready Code is defined as, the whole .ipynb notebook should be executable in one go\n",
        "                       without a single error logged. ]\n",
        "\n",
        "3.   Each and every logic should have proper comments.\n",
        "4. You may add as many number of charts you want. Make Sure for each and every chart the following format should be answered.\n",
        "        \n",
        "\n",
        "```\n",
        "# Chart visualization code\n",
        "```\n",
        "            \n",
        "\n",
        "*   Why did you pick the specific chart?\n",
        "*   What is/are the insight(s) found from the chart?\n",
        "* Will the gained insights help creating a positive business impact?\n",
        "Are there any insights that lead to negative growth? Justify with specific reason.\n",
        "\n",
        "5. You have to create at least 20 logical & meaningful charts having important insights.\n",
        "\n",
        "\n",
        "[ Hints : - Do the Vizualization in  a structured way while following \"UBM\" Rule.\n",
        "\n",
        "U - Univariate Analysis,\n",
        "\n",
        "B - Bivariate Analysis (Numerical - Categorical, Numerical - Numerical, Categorical - Categorical)\n",
        "\n",
        "M - Multivariate Analysis\n",
        " ]\n",
        "\n",
        "\n",
        "\n"
      ],
      "metadata": {
        "id": "ZrxVaUj-hHfC"
      }
    },
    {
      "cell_type": "markdown",
      "source": [
        "# ***Let's Begin !***"
      ],
      "metadata": {
        "id": "O_i_v8NEhb9l"
      }
    },
    {
      "cell_type": "markdown",
      "source": [
        "## ***1. Know Your Data***"
      ],
      "metadata": {
        "id": "HhfV-JJviCcP"
      }
    },
    {
      "cell_type": "markdown",
      "source": [
        "### Import Libraries"
      ],
      "metadata": {
        "id": "Y3lxredqlCYt"
      }
    },
    {
      "cell_type": "code",
      "source": [
        "from google.colab import drive\n",
        "drive.mount('/content/drive')"
      ],
      "metadata": {
        "id": "2Qlup0yimjeS",
        "colab": {
          "base_uri": "https://localhost:8080/"
        },
        "outputId": "55037043-85cb-4b5c-a099-30e9699ee7bb"
      },
      "execution_count": null,
      "outputs": [
        {
          "output_type": "stream",
          "name": "stdout",
          "text": [
            "Mounted at /content/drive\n"
          ]
        }
      ]
    },
    {
      "cell_type": "code",
      "source": [
        "# Import Libraries\n",
        "import numpy as np\n",
        "import pandas as pd\n",
        "import matplotlib.pyplot as plt\n",
        "import seaborn as sns\n",
        "from scipy import stats"
      ],
      "metadata": {
        "id": "M8Vqi-pPk-HR"
      },
      "execution_count": null,
      "outputs": []
    },
    {
      "cell_type": "markdown",
      "source": [
        "### Dataset Loading"
      ],
      "metadata": {
        "id": "3RnN4peoiCZX"
      }
    },
    {
      "cell_type": "code",
      "source": [
        "# Load Dataset\n",
        "df_data = pd.read_csv('/content/drive/MyDrive/EDA project files world bank literacy /EdStatsData.csv')\n",
        "df_country = pd.read_csv('/content/drive/MyDrive/EDA project files world bank literacy /EdStatsCountry.csv')\n",
        "df_country_series = pd.read_csv('/content/drive/MyDrive/EDA project files world bank literacy /EdStatsCountry-Series.csv')\n",
        "df_series = pd.read_csv('/content/drive/MyDrive/EDA project files world bank literacy /EdStatsSeries.csv')\n",
        "df_footnote = pd.read_csv('/content/drive/MyDrive/EDA project files world bank literacy /EdStatsFootNote.csv')"
      ],
      "metadata": {
        "id": "4CkvbW_SlZ_R"
      },
      "execution_count": null,
      "outputs": []
    },
    {
      "cell_type": "markdown",
      "source": [],
      "metadata": {
        "id": "0i2BXSTMoiDN"
      }
    },
    {
      "cell_type": "markdown",
      "source": [
        "## **EdStatsData**"
      ],
      "metadata": {
        "id": "sVs36u66A9fn"
      }
    },
    {
      "cell_type": "markdown",
      "source": [
        "### **Dataset First View**"
      ],
      "metadata": {
        "id": "I9yhuSxnF2SD"
      }
    },
    {
      "cell_type": "code",
      "source": [
        "df_data.head(5)"
      ],
      "metadata": {
        "id": "vtBi5AOoEoow"
      },
      "execution_count": null,
      "outputs": []
    },
    {
      "cell_type": "markdown",
      "source": [
        "This dataset stands as the primary repository, encompassing recorded values of various indicators across different years and countries. It provides a comprehensive record of data readings, facilitating a thorough examination of trends and patterns over time. The dataset's extensive coverage and meticulous curation make it an essential resource for conducting comprehensive analyses, allowing for valuable insights into the dynamics of diverse variables.\n",
        "\n",
        "Notably, it incorporates datasets such as the Barro-Lee dataset, the Wittingson dataset, the Africa dataset, and many more. The inclusion of these datasets enhances the richness of the repository, offering a diverse array of educational metrics and insights. The Barro-Lee dataset, known for its focus on educational attainment, and the Wittingson dataset, recognized for its economic perspectives on education, contribute unique dimensions to the dataset. The Africa dataset further augments the dataset's utility, particularly for analyses centered on the African educational landscape. This comprehensive amalgamation of datasets broadens the scope of research possibilities and strengthens the dataset's significance in the realm of education data analysis."
      ],
      "metadata": {
        "id": "oUDBXpp9c9jm"
      }
    },
    {
      "cell_type": "markdown",
      "source": [
        "### **Dataset Rows & Columns count**"
      ],
      "metadata": {
        "id": "_J8NIjNRFeTh"
      }
    },
    {
      "cell_type": "code",
      "source": [
        "df_data.shape"
      ],
      "metadata": {
        "id": "H9XB0gLQE1bA"
      },
      "execution_count": null,
      "outputs": []
    },
    {
      "cell_type": "markdown",
      "source": [
        "### **Dataset Information**"
      ],
      "metadata": {
        "id": "0105M5hVIQdm"
      }
    },
    {
      "cell_type": "code",
      "source": [
        "df_data.info()"
      ],
      "metadata": {
        "id": "xdlKUQY1BALP"
      },
      "execution_count": null,
      "outputs": []
    },
    {
      "cell_type": "markdown",
      "source": [
        "### ***2. Understanding Your Variables***"
      ],
      "metadata": {
        "id": "vsIkP96pS6WE"
      }
    },
    {
      "cell_type": "code",
      "source": [
        "df_data.columns"
      ],
      "metadata": {
        "id": "BohIjZSLS7Wo"
      },
      "execution_count": null,
      "outputs": []
    },
    {
      "cell_type": "markdown",
      "source": [
        "### Variables Description:\n"
      ],
      "metadata": {
        "id": "Pms77ih-dj2a"
      }
    },
    {
      "cell_type": "markdown",
      "source": [
        "1. **'Country Name'**: This variable contains the country names.\n",
        "2. **'Country Code'**: This variable contains the country codes.\n",
        "3. **'Indicator Name'**: It contains the Indicator names.\n",
        "4. '**Indicator Code**': It contains the indicator codes.\n",
        "5. **1970 - 2100**: These variables contains the values for the respective country for respective indicators.\n",
        "6. **Unnamed: 69**: It contains nothing but all the null values."
      ],
      "metadata": {
        "id": "a9tDvdP6SG61"
      }
    },
    {
      "cell_type": "code",
      "source": [
        "df_data.describe(include = 'object')"
      ],
      "metadata": {
        "id": "CQ1KCOYIBdcs"
      },
      "execution_count": null,
      "outputs": []
    },
    {
      "cell_type": "code",
      "source": [
        "df_data.describe()"
      ],
      "metadata": {
        "id": "f2RtQnUhBko1"
      },
      "execution_count": null,
      "outputs": []
    },
    {
      "cell_type": "markdown",
      "source": [
        "### **Check Unique Values for each variable.**"
      ],
      "metadata": {
        "id": "3Sfy-9zuoijP"
      }
    },
    {
      "cell_type": "code",
      "source": [
        "data_unique = df_data.nunique()\n",
        "data_unique.head(20)"
      ],
      "metadata": {
        "id": "lOBYdwtcojda"
      },
      "execution_count": null,
      "outputs": []
    },
    {
      "cell_type": "markdown",
      "source": [
        "#### **Duplicate Values**"
      ],
      "metadata": {
        "id": "BOCqKe3vIhhT"
      }
    },
    {
      "cell_type": "code",
      "source": [
        "df_data.duplicated().sum()"
      ],
      "metadata": {
        "id": "Vq91hA9HIo6_"
      },
      "execution_count": null,
      "outputs": []
    },
    {
      "cell_type": "markdown",
      "source": [
        "#### **Missing Values/Null Values**"
      ],
      "metadata": {
        "id": "bMxOPRCvLVd4"
      }
    },
    {
      "cell_type": "code",
      "source": [
        "null_data = df_data.isna().sum()\n",
        "null_data"
      ],
      "metadata": {
        "id": "LXhA8IHgLYsi"
      },
      "execution_count": null,
      "outputs": []
    },
    {
      "cell_type": "code",
      "source": [
        "plt.figure(figsize = (18, 6))\n",
        "plt.xticks(rotation = 90)\n",
        "sns.barplot(y = null_data.values, x = null_data.index, palette = 'tab20')\n",
        "plt.xlabel('Null Value Count', fontsize = 14)\n",
        "plt.ylabel('Variables', fontsize = 14)\n",
        "plt.title('Null Values In EdStatsData')"
      ],
      "metadata": {
        "id": "QOk5bfYcLYkt"
      },
      "execution_count": null,
      "outputs": []
    },
    {
      "cell_type": "markdown",
      "source": [
        "### **What do you know about EdStatsData dataset?**\n",
        "1. Up to this point, it has been ascertained that the dataset comprises an extensive 886,930 rows and 70 columns, yet it is noteworthy that this dataset exhibits a considerable proportion of missing values, with approximately 90% of the entries being NaN.\n",
        "\n",
        "2. The dataset encompasses data for 242 countries, with the most frequently occurring country being 'Arab world,' appearing around 3,665 times in the dataset.\n",
        "\n",
        "3. Among the 70 columns, there are 3,665 unique indicators, with the most frequently encountered indicator being 'Adjusted net enrolment rate, lower secondary, both sexes (%) UIS.NERA.2,' repeating 242 times.\n",
        "\n",
        "4. An important observation is the absence of any duplicate values within this dataset.\n",
        "\n",
        "5. NaN values are notably concentrated in certain years, surpassing 800,000 instances. Specifically, the years 2016, 2017, and 'Unnamed 69' contain a substantial number of NaN values."
      ],
      "metadata": {
        "id": "ebJ9skA5rKHp"
      }
    },
    {
      "cell_type": "markdown",
      "source": [
        "## **EdStatsCountry**"
      ],
      "metadata": {
        "id": "_dPZ0Mb5BBMa"
      }
    },
    {
      "cell_type": "markdown",
      "source": [
        "### **Dataset First View**"
      ],
      "metadata": {
        "id": "y2iQNimUHxnU"
      }
    },
    {
      "cell_type": "code",
      "source": [
        "df_country.head(5)"
      ],
      "metadata": {
        "id": "Tk3EbNAqEjRH"
      },
      "execution_count": null,
      "outputs": []
    },
    {
      "cell_type": "markdown",
      "source": [
        "### **Dataset Rows & Columns count**"
      ],
      "metadata": {
        "id": "XNp5wW77FQAB"
      }
    },
    {
      "cell_type": "code",
      "source": [
        "df_country.shape"
      ],
      "metadata": {
        "id": "qt40xR5LE7Cy"
      },
      "execution_count": null,
      "outputs": []
    },
    {
      "cell_type": "markdown",
      "source": [
        "### **Dataset Information**"
      ],
      "metadata": {
        "id": "g2eukGr8ISI5"
      }
    },
    {
      "cell_type": "code",
      "source": [
        "df_country.info()"
      ],
      "metadata": {
        "id": "OoX8VoEWBGwd"
      },
      "execution_count": null,
      "outputs": []
    },
    {
      "cell_type": "markdown",
      "source": [
        "### ***2. Understanding Your Variables***"
      ],
      "metadata": {
        "id": "wDslPZ79SuQP"
      }
    },
    {
      "cell_type": "code",
      "source": [
        "df_country.columns"
      ],
      "metadata": {
        "id": "rf-gbEzySvPw"
      },
      "execution_count": null,
      "outputs": []
    },
    {
      "cell_type": "code",
      "source": [
        "df_country.describe(include = 'object')"
      ],
      "metadata": {
        "id": "Y4gAwMShBsYz"
      },
      "execution_count": null,
      "outputs": []
    },
    {
      "cell_type": "code",
      "source": [
        "df_country.describe()"
      ],
      "metadata": {
        "id": "3noBFmYvBw_1"
      },
      "execution_count": null,
      "outputs": []
    },
    {
      "cell_type": "markdown",
      "source": [
        "### Variable Description"
      ],
      "metadata": {
        "id": "8zsONdIfRvrQ"
      }
    },
    {
      "cell_type": "markdown",
      "source": [
        "1. **Country Code**: Unique code assigned to each country.\n",
        "\n",
        "2. **Short Name:** Abbreviated name of the country.\n",
        "\n",
        "3. **Table Name**: Official table name of the country.\n",
        "\n",
        "4. **Long Name**: Full name of the country.\n",
        "\n",
        "5. **2-alpha code**: Two-letter country code.\n",
        "\n",
        "6. **Currency Unit**: Official currency unit.\n",
        "\n",
        "7. **Special Notes**: Additional notes or comments.\n",
        "\n",
        "8. **Region**: Geographic region of the country.\n",
        "\n",
        "9. **Income Group**: Economic income group classification.\n",
        "\n",
        "10. **WB-2 code**: World Bank two-letter country code.\n",
        "\n",
        "11. **National accounts base year**: Reference year for national accounts.\n",
        "\n",
        "12. **National accounts reference year**: Reference year for national accounts.\n",
        "\n",
        "13. **SNA price valuation**: Valuation method according to the System of National Accounts (SNA).\n",
        "\n",
        "14. **Lending category**: Category of lending by the World Bank.\n",
        "\n",
        "15. **Other groups**: Other relevant groupings.\n",
        "\n",
        "16. **System of National Accounts**: System used for national accounts.\n",
        "\n",
        "17. **Alternative conversion factor**: Conversion factor used for alternative calculations.\n",
        "\n",
        "18. **PPP survey year**: Year of the Purchasing Power Parity (PPP) survey.\n",
        "\n",
        "19. **Balance of Payments Manual in use**: Manual used for balance of payments reporting.\n",
        "\n",
        "20. **External debt Reporting status**: Reporting status of external debt.\n",
        "\n",
        "21. **System of trade**: System used for trade statistics.\n",
        "\n",
        "22. **Government Accounting concept**: Concept used for government accounting.\n",
        "\n",
        "23. **IMF data dissemination standard**: Standard followed for IMF data dissemination.\n",
        "\n",
        "24. **Latest population census**: Year of the latest population census.\n",
        "\n",
        "25. **Latest household survey**: Year of the latest household survey.\n",
        "\n",
        "26. **Source of most recent Income and expenditure data**: Source of the most recent income and expenditure data.\n",
        "\n",
        "27. **Vital registration complete**: Completeness of vital registration.\n",
        "\n",
        "29. **Latest agricultural census**: Year of the latest agricultural census.\n",
        "\n",
        "30. **Latest industrial data**: Year of the latest industrial data.\n",
        "\n",
        "31. **Latest trade data**: Year of the latest trade data.\n",
        "\n",
        "32. **Latest water withdrawal data**: Year of the latest water withdrawal data.\n",
        "\n",
        "33. **Unnamed: 31**: Unnamed variable."
      ],
      "metadata": {
        "id": "KWTQnFCBPWR7"
      }
    },
    {
      "cell_type": "markdown",
      "source": [
        "### **Check Unique Values for each variable.**"
      ],
      "metadata": {
        "id": "Dj_9AkuwoNI5"
      }
    },
    {
      "cell_type": "code",
      "source": [
        "country_unique = df_country.nunique()\n",
        "country_unique"
      ],
      "metadata": {
        "id": "sObRNvTVoOJp"
      },
      "execution_count": null,
      "outputs": []
    },
    {
      "cell_type": "markdown",
      "source": [
        "#### **Duplicate Values**"
      ],
      "metadata": {
        "id": "7qgY5uC1IgIy"
      }
    },
    {
      "cell_type": "code",
      "source": [
        "df_country.duplicated().sum()"
      ],
      "metadata": {
        "id": "TowDQButKMBu"
      },
      "execution_count": null,
      "outputs": []
    },
    {
      "cell_type": "markdown",
      "source": [
        "#### **Missing Values/Null Values**"
      ],
      "metadata": {
        "id": "eoIaNFk9LOEL"
      }
    },
    {
      "cell_type": "code",
      "source": [
        "null_country = df_country.isna().sum()\n",
        "null_country"
      ],
      "metadata": {
        "id": "HjFt-sBiMblo"
      },
      "execution_count": null,
      "outputs": []
    },
    {
      "cell_type": "code",
      "source": [
        "plt.figure(figsize = (8, 12))\n",
        "sns.barplot(x = null_country.values, y = null_country.index, palette = 'Set2')\n",
        "plt.xlabel('Null Value Count', fontsize = 14)\n",
        "plt.ylabel('Variables', fontsize = 14)\n",
        "plt.title('Null Values In EdStatsCountry Dataset')"
      ],
      "metadata": {
        "id": "IYXE6ddDMbXJ"
      },
      "execution_count": null,
      "outputs": []
    },
    {
      "cell_type": "markdown",
      "source": [
        "### **What do you know about EdStatsCountry dataset?**\n",
        "Till now i came to know that this dataset contains 241 rows and 32 columns, and this dataset also contains almost 25% NaN values.\n",
        "\n",
        "There are 241 countries data present in this dataset and the and there are 23 countries which use euro as currency and among 241 countries there are 152 currencies used.\n",
        "\n",
        "There are 7 regions and regions which frequently repeated in this dataset is Europe & central asia, there are 57 countries present in this dataset which is in this region.\n",
        "\n",
        "Most of the countries fall under middle income groups. There are 55 countries which is in Upper middle income groups among 241 countries..\n",
        "\n",
        "Column Alternative conversion factor has higher NaN values in this dataset."
      ],
      "metadata": {
        "id": "sOysXQhch3o6"
      }
    },
    {
      "cell_type": "markdown",
      "source": [
        "## **EdStatsCountrySeries**"
      ],
      "metadata": {
        "id": "OcBz_vq1BHOe"
      }
    },
    {
      "cell_type": "markdown",
      "source": [
        "### **Dataset First View**"
      ],
      "metadata": {
        "id": "2rmiFBJyH5La"
      }
    },
    {
      "cell_type": "code",
      "source": [
        "df_country_series.head(5)"
      ],
      "metadata": {
        "id": "hojvTntdEfvY"
      },
      "execution_count": null,
      "outputs": []
    },
    {
      "cell_type": "markdown",
      "source": [
        "### **Dataset Rows & Columns count**"
      ],
      "metadata": {
        "id": "lS4uDmHXFqQh"
      }
    },
    {
      "cell_type": "code",
      "source": [
        "df_country_series.shape"
      ],
      "metadata": {
        "id": "mCuY12PrE-tT"
      },
      "execution_count": null,
      "outputs": []
    },
    {
      "cell_type": "markdown",
      "source": [
        "### **Dataset Information**"
      ],
      "metadata": {
        "id": "7Ve0DjV0IToF"
      }
    },
    {
      "cell_type": "code",
      "source": [
        "df_country_series.info()"
      ],
      "metadata": {
        "id": "B-8semMdBN7S"
      },
      "execution_count": null,
      "outputs": []
    },
    {
      "cell_type": "markdown",
      "source": [
        "### ***2. Understanding Your Variables***"
      ],
      "metadata": {
        "id": "Z_UDtf3XSkRA"
      }
    },
    {
      "cell_type": "code",
      "source": [
        "df_country_series.columns"
      ],
      "metadata": {
        "id": "ww-RoJE3Sln-"
      },
      "execution_count": null,
      "outputs": []
    },
    {
      "cell_type": "code",
      "source": [
        "df_country_series.describe(include = 'object')"
      ],
      "metadata": {
        "id": "Wb4A_JwUCFWU"
      },
      "execution_count": null,
      "outputs": []
    },
    {
      "cell_type": "code",
      "source": [
        "df_country_series.describe()"
      ],
      "metadata": {
        "id": "zotmHZoYDmK0"
      },
      "execution_count": null,
      "outputs": []
    },
    {
      "cell_type": "markdown",
      "source": [
        "### Variables Description:\n"
      ],
      "metadata": {
        "id": "599w6DgHT8kP"
      }
    },
    {
      "cell_type": "markdown",
      "source": [
        "1. **CountryCode**: Code representing the country.\n",
        "2. **SeriesCode**: Code representing the educational series.\n",
        "3. **DESCRIPTION**: Description of the series.\n",
        "4. **Unnamed: 3**: Unnamed variable."
      ],
      "metadata": {
        "id": "pwTGIq2USaoK"
      }
    },
    {
      "cell_type": "markdown",
      "source": [
        "### **Check Unique Values for each variable.**"
      ],
      "metadata": {
        "id": "n-EgcIfdnyU6"
      }
    },
    {
      "cell_type": "code",
      "source": [
        "country_series_unique = df_country_series.nunique()\n",
        "country_series_unique"
      ],
      "metadata": {
        "id": "YqhrOBuEnzuv"
      },
      "execution_count": null,
      "outputs": []
    },
    {
      "cell_type": "markdown",
      "source": [
        "#### **Duplicate Values**"
      ],
      "metadata": {
        "id": "0CdTUocJIfAD"
      }
    },
    {
      "cell_type": "code",
      "source": [
        "df_country_series.duplicated().sum()"
      ],
      "metadata": {
        "id": "P9AjJFsqLHYX"
      },
      "execution_count": null,
      "outputs": []
    },
    {
      "cell_type": "markdown",
      "source": [
        "#### **Missing Values/Null Values**"
      ],
      "metadata": {
        "id": "XU08XxuXLEGl"
      }
    },
    {
      "cell_type": "code",
      "source": [
        "null_country_series = df_country_series.isna().sum()\n",
        "null_country_series"
      ],
      "metadata": {
        "id": "9RePTunIPDPo"
      },
      "execution_count": null,
      "outputs": []
    },
    {
      "cell_type": "code",
      "source": [
        "plt.figure(figsize = (5, 5))\n",
        "sns.barplot(x = null_country_series.values, y = null_country_series.index, palette = 'Set2')\n",
        "plt.xlabel('Null Value Count', fontsize = 14)\n",
        "plt.ylabel('Variables', fontsize = 14)\n",
        "plt.title('Null Values In EdStatsCountry-Series Dataset')"
      ],
      "metadata": {
        "id": "LlAbk7Z7PDAQ"
      },
      "execution_count": null,
      "outputs": []
    },
    {
      "cell_type": "markdown",
      "source": [
        "### **What do you know about EdStatsCountry dataset?**\n",
        "\n",
        "Till now i came to know about my dataset that There Are 613 rows and 4 columns in this dataset.\n",
        "\n",
        "There are no any NaN values in my dataframe except Unnamed: 3 columns, it has all the NaN values.\n",
        "\n",
        "There are 613 rows in this dataset and SP.POP.TOTL this indicator which shows the total population occers for 211 times.\n",
        "\n",
        "There are 211 unique country codes and 21 unique Series Code.\n",
        "\n",
        "There are zero duplicate values present in this dataset."
      ],
      "metadata": {
        "id": "9yWFSsCgrhKq"
      }
    },
    {
      "cell_type": "markdown",
      "source": [
        "## **EdStatsSeries**"
      ],
      "metadata": {
        "id": "GYGlBd2VBOdR"
      }
    },
    {
      "cell_type": "markdown",
      "source": [
        "### **Dataset First View**"
      ],
      "metadata": {
        "id": "37jJxfCgH65T"
      }
    },
    {
      "cell_type": "code",
      "source": [
        "df_series.head(5)"
      ],
      "metadata": {
        "id": "RbzTSD3vEcB_"
      },
      "execution_count": null,
      "outputs": []
    },
    {
      "cell_type": "markdown",
      "source": [
        "### **Dataset Rows & Columns count**"
      ],
      "metadata": {
        "id": "cv1YB3BBFrya"
      }
    },
    {
      "cell_type": "code",
      "source": [
        "df_series.shape"
      ],
      "metadata": {
        "id": "M3tqdQ7bFB8I"
      },
      "execution_count": null,
      "outputs": []
    },
    {
      "cell_type": "markdown",
      "source": [
        "### **Dataset Information**"
      ],
      "metadata": {
        "id": "wX_R9tRMIVEF"
      }
    },
    {
      "cell_type": "code",
      "source": [
        "df_series.info()"
      ],
      "metadata": {
        "id": "sPp_dhjJBS7b"
      },
      "execution_count": null,
      "outputs": []
    },
    {
      "cell_type": "markdown",
      "source": [
        "### ***2. Understanding Your Variables***"
      ],
      "metadata": {
        "id": "2-pzPlINSc68"
      }
    },
    {
      "cell_type": "code",
      "source": [
        "df_series.columns"
      ],
      "metadata": {
        "id": "VPtVY__JSeBe"
      },
      "execution_count": null,
      "outputs": []
    },
    {
      "cell_type": "code",
      "source": [
        "df_series.describe(include = 'object')"
      ],
      "metadata": {
        "id": "UIhrEQkED-H4"
      },
      "execution_count": null,
      "outputs": []
    },
    {
      "cell_type": "code",
      "source": [
        "df_series.describe()"
      ],
      "metadata": {
        "id": "hokqFwOlD923"
      },
      "execution_count": null,
      "outputs": []
    },
    {
      "cell_type": "markdown",
      "source": [
        "### Variables Description:\n"
      ],
      "metadata": {
        "id": "V0LP5JWLT2Wx"
      }
    },
    {
      "cell_type": "markdown",
      "source": [
        "1. **Series Code**: Unique code assigned to each series/indicator.\n",
        "\n",
        "2. **Topic**: Broad topic or category to which the indicator belongs.\n",
        "\n",
        "3. **Indicator Name**: Full name or description of the indicator.\n",
        "\n",
        "4. **Short definition**: Brief and concise definition of the indicator.\n",
        "\n",
        "5. **Long definition**: Detailed and comprehensive definition of the indicator.\n",
        "\n",
        "6. **Unit of measure**: Measurement unit used for the indicator.\n",
        "\n",
        "7. **Periodicity**: Frequency or regularity with which data is collected.\n",
        "\n",
        "8. **Base Period**: Reference period or starting point for the indicator.\n",
        "\n",
        "9. **Other notes**: Additional notes or comments related to the indicator.\n",
        "\n",
        "10. **Aggregation method**: Method used to aggregate data for the indicator.\n",
        "\n",
        "11. **Limitations and exceptions**: Known limitations or exceptions related to the indicator.\n",
        "\n",
        "12. **Notes from original source**: Notes obtained directly from the original data source.\n",
        "\n",
        "13. **General comments**: General comments or remarks about the indicator.\n",
        "\n",
        "14. **Source**: Original source providing the data for the indicator.\n",
        "\n",
        "15. **Statistical concept and methodology**: Concepts and methodologies used in statistical analysis.\n",
        "\n",
        "16. **Development relevance**: Relevance of the indicator to development-related issues.\n",
        "\n",
        "17. **Related source links**: Links to related sources of information.\n",
        "\n",
        "18. **Other web links**: Additional web links associated with the indicator.\n",
        "\n",
        "19. **Related indicators**: Indicators related or connected to the current one.\n",
        "\n",
        "20. **License Type**: Type of license or permission associated with the indicator.\n",
        "\n",
        "21. **Unnamed: 20**: Unnamed variable."
      ],
      "metadata": {
        "id": "JOUaFeWoTLjp"
      }
    },
    {
      "cell_type": "markdown",
      "source": [
        "### **Check Unique Values for each variable.**"
      ],
      "metadata": {
        "id": "sI6A7GJDnfK5"
      }
    },
    {
      "cell_type": "code",
      "source": [
        "series_unique = df_series.nunique()\n",
        "series_unique"
      ],
      "metadata": {
        "id": "_i6mM78HXCZU"
      },
      "execution_count": null,
      "outputs": []
    },
    {
      "cell_type": "markdown",
      "source": [
        "### **Duplicate Values**"
      ],
      "metadata": {
        "id": "a0NpiY5iIdtJ"
      }
    },
    {
      "cell_type": "code",
      "source": [
        "df_series.duplicated().sum()"
      ],
      "metadata": {
        "id": "eYPv_jTnKek6"
      },
      "execution_count": null,
      "outputs": []
    },
    {
      "cell_type": "markdown",
      "source": [
        "### **Missing Values/Null Values**"
      ],
      "metadata": {
        "id": "bb6oVCVLLBeX"
      }
    },
    {
      "cell_type": "code",
      "source": [
        "# Missing Values/Null Values Count\n",
        "\n",
        "null_series = df_series.isna().sum()\n",
        "null_series"
      ],
      "metadata": {
        "id": "sbqwVc-QQGQB"
      },
      "execution_count": null,
      "outputs": []
    },
    {
      "cell_type": "code",
      "source": [
        "# Visualizing the missing values\n",
        "\n",
        "plt.figure(figsize = (8, 5))\n",
        "\n",
        "sns.barplot(x = null_series.values, y = null_series.index, palette = 'Set2')\n",
        "\n",
        "plt.xlabel('Null Value Count', fontsize = 14)\n",
        "plt.ylabel('Variables', fontsize = 14)\n",
        "plt.title('Null Values In EdStatsSeries Dataset')"
      ],
      "metadata": {
        "id": "t7vGy0JcQGDF"
      },
      "execution_count": null,
      "outputs": []
    },
    {
      "cell_type": "markdown",
      "source": [
        "### **What do you know about EdStatsCountry dataset?**\n",
        "There are 3665 rows and 21 columns present in this dataset.\n",
        "\n",
        "In this dataset there is more then 90% of the values are null, only the starting columns have values more the 95% after that there are almost 100% null values in some of the columns.\n",
        "\n",
        "Due to large number of null values, it's showing NaN values for all the arithmatic operation like mean, median, std."
      ],
      "metadata": {
        "id": "O-lJow4Bta-g"
      }
    },
    {
      "cell_type": "markdown",
      "source": [
        "## **EdStatsFootNote**"
      ],
      "metadata": {
        "id": "3JSHTi2gBTgc"
      }
    },
    {
      "cell_type": "markdown",
      "source": [
        "### **Dataset First View**"
      ],
      "metadata": {
        "id": "6dGiOaD-H8Oa"
      }
    },
    {
      "cell_type": "code",
      "source": [
        "df_footnote.head(5)"
      ],
      "metadata": {
        "id": "VGZOTyPAEWs7"
      },
      "execution_count": null,
      "outputs": []
    },
    {
      "cell_type": "markdown",
      "source": [
        "### **Dataset Rows & Columns count**"
      ],
      "metadata": {
        "id": "TWvf7XA-FtvT"
      }
    },
    {
      "cell_type": "code",
      "source": [
        "df_footnote.shape"
      ],
      "metadata": {
        "id": "CNkQ0PKKFF8K"
      },
      "execution_count": null,
      "outputs": []
    },
    {
      "cell_type": "markdown",
      "source": [
        "### **Dataset Information**"
      ],
      "metadata": {
        "id": "G-mp-UqwIWWS"
      }
    },
    {
      "cell_type": "code",
      "source": [
        "df_footnote.info()"
      ],
      "metadata": {
        "id": "e9hRXRi6meOf"
      },
      "execution_count": null,
      "outputs": []
    },
    {
      "cell_type": "markdown",
      "source": [
        "### ***2. Understanding Your Variables***"
      ],
      "metadata": {
        "id": "1qYlm4USSP0T"
      }
    },
    {
      "cell_type": "code",
      "source": [
        "df_footnote.columns"
      ],
      "metadata": {
        "id": "joEAnuCUSSey"
      },
      "execution_count": null,
      "outputs": []
    },
    {
      "cell_type": "code",
      "source": [
        "df_footnote.describe(include = 'object')"
      ],
      "metadata": {
        "id": "4__LyM_xEI6z"
      },
      "execution_count": null,
      "outputs": []
    },
    {
      "cell_type": "code",
      "source": [
        "df_footnote.describe()"
      ],
      "metadata": {
        "id": "sK2wq8JGEIus"
      },
      "execution_count": null,
      "outputs": []
    },
    {
      "cell_type": "markdown",
      "source": [
        "### Variables Description:\n"
      ],
      "metadata": {
        "id": "I7Hnzy7ATs3k"
      }
    },
    {
      "cell_type": "markdown",
      "source": [
        "1. **CountryCode**: Code representing the country.\n",
        "2. **SeriesCode**: Code representing the educational series.\n",
        "3. **Year:** Year associated with the footnote.\n",
        "4. **DESCRIPTION**: Description or content of the footnote.\n",
        "5. **Unnamed: 4**: Unnamed variable."
      ],
      "metadata": {
        "id": "QtYEXzOQTgU6"
      }
    },
    {
      "cell_type": "markdown",
      "source": [
        "### **Check Unique Values for each variable.**"
      ],
      "metadata": {
        "id": "QGQJ7kNjWiDl"
      }
    },
    {
      "cell_type": "code",
      "source": [
        "footnote_unique = df_footnote.nunique()\n",
        "footnote_unique"
      ],
      "metadata": {
        "id": "8QuMGeboWjCD"
      },
      "execution_count": null,
      "outputs": []
    },
    {
      "cell_type": "markdown",
      "source": [
        "#### **Duplicate Values**"
      ],
      "metadata": {
        "id": "35m5QtbWiB9F"
      }
    },
    {
      "cell_type": "code",
      "source": [
        "df_footnote.duplicated().sum()"
      ],
      "metadata": {
        "id": "1sLdpKYkmox0"
      },
      "execution_count": null,
      "outputs": []
    },
    {
      "cell_type": "markdown",
      "source": [
        "#### **Missing Values/Null Values**"
      ],
      "metadata": {
        "id": "PoPl-ycgm1ru"
      }
    },
    {
      "cell_type": "code",
      "source": [
        "# Missing Values/Null Values Count\n",
        "null_footnote = df_footnote.isnull().sum()\n",
        "null_footnote"
      ],
      "metadata": {
        "id": "GgHWkxvamxVg"
      },
      "execution_count": null,
      "outputs": []
    },
    {
      "cell_type": "code",
      "source": [
        "# Visualizing the missing values\n",
        "plt.figure(figsize = (8, 5))\n",
        "sns.barplot(x = null_footnote.values, y = null_footnote.index, palette = 'Set2')\n",
        "plt.xlabel('Null Value Count', fontsize = 14)\n",
        "plt.ylabel('Variables', fontsize = 14)\n",
        "plt.title('Null Values In EdStatsFootNote Dataset')"
      ],
      "metadata": {
        "id": "3q5wnI3om9sJ"
      },
      "execution_count": null,
      "outputs": []
    },
    {
      "cell_type": "markdown",
      "source": [
        "### **What do you know about EdStatsCountry dataset?**\n",
        "There are 643638 rows and 5 columns, This dataset does'nt have any NaN values axcept the column Unnamed: 4 Which contains All the NaN values.\n",
        "\n",
        "There are 239 Countries data present in this dataset, and there are 1558 unique SeriesCode in this dataset.\n",
        "\n",
        "Data of 56 years are present in this dataset."
      ],
      "metadata": {
        "id": "YsKGQ2r1vO63"
      }
    },
    {
      "cell_type": "markdown",
      "source": [
        "# 3. ***Data Wrangling***"
      ],
      "metadata": {
        "id": "dauF4eBmngu3"
      }
    },
    {
      "cell_type": "markdown",
      "source": [
        "In our dataset, we encounter various indicators such as total population, literacy rates, government expenditure, and a country's GDP, among others. To address different problem statements, a repetitive process involves extracting data for a specific indicator, cleaning the DataFrame by dropping columns with all NaN values, filling missing values using the linear interpolation method in both directions, and handling outliers using the IQR method. To streamline and enhance our workflow, we aim to develop functions that facilitate these tasks. These functions will provide a systematic approach to extract indicator-specific data, perform efficient data cleaning, and handle outliers consistently across multiple problem statements, contributing to a more organized and robust exploratory data analysis (EDA) process."
      ],
      "metadata": {
        "id": "FstYtIHM8N1w"
      }
    },
    {
      "cell_type": "markdown",
      "source": [
        "### **EdStatsData**"
      ],
      "metadata": {
        "id": "b_d3BlKCrmKH"
      }
    },
    {
      "cell_type": "code",
      "source": [
        "def data_extractor(df_data, indicator):\n",
        "    \"\"\"\n",
        "    Extract and clean data based on a single indicator or a list of indicators.\n",
        "\n",
        "    Parameters:\n",
        "    - df_data (DataFrame): The input DataFrame containing the data.\n",
        "    - indicator (str or list): The indicator code or list of indicator codes to filter the data.\n",
        "\n",
        "    Returns:\n",
        "    - df (DataFrame): The cleaned DataFrame after extraction.\n",
        "    \"\"\"\n",
        "    # Step 1: Filter based on single 'Indicator Code'\n",
        "    if isinstance(indicator, str):\n",
        "        df = df_data[df_data['Indicator Code'] == indicator].copy()\n",
        "        # Drop unnecessary columns\n",
        "        df.drop(['Country Code', 'Indicator Name', 'Indicator Code'], axis=1, inplace=True)\n",
        "\n",
        "    # Step 1: Filter based on list of 'Indicator Code'\n",
        "    elif isinstance(indicator, list):\n",
        "        df = df_data[df_data['Indicator Code'].isin(indicator)].copy()\n",
        "        # Drop unnecessary columns\n",
        "        df.drop(['Country Code', 'Indicator Name'], axis=1, inplace=True)\n",
        "\n",
        "    # Step 5: Drop columns with all NaN values\n",
        "    df.dropna(axis=1, how='all', inplace=True)\n",
        "    return df\n",
        "\n",
        "\n",
        "def data_cleaner(df, thres):\n",
        "    \"\"\"\n",
        "    Clean and preprocess the DataFrame by handling missing values and outliers.\n",
        "\n",
        "    Parameters:\n",
        "    - df (DataFrame): The input DataFrame to be cleaned.\n",
        "    - thres (int): The threshold for dropping rows with fewer non-NaN values.\n",
        "\n",
        "    Returns:\n",
        "    - df (DataFrame): The cleaned and preprocessed DataFrame.\n",
        "    \"\"\"\n",
        "    # Drop columns with all null values\n",
        "    df.dropna(axis=1, how='all', inplace=True)\n",
        "\n",
        "    # Step 6: Drop rows with fewer than 'thres' non-NaN values\n",
        "    df.dropna(axis=0, thresh=thres, inplace=True)\n",
        "\n",
        "    # Step 7: Transpose the DataFrame\n",
        "    df = df.T.copy()\n",
        "    df.columns = df.iloc[0]\n",
        "    df = df.iloc[1:]\n",
        "\n",
        "    # Step 8: Change the datatype of years to datetime\n",
        "    df.index = pd.to_datetime(df.index, format=\"%Y\").year\n",
        "\n",
        "    # Step 9: Change the datatype of the columns before filling the missing values\n",
        "    df = df.astype(float)\n",
        "\n",
        "    # Step 10: Interpolate missing values\n",
        "    df.interpolate(method='linear', limit_direction='both', inplace=True)\n",
        "\n",
        "    # Step 12: Transpose the dataframe back to its original shape\n",
        "    df = df.transpose()\n",
        "\n",
        "    # Step 13: Return DataFrame\n",
        "    return df\n",
        "\n",
        "\n",
        "def handle_outliers(df):\n",
        "    \"\"\"\n",
        "    Handle outliers in the DataFrame by replacing them with the median.\n",
        "\n",
        "    Parameters:\n",
        "    - df (DataFrame): The input DataFrame.\n",
        "\n",
        "    Returns:\n",
        "    - df (DataFrame): The DataFrame with outliers handled.\n",
        "    \"\"\"\n",
        "    # Step 1: Calculate the IQR of the data\n",
        "    Q1 = np.percentile(df, 25)  # First quartile (Q1)\n",
        "    Q3 = np.percentile(df, 75)  # Third quartile (Q3)\n",
        "    IQR = Q3 - Q1  # Interquartile range (IQR)\n",
        "\n",
        "    # Step 2: Define the outlier thresholds\n",
        "    lower_threshold = Q1 - 1.5 * IQR\n",
        "    upper_threshold = Q3 + 1.5 * IQR\n",
        "\n",
        "    # Step 3: Identify the outliers\n",
        "    outliers = (df < lower_threshold) | (df > upper_threshold)\n",
        "\n",
        "    # Step 4: Replace the outliers with the median of the data\n",
        "    df[outliers] = np.median(df)\n",
        "\n",
        "    return df\n",
        "\n",
        "\n",
        "def melt(df, id_var, var_names, value_names):\n",
        "    \"\"\"\n",
        "    Reshape the DataFrame using the melt function.\n",
        "\n",
        "    Parameters:\n",
        "    - df (DataFrame): The input DataFrame to be reshaped.\n",
        "    - id_var (str): The variable to keep as identifier.\n",
        "    - var_names (str): The variable names to be created from columns.\n",
        "    - value_names (str): The variable names for values in the melted DataFrame.\n",
        "\n",
        "    Returns:\n",
        "    - df (DataFrame): The reshaped DataFrame.\n",
        "    \"\"\"\n",
        "    df = pd.melt(df, id_vars=id_var, var_name=var_names, value_name=value_names)\n",
        "    return df\n",
        "\n"
      ],
      "metadata": {
        "id": "oAMuv8zxvVdc"
      },
      "execution_count": null,
      "outputs": []
    },
    {
      "cell_type": "markdown",
      "source": [
        "##**Explaination of the above function.**\n",
        "###**data_extractor Function:**\n",
        "\n",
        "  **Purpose**: Extract and clean data based on a single indicator or a list of indicators.\n",
        "\n",
        "**Parameters:**\n",
        "\n",
        "    **df_data (DataFrame)**: The input DataFrame containing the data.\n",
        "\n",
        "    **indicator (str or list)**: The indicator code or list of indicator codes to filter the data.\n",
        "\n",
        "**Returns:**\n",
        "\n",
        "    **df (DataFrame)**: The cleaned DataFrame after extraction.\n",
        "\n",
        "**Detailed Explanation:**\n",
        "1. This function is designed to facilitate the extraction of relevant data for specific indicators, providing a focused subset for analysis.\n",
        "2. By accepting either a single indicator or a list of indicators, it accommodates flexibility in data selection, enabling targeted exploration.\n",
        "3. The removal of unnecessary columns ('Country Code', 'Indicator Name', and 'Indicator Code') streamlines the dataset for improved clarity and efficiency.\n",
        "\n",
        "\n",
        "###**data_cleaner Function:**\n",
        "\n",
        "  **Purpose:** Clean and preprocess the DataFrame by handling missing values and outliers.\n",
        "\n",
        "**Parameters:**\n",
        "\n",
        "    **df (DataFrame):** The input DataFrame to be cleaned.\n",
        "\n",
        "    **thres (int)**: The threshold for dropping rows with fewer non-NaN values.\n",
        "\n",
        "**Returns:**\n",
        "\n",
        "    **df (DataFrame)**: The cleaned and preprocessed DataFrame.\n",
        "\n",
        "**Detailed Explanation:**\n",
        "1. The function serves a crucial role in data preprocessing, addressing missing values and outliers to enhance the quality of the dataset.\n",
        "2. Rows with fewer than a specified threshold of non-NaN values are dropped, ensuring data integrity and completeness.\n",
        "3. Transposing the DataFrame and converting years to datetime format facilitate time-based analyses, aligning with common EDA practices.\n",
        "4. Interpolation using a linear method helps fill missing values, preserving the temporal structure of the data.\n",
        "\n",
        "###**handle_outliers Function:**\n",
        "\n",
        "\n",
        "  **Purpose:** Handle outliers in the DataFrame by replacing them with the median.\n",
        "\n",
        "**Parameters:**\n",
        "\n",
        "    **df (DataFrame)**: The input DataFrame.\n",
        "**Returns:**\n",
        "\n",
        "    **df (DataFrame):** The DataFrame with outliers handled.\n",
        "\n",
        "**Detailed Explanation:**\n",
        "1. Focused on ensuring data quality, this function specifically addresses outliers using a robust statistical approach based on the IQR.\n",
        "2. Outliers are identified and replaced with the median of the data, reducing the impact of extreme values on statistical analyses.\n",
        "3. This contributes to the generation of more reliable insights and visualizations by mitigating the influence of potentially skewed data points.\n",
        "\n",
        "###**melt Function:**\n",
        "\n",
        "  **Purpose:** Reshape the DataFrame using the melt function.\n",
        "\n",
        "**Parameters:**\n",
        "\n",
        "    **df (DataFrame)**: The input DataFrame to be reshaped.\n",
        "\n",
        "    **id_var (str)**: The variable to keep as an identifier.\n",
        "\n",
        "    **var_names (str)**: The variable names to be created from columns.\n",
        "\n",
        "    **value_names (str)**: The variable names for values in the melted DataFrame.\n",
        "\n",
        "**Returns:**\n",
        "\n",
        "    **df (DataFrame)**: The reshaped DataFrame.\n",
        "\n",
        "**Detailed Explanation:**\n",
        "1. The function reshapes the DataFrame to a long format using the pd.melt function, aiding in visual exploration and analysis.\n",
        "2. It is particularly useful for creating tidy data structures suitable for various plotting libraries and statistical analyses.\n",
        "3. The reshaped DataFrame facilitates the creation of visualizations, making it easier to discern patterns and trends in the data.\n",
        "\n",
        "These functions provide a modular and systematic approach to handling different aspects of data preprocessing, ensuring consistency and reusability throughout the EDA process. The data_extractor function allows for flexible data extraction based on indicators, while data_cleaner ensures the dataset is appropriately cleaned and missing values are handled. The handle_outliers function focuses on addressing outliers using the Interquartile Range (IQR) method, and the melt function reshapes the DataFrame for better visualization and analysis.\n",
        "\n",
        "\n",
        "Overall, these functions contribute to a streamlined and efficient EDA workflow, setting the groundwork for insightful data exploration and analysis in the World Bank Global Education Analysis dataset.\n",
        "\n",
        "\n",
        "\n",
        "\n",
        "\n"
      ],
      "metadata": {
        "id": "QMvFvB-lALEh"
      }
    },
    {
      "cell_type": "markdown",
      "source": [
        "#### **Note**: **Selection of the countries is based on the accuracy of the data and presence of non NaN value, I've selected countries, regions and income groups only after seeing that which category has more ammount of non NaN values and then i've selected the countries, regions or income groups.**"
      ],
      "metadata": {
        "id": "3E_-BEkfM-Jl"
      }
    },
    {
      "cell_type": "markdown",
      "source": [
        "# ***4. Data Vizualization, Storytelling & Experimenting with charts : Understand the relationships between variables***"
      ],
      "metadata": {
        "id": "QApxngGkYlf5"
      }
    },
    {
      "cell_type": "markdown",
      "source": [
        "## **1. Literacy Rate Disparities: Analyze the literacy rate disparities between genders (e.g., adult male vs. adult female) in different countries.**"
      ],
      "metadata": {
        "id": "N1xL-0vE6FrJ"
      }
    },
    {
      "cell_type": "code",
      "source": [
        "countries = ['India', 'Afghanistan', 'Pakistan', 'Nepal', 'Bangladesh', 'China', 'France', 'USA', 'Japan', 'Canada', 'Great Britain', 'South Africa']\n",
        "years = ['1970', '1975', '1980', '1985', '1990', '1995', '2000', '2005', '2010', '2015']"
      ],
      "metadata": {
        "id": "0vciR-NCIg-X"
      },
      "execution_count": null,
      "outputs": []
    },
    {
      "cell_type": "code",
      "source": [
        "# Write your code to make your dataset analysis ready.\n",
        "# Let's find the releted indicators.\n",
        "# Check for the indicatore which is required for our analysis using regular expression.\n",
        "df_data[df_data['Indicator Name'].str.contains('Adult literacy rate', regex = True)]\n"
      ],
      "metadata": {
        "id": "wk-9a2fpoLcV"
      },
      "execution_count": null,
      "outputs": []
    },
    {
      "cell_type": "markdown",
      "source": [
        "**Purpose**: This line filters the original dataset (df_data) to include only rows where the \"Indicator Name\" column contains the substring 'Adult literacy rate'. This is done using a regular expression."
      ],
      "metadata": {
        "id": "gsC_x5dQHqaa"
      }
    },
    {
      "cell_type": "code",
      "source": [
        "# Let's extract the data of the related indicator by using the data_extractor function.\n",
        "df_gpi = data_extractor(df_data, 'UIS.LR.AG15T99.GPI')\n",
        "\n",
        "# Showing the top 5 rows of the dataframe.\n",
        "df_gpi.head(5)"
      ],
      "metadata": {
        "id": "uJiaysv0FzWA"
      },
      "execution_count": null,
      "outputs": []
    },
    {
      "cell_type": "markdown",
      "source": [
        "**Purpose:** The data_extractor function is used to extract data for a specific indicator code ('UIS.LR.AG15T99.GPI' in this case) from the original dataset. This function performs filtering and drops unnecessary columns."
      ],
      "metadata": {
        "id": "HCbkZLYXHtQ_"
      }
    },
    {
      "cell_type": "code",
      "source": [
        "# Filter the data of the countries which we need for this analysis.\n",
        "df_gpi = df_gpi[df_gpi['Country Name'].isin(['Afghanistan', 'Bangladesh', 'China', 'India', 'Nepal', 'Pakistan', 'South Africa'])].copy()\n",
        "\n",
        "# Clean the dataframe and fill the missing values by using the function data_cleaner.\n",
        "df_gpi = data_cleaner(df_gpi, 0)\n",
        "\n",
        "# Showing the top 5 rows of the dataframe.\n",
        "df_gpi.head(5)"
      ],
      "metadata": {
        "id": "-0ANZqFxuKSG"
      },
      "execution_count": null,
      "outputs": []
    },
    {
      "cell_type": "markdown",
      "source": [
        "**Purpose**:\n",
        "1. The code filters the extracted data (df_gpi) to include only rows related to specific countries of interest ('Afghanistan', 'Bangladesh', 'China', 'India', 'Nepal', 'Pakistan', 'South Africa').\n",
        "2. The data_cleaner function is employed to clean the dataframe (df_gpi). It drops columns with all NaN values, transposes the dataframe, changes the datatype of years to datetime, interpolates missing values using a linear method, and transposes the dataframe back to its original shape."
      ],
      "metadata": {
        "id": "FX3s6jOfH0Ls"
      }
    },
    {
      "cell_type": "code",
      "source": [
        "# Handle the outliers by using the function handle_outliers.\n",
        "df_gpi = handle_outliers(df_gpi)\n",
        "\n",
        "# Showing the top 5 rows of the dataframe.\n",
        "df_gpi.head(5)"
      ],
      "metadata": {
        "id": "JRVbt1JsuWux"
      },
      "execution_count": null,
      "outputs": []
    },
    {
      "cell_type": "markdown",
      "source": [
        "**Purpose:** The handle_outliers function is applied to handle outliers in the dataframe (df_gpi) by replacing them with the median of the data."
      ],
      "metadata": {
        "id": "4D3e8YVTINjk"
      }
    },
    {
      "cell_type": "code",
      "source": [
        "# # Create line plots for each country to visualize youth literacy rate trends over time\n",
        "# Set the figure size\n",
        "plt.figure(figsize=(12, 8))\n",
        "\n",
        "# Rotate the x-axis labels to prevent overlap\n",
        "plt.xticks(rotation=90)\n",
        "\n",
        "# Loop through each country in the index of the dataframe\n",
        "for country in df_gpi.index:\n",
        "    # Get the data for the current country\n",
        "    data = df_gpi.loc[country]\n",
        "\n",
        "    # Create a line plot for the data with markers\n",
        "    sns.lineplot(x=data.index, y=data.values, label=country, marker='o')\n",
        "\n",
        "# Set the x-axis label\n",
        "plt.xlabel('Year', fontsize=14)\n",
        "\n",
        "# Set the y-axis label\n",
        "plt.ylabel('Gender Parity Index', fontsize=14)\n",
        "\n",
        "# Set the title of the plot\n",
        "plt.title('Literacy Rate Disparity Over Time', fontsize=16, fontweight='bold')\n",
        "\n",
        "# Display the legend with the title and adjust its position\n",
        "plt.legend(title='Country', bbox_to_anchor=(1, 1))\n",
        "\n",
        "# Show the plot\n",
        "plt.show()\n"
      ],
      "metadata": {
        "id": "M0arUNr-GJd7"
      },
      "execution_count": null,
      "outputs": []
    },
    {
      "cell_type": "markdown",
      "source": [
        "##### 1. **Why did you pick the specific chart?**"
      ],
      "metadata": {
        "id": "vNopMlWdZOYK"
      }
    },
    {
      "cell_type": "markdown",
      "source": [
        "Ans. I selected this chart due to the nature of my data, which is predominantly Time-Series data. In the context of Time-Series analysis, a line plot will serves as an optimal visualization method to depict trends and patterns of Gender Parity Index over time in different countries.\n",
        "\n"
      ],
      "metadata": {
        "id": "F-LZK1biLHBC"
      }
    },
    {
      "cell_type": "markdown",
      "source": [
        "##### 2. **What is/are the insight(s) found from the chart?**"
      ],
      "metadata": {
        "id": "gOpjUzL8ZtbS"
      }
    },
    {
      "cell_type": "markdown",
      "source": [
        "1. The Gender Parity Index (GPI) is a crucial metric for assessing gender-based disparities in literacy rates. A GPI of 1 indicates parity, values between 0 and 1 suggest a male-favorable disparity, while values greater than 1 indicate a female-favorable disparity.\n",
        "\n",
        "2. Notably, Afghanistan exhibits a stark gender disparity in literacy rates, with a very low GPI in 1980, indicating limited access to education for women. This highlights a critical need for focused interventions to address gender inequalities in education.\n",
        "\n",
        "3. Nepal, initially experiencing high gender disparities in 1980 (GPI ~ 0.3), demonstrates significant progress by 2015, with the GPI increasing to 0.68. While improvements are evident, sustained efforts are required to achieve full gender equality.\n",
        "\n",
        "4. In Pakistan, although gender disparities were comparatively lower in 1980 (GPI ~ 0.41), they persist, decreasing only slightly to 0.62 by 2015. Addressing these persistent disparities remains a priority to enhance educational inclusivity.\n",
        "\n",
        "5. India exhibits a similar trend with high gender disparities in 1980, gradually decreasing over time. This suggests ongoing efforts to improve gender equality in education, reflecting positive strides.\n",
        "\n",
        "6. Bangladesh demonstrates a notable reduction in gender disparities, progressing to an approximate GPI of 0.9. While commendable, continued initiatives are crucial to further narrow the gender gap in literacy rates.\n",
        "\n",
        "7. South Africa maintains a relatively constant gender disparity in literacy rates, fluctuating between 0.94 and 0.97. This suggests a need for targeted strategies to address and minimize persistent gender-based gaps in education.\n"
      ],
      "metadata": {
        "id": "hjgF_sepZugG"
      }
    },
    {
      "cell_type": "markdown",
      "source": [
        "##### 3. **Will the gained insights help creating a positive business impact?**\n",
        "**Are there any insights that lead to negative growth? Justify with specific reason.**"
      ],
      "metadata": {
        "id": "qLQMXtkwtGXd"
      }
    },
    {
      "cell_type": "markdown",
      "source": [
        "####**Positive Impact on Education:**\n",
        "\n",
        "Progress in Gender Equality: The positive strides in Nepal, India, and Bangladesh indicate that sustained efforts and targeted interventions can lead to significant progress in achieving gender equality in education.\n",
        "\n",
        "####**Negative Impact on Education:**\n",
        "\n",
        "Persistent Disparities: Afghanistan, Pakistan, and South Africa show persistent or slow improvements in gender disparities. This highlights the challenges in addressing deeply rooted issues and the need for more comprehensive strategies to promote inclusivity in education."
      ],
      "metadata": {
        "id": "p7o2TdtStGBm"
      }
    },
    {
      "cell_type": "markdown",
      "source": [
        "## **2: Youth Literacy Progress: Investigate the change in youth literacy rates over time and assess whether these changes are consistent across countries.**"
      ],
      "metadata": {
        "id": "ZFKHV7fymH57"
      }
    },
    {
      "cell_type": "code",
      "source": [
        "# Check for the indicatore which is required for our analysis using regular expression.\n",
        "df_data[df_data['Indicator Name'].str.contains('Youth literacy rate', regex = True)]"
      ],
      "metadata": {
        "id": "zDpxX-LyLwcr"
      },
      "execution_count": null,
      "outputs": []
    },
    {
      "cell_type": "code",
      "source": [
        "# List of countries name for this analysis.\n",
        "countries_2 = ['Heavily indebted poor countries (HIPC)', 'Least developed countries: UN classification', 'Low income', 'Lower middle income', 'Middle income', 'Upper middle income']\n"
      ],
      "metadata": {
        "id": "EntMfHKkN2O1"
      },
      "execution_count": null,
      "outputs": []
    },
    {
      "cell_type": "code",
      "source": [
        "# Let's extract the data of the related indicator by using the data_extractor function.\n",
        "df_ylr = data_extractor(df_data, 'SE.ADT.1524.LT.ZS')\n",
        "\n",
        "# Showing the top 5 rows of the dataframe.\n",
        "df_ylr.head(5)"
      ],
      "metadata": {
        "id": "Ac47cZjXNXPy"
      },
      "execution_count": null,
      "outputs": []
    },
    {
      "cell_type": "code",
      "source": [
        "# Filter the data of the countries which we need for this analysis.\n",
        "df_ylr = df_ylr[df_ylr['Country Name'].isin(countries_2)].copy()\n",
        "\n",
        "# Clean the dataframe and fill the missing values by using the function data_cleaner.\n",
        "df_ylr = data_cleaner(df_ylr, 31)\n",
        "\n",
        "# Showing the top 5 rows of the dataframe.\n",
        "df_ylr.head(5)"
      ],
      "metadata": {
        "id": "CKT3O1hpvf5_"
      },
      "execution_count": null,
      "outputs": []
    },
    {
      "cell_type": "code",
      "source": [
        "# Handle the outliers by using the function handle_outliers.\n",
        "df_ylr = handle_outliers(df_ylr)\n",
        "\n",
        "# Resetting index.\n",
        "df_ylr = df_ylr.reset_index()\n",
        "\n",
        "\n",
        "# Showing the top 5 rows of the dataframe.\n",
        "df_ylr.head(5)"
      ],
      "metadata": {
        "id": "MV79QOHFvfo4"
      },
      "execution_count": null,
      "outputs": []
    },
    {
      "cell_type": "code",
      "source": [
        "years = [1985, 1990, 1995, 2000, 2005, 2010]     # years before 1985 and after 2010 are having null values more then 70% thats why i'm dropping these years.\n",
        "\n",
        "# Changing the same of the dataframe by using melt function which we have defined earlier.\n",
        "df_ylr_melt = melt(df_ylr, ['Country Name'], 'Years', 'Values')\n",
        "\n",
        "# Fileter the dataframe for the requiered years.\n",
        "df_ylr_1= df_ylr_melt[df_ylr_melt['Years'].isin(years)]\n",
        "\n",
        "# Showing the top 5 rows of the dataframe.\n",
        "df_ylr_1.head(5)"
      ],
      "metadata": {
        "id": "UrS2efyDxGiW"
      },
      "execution_count": null,
      "outputs": []
    },
    {
      "cell_type": "markdown",
      "source": [
        "#### **Explanation:**\n",
        "\n",
        "1. **Data Extraction**: The code starts by extracting data for the 'SE.ADT.1524.LT.ZS' indicator using the data_extractor function.\n",
        "\n",
        "2. **Country Filtering**: It then filters the data to include only the specified countries from the countries_2 list.\n",
        "\n",
        "3. **Data Cleaning**: The dataframe is cleaned by handling missing values (using data_cleaner function with a threshold of 31) and outliers (using handle_outliers function).\n",
        "\n",
        "4. **Resetting Index**: The index is reset to ensure a clean index for further processing.\n",
        "\n",
        "5. **Selecting Specific Years**: The code selects specific years (1985, 1990, 1995, 2000, 2005, 2010) for analysis, dropping others due to significant null values.\n",
        "\n",
        "6. **Melting Dataframe**: The dataframe is melted to reshape it for better visualization or analysis, creating a new dataframe (df_ylr_melt).\n",
        "\n",
        "7. **Filtering for Analysis**: Finally, the code filters the melted dataframe (df_ylr_melt) for the required years, resulting in the final dataframe (df_ylr_1) ready for further exploration or visualization."
      ],
      "metadata": {
        "id": "JI3rOxsUfHLA"
      }
    },
    {
      "cell_type": "code",
      "source": [
        "# Set the figure size\n",
        "plt.figure(figsize=(18, 6))\n",
        "\n",
        "# Create a bar plot using Seaborn\n",
        "sns.barplot(data=df_ylr_1, x='Years', y='Values', hue='Country Name', palette='tab20')\n",
        "\n",
        "# Set the x-axis label\n",
        "plt.xlabel('Years', fontsize=18)\n",
        "\n",
        "# Set the y-axis label\n",
        "plt.ylabel('Literacy Rate(%)', fontsize=18)\n",
        "\n",
        "# Set the title of the plot with a specific location and font weight\n",
        "plt.title('Youth Literacy Rate(%)', fontsize=22, loc='left', fontweight='bold')\n",
        "\n",
        "# Add a legend with a specific title and adjust its position\n",
        "plt.legend(title='Countries With Economic Background', bbox_to_anchor=(1, 1.4)).get_title().set_fontweight('bold')\n",
        "\n",
        "# Show the plot\n",
        "plt.show()\n",
        "\n"
      ],
      "metadata": {
        "id": "hmaYcScF6_Rn"
      },
      "execution_count": null,
      "outputs": []
    },
    {
      "cell_type": "markdown",
      "source": [
        "**Why did you pick the specific chart?**"
      ],
      "metadata": {
        "id": "Siz0L6c4Tfl0"
      }
    },
    {
      "cell_type": "markdown",
      "source": [
        "I have chosen this chart to compare the literacy rates of different economic groups based on the specific insights I aim to derive from the data. The objective is to compare data across various countries over different years, necessitating a visual representation that can effectively convey these comparative analyses."
      ],
      "metadata": {
        "id": "gn3B1Th2Tja_"
      }
    },
    {
      "cell_type": "markdown",
      "source": [
        "**What is/are the insight(s) found from the chart?**"
      ],
      "metadata": {
        "id": "5fZIdJmATkC0"
      }
    },
    {
      "cell_type": "markdown",
      "source": [
        "As observed in the plot, there is a clear correlation between literacy rates and income levels. Countries with low income exhibit significantly lower literacy rates, while high-income countries consistently have the highest literacy rates.\n",
        "\n",
        "A noteworthy trend is the improvement in literacy rates for the least developed countries (UN classified) compared to the Highly Indebted Poor Countries (HIPC) in the initial years until 1990. However, this situation reverses post-1990, emphasizing the need for targeted strategies for specific country groups.\n",
        "\n",
        "The overall positive trajectory in literacy rates across all income groups over time suggests progress. It underscores the importance of continued efforts to enhance educational accessibility and quality.\n",
        "\n",
        "The key takeaway is the crucial role of government investment in education. Higher literacy rates contribute to national progress, creating a positive feedback loop where an educated population fosters economic and societal development"
      ],
      "metadata": {
        "id": "4tqBnaZZTl8o"
      }
    },
    {
      "cell_type": "code",
      "source": [
        "# Assuming that your new index column is named 'index'\n",
        "# Set the figure size\n",
        "plt.figure(figsize=(12, 8))\n",
        "\n",
        "# Rotate the x-axis labels to improve readability\n",
        "plt.xticks(rotation=30)\n",
        "\n",
        "# Create a line plot using Seaborn\n",
        "sns.lineplot(data=df_ylr_melt, x='Years', y='Values', hue='Country Name', marker='o')\n",
        "\n",
        "# Set the x-axis label\n",
        "plt.xlabel('Year', fontsize=14)\n",
        "\n",
        "# Set the y-axis label\n",
        "plt.ylabel('Youth Literacy Rate (%)', fontsize=14)\n",
        "\n",
        "# Set the title of the plot with a specific location and font weight\n",
        "plt.title('Youth Literacy Rate Over Time', fontsize=18, loc='right', fontweight='bold')\n",
        "\n",
        "# Add a legend with a specific title and adjust its position\n",
        "plt.legend(title='Countries Based on Economic Background', bbox_to_anchor=(1, 1)).get_title().set_fontweight('bold')\n",
        "\n",
        "# Show the plot\n",
        "plt.show()\n"
      ],
      "metadata": {
        "id": "hbBHneip2zW1"
      },
      "execution_count": null,
      "outputs": []
    },
    {
      "cell_type": "markdown",
      "source": [
        "**Why did you pick the specific chart?**"
      ],
      "metadata": {
        "id": "RxiH1_7ZTudI"
      }
    },
    {
      "cell_type": "markdown",
      "source": [
        "I selected this chart due to the nature of my data, which is predominantly Time-Series data. In the context of Time-Series analysis, a line plot will serves as an optimal visualization method to depict trends and patterns of Youth literacy rate over time in different Economic group."
      ],
      "metadata": {
        "id": "6ztPyhy5TuOB"
      }
    },
    {
      "cell_type": "markdown",
      "source": [
        "**What is/are the insight(s) found from the chart?**"
      ],
      "metadata": {
        "id": "KuywN1PoTt6y"
      }
    },
    {
      "cell_type": "markdown",
      "source": [
        "The data, collected at 10-year intervals for literacy rates, reinforces the overall positive trend of increasing literacy rates over time. This aligns with the global progress in education.\n",
        "\n",
        "However, the analysis emphasizes the necessity for governments to intensify their focus on education. While there is a positive trajectory, additional efforts and investments are essential to further boost literacy rates. Education remains a cornerstone for societal advancement, and sustained governmental commitment is imperative for continued progress."
      ],
      "metadata": {
        "id": "0ZMWb1RWTtqo"
      }
    },
    {
      "cell_type": "markdown",
      "source": [
        "##### 3. **Will the gained insights help creating a positive business impact?**\n",
        "**Are there any insights that lead to negative growth? Justify with specific reason.**"
      ],
      "metadata": {
        "id": "2xCDbXXMtw1H"
      }
    },
    {
      "cell_type": "markdown",
      "source": [
        "####**Positive Impact on Education:**\n",
        "\n",
        "**Global Progress in Literacy**: The positive trend in literacy rates reflects global advancements in education, showcasing an increasing emphasis on literacy as a key component of societal development.\n",
        "####**Negative Impact on Education:**\n",
        "\n",
        "**Need for Continued Efforts**: The call for increased government focus implies that, despite the positive trend, there are challenges and areas that require more attention. The insight suggests that if the current trajectory is not complemented by intensified efforts, the full potential for improvement in literacy rates may not be realized."
      ],
      "metadata": {
        "id": "E8QLsqcctvjQ"
      }
    },
    {
      "cell_type": "markdown",
      "source": [
        "##  **3: Gender Gap in Youth Literacy: Examine the gender gap in youth literacy rates and determine if there has been progress in closing this gap.**"
      ],
      "metadata": {
        "id": "bZTPmIrD65-n"
      }
    },
    {
      "cell_type": "code",
      "source": [
        "# Check for the indicatore which is required for our analysis using regular expression.\n",
        "df_data[df_data['Indicator Name'].str.contains('Youth literacy rate', regex = True)]"
      ],
      "metadata": {
        "id": "hYqfBL_F7K1e"
      },
      "execution_count": null,
      "outputs": []
    },
    {
      "cell_type": "code",
      "source": [
        "# List of countries.\n",
        "countries_3 = ['Heavily indebted poor countries (HIPC)', 'Least developed countries: UN classification', 'Low income', 'Lower middle income', 'Middle income', 'Upper middle income']\n",
        "\n",
        "# List of required indicaotrs.\n",
        "indi_list = ['SE.ADT.1524.LT.MA.ZS', 'SE.ADT.1524.LT.FE.ZS']\n",
        "\n",
        "# Filter the DataFrame to only include rows with the specified indicator codes\n",
        "df_GG = data_extractor(df_data, indi_list)\n",
        "\n",
        "# Group the DataFrame by 'Indicator Code' and 'Country Name', and calculate the mean\n",
        "df_GG = df_GG.groupby(['Indicator Code', 'Country Name']).mean()\n",
        "\n",
        "# Transpose the DataFrame to swap the rows and columns\n",
        "df_GG = df_GG.T\n",
        "\n",
        "# Display the first 5 rows of the DataFrame\n",
        "df_GG.head(5)\n"
      ],
      "metadata": {
        "id": "V2dBTY_sCzAy"
      },
      "execution_count": null,
      "outputs": []
    },
    {
      "cell_type": "code",
      "source": [
        "# Drop rows and columns that only contain NaN values\n",
        "df_GG.dropna(axis=0, how='all', inplace=True)\n",
        "df_GG.dropna(axis=1, how='all', inplace=True)\n",
        "\n",
        "# Display the first 5 rows of the DataFrame\n",
        "df_GG.head(5)"
      ],
      "metadata": {
        "id": "RvZ4laId4k-G"
      },
      "execution_count": null,
      "outputs": []
    },
    {
      "cell_type": "code",
      "source": [
        "# Convert the index to datetime format and extract the year\n",
        "df_GG.index = pd.to_datetime(df_GG.index, format='%Y').year\n",
        "\n",
        "# Divide the DataFrame by 100 to convert the values to percentages\n",
        "df_GG = df_GG / 100\n",
        "\n",
        "# Calculate the absolute difference between the two indicators\n",
        "df_GG = (abs(df_GG['SE.ADT.1524.LT.MA.ZS'] - df_GG['SE.ADT.1524.LT.FE.ZS'])) * 100\n",
        "\n",
        "# Display the first 5 rows of the DataFrame\n",
        "df_GG.head(5)"
      ],
      "metadata": {
        "id": "fmtLs9GE4k1p"
      },
      "execution_count": null,
      "outputs": []
    },
    {
      "cell_type": "code",
      "source": [
        "# Transpose the DataFrame again to swap the rows and columns\n",
        "df_GG = df_GG.T\n",
        "\n",
        "# Filter the DataFrame to only include rows whose index is in 'countries3'\n",
        "df_GG = df_GG[df_GG.index.isin(countries_3)]\n",
        "\n",
        "# Drop rows and columns that only contain NaN values\n",
        "df_GG.dropna(axis=0, how='all', inplace=True)\n",
        "df_GG.dropna(axis=1, how='all', inplace=True)\n",
        "\n",
        "# Display the first 5 rows of the DataFrame\n",
        "df_GG.head(5)"
      ],
      "metadata": {
        "id": "FOj54Rx04kkp"
      },
      "execution_count": null,
      "outputs": []
    },
    {
      "cell_type": "code",
      "source": [
        "# Calculate the IQR of the DataFrame\n",
        "df_GG = handle_outliers(df_GG)\n",
        "\n",
        "# Display the first 5 rows of the DataFrame\n",
        "df_GG.head(5)"
      ],
      "metadata": {
        "id": "USK9ET-a5Swc"
      },
      "execution_count": null,
      "outputs": []
    },
    {
      "cell_type": "code",
      "source": [
        "# Melt the dataframe to create plots.\n",
        "df_GG =df_GG.reset_index()\n",
        "df_GG = melt(df_GG, 'Country Name', 'Years', 'Values')\n",
        "\n",
        "# Display the first 5 rows of the DataFrame\n",
        "df_GG.head(5)"
      ],
      "metadata": {
        "id": "A6oUXgKy4keJ"
      },
      "execution_count": null,
      "outputs": []
    },
    {
      "cell_type": "markdown",
      "source": [
        "####**Explanation:**\n",
        "\n",
        "1. **List of countries and indicators**: Two lists, countries_3 and indi_list, are defined to specify the countries and indicators of interest.\n",
        "\n",
        "2. **Extract data using data_extractor function**: The data_extractor function is employed to filter the DataFrame (df_data) based on the specified indicator codes (indi_list).\n",
        "\n",
        "3. **Group by indicator code and country name**: The DataFrame is grouped by 'Indicator Code' and 'Country Name', and the mean is calculated for each group.\n",
        "\n",
        "4. **Transpose the DataFrame**: The DataFrame is transposed to swap rows and columns, making it easier to analyze.\n",
        "\n",
        "5. **Drop NaN values**: Rows and columns containing only NaN values are dropped to clean the DataFrame.\n",
        "\n",
        "6. **Convert index to datetime format**: The index (representing years) is converted to datetime format, and only the year is extracted for better representation.\n",
        "\n",
        "7. **Convert values to percentages**: Values in the DataFrame are divided by 100 to convert them from ratios to percentages.\n",
        "\n",
        "8. **Calculate absolute difference**: The absolute difference between the two indicators is calculated and multiplied by 100 to get percentages of gender gap in youth literacy rate.\n",
        "\n",
        "9. **Transpose the DataFrame again**: The DataFrame is transposed again to revert to the original structure.\n",
        "\n",
        "10. **Filter rows based on countries_3**: Rows that correspond to countries in the list 'countries_3' are retained.\n",
        "\n",
        "11. **Drop NaN values again**: Rows and columns containing only NaN values are dropped again after filtering.\n",
        "\n",
        "12. **Handle outliers**: The handle_outliers function is applied to handle outliers in the DataFrame.\n",
        "\n",
        "13. **Melt the DataFrame**: The DataFrame is reshaped using the melt function to create a format suitable for plotting.\n",
        "\n",
        "\n",
        "\n",
        "This code essentially prepares the data for analysis by cleaning, transforming, and handling outliers, making it suitable for visualization and further exploration. The specific analysis involves comparing indicators for gender differences in youth literacy rates across selected countries."
      ],
      "metadata": {
        "id": "Ugg1AuZZhGWi"
      }
    },
    {
      "cell_type": "code",
      "source": [
        "# Create line plots for each country to visualize youth literacy rate trends over time\n",
        "# Set the figure size\n",
        "plt.figure(figsize=(12, 8))\n",
        "\n",
        "# Rotate the x-axis labels to improve readability\n",
        "plt.xticks(rotation=30)\n",
        "\n",
        "# Set the style of the plot using Seaborn\n",
        "sns.set(style='darkgrid')\n",
        "\n",
        "# Create a line plot using Seaborn\n",
        "sns.lineplot(data=df_GG, x='Years', y='Values', hue='Country Name', marker='o')\n",
        "\n",
        "# Set the x-axis label\n",
        "plt.xlabel('Year', fontsize=14)\n",
        "\n",
        "# Set the y-axis label\n",
        "plt.ylabel('Gender Gape (%)', fontsize=14)\n",
        "\n",
        "# Set the title of the plot with a specific location and font weight\n",
        "plt.title('Gender Gap in Youth Literacy Rate', fontsize=18, loc='right', fontweight='bold')\n",
        "\n",
        "# Add a legend with a specific title and adjust its position\n",
        "plt.legend(title='Countries Based on Economic Background', bbox_to_anchor=(1, 1)).get_title().set_fontweight('bold')\n",
        "\n",
        "# Show the plot\n",
        "plt.show()\n"
      ],
      "metadata": {
        "id": "a0r9DnWyDx8W"
      },
      "execution_count": null,
      "outputs": []
    },
    {
      "cell_type": "markdown",
      "source": [
        "**Why did you pick the specific chart?**"
      ],
      "metadata": {
        "id": "k7Y1Mn7YT6N2"
      }
    },
    {
      "cell_type": "markdown",
      "source": [
        "I selected this chart due to the nature of my data, which is predominantly Time-Series data. In the context of Time-Series analysis, a line plot will serves as an optimal visualization method to depict trends and patterns of Gender gap over time in different Economic group."
      ],
      "metadata": {
        "id": "AgtbhnGIT6A1"
      }
    },
    {
      "cell_type": "markdown",
      "source": [
        "**What is/are the insight(s) found from the chart?**"
      ],
      "metadata": {
        "id": "eDNr-MBCT51q"
      }
    },
    {
      "cell_type": "markdown",
      "source": [
        "As evident from the graph, the gender gap in youth literacy rates exhibits variations across income groups. Specifically, countries in the middle and upper-middle-income categories demonstrate lower gender gaps compared to those in the low and lower-middle-income groups. This suggests that countries with lower income levels tend to experience higher gender disparities in literacy rates among the youth population.\n",
        "\n",
        "In 1985, the gender gap in the lower-middle-income group was notably higher than that in Highly Indebted Poor Countries (HIPC) and least developed countries. However, over time, there has been a significant reduction in the gender gap in the lower-middle-income group, outpacing the improvements observed in HIPC and least developed countries.\n",
        "\n"
      ],
      "metadata": {
        "id": "MOfphKfNT5pr"
      }
    },
    {
      "cell_type": "markdown",
      "source": [
        "##### 3. **Will the gained insights help creating a positive business impact?**\n",
        "**Are there any insights that lead to negative growth? Justify with specific reason.**"
      ],
      "metadata": {
        "id": "_Ciq3Bi9t8cL"
      }
    },
    {
      "cell_type": "markdown",
      "source": [
        "#### **Positive Impact on Education:**\n",
        "\n",
        "**Success in Gender Gap Reduction**: The reduction in the gender gap, particularly in the lower-middle-income group, indicates successful interventions and progress towards gender equality in youth literacy. This positive impact reflects improved educational opportunities for both genders.\n",
        "\n",
        "####**Negative Impact on Education:**\n",
        "\n",
        "**Historical Disparities**: The initial higher gender gap in the lower-middle-income group in 1985 implies historical disparities that might have hindered equal access to education for both genders. While improvements have been made, the historical context underscores the need for ongoing efforts to ensure sustained progress."
      ],
      "metadata": {
        "id": "KJxhx07Zt9ou"
      }
    },
    {
      "cell_type": "markdown",
      "source": [
        "## **4** : **Preprimary Education Impact: Explore the correlation between the percentage of teachers in preprimary education and literacy rates in countries.**"
      ],
      "metadata": {
        "id": "YgShkNz93NXZ"
      }
    },
    {
      "cell_type": "code",
      "source": [
        "# Check for the indicatore which is required for our analysis using regular expression.\n",
        "df_data[df_data['Indicator Name'].str.contains('teachers in pre-primary', regex = True)]\n",
        "\n",
        "# Percentage of teachers in pre-primary education who are qualified, both sexes (%)\tUIS.QUTP.02\n",
        "# Percentage of teachers in pre-primary education who are trained, both sexes (%)\tUIS.TRTP.0"
      ],
      "metadata": {
        "id": "E1iQ_xKM3XGA"
      },
      "execution_count": null,
      "outputs": []
    },
    {
      "cell_type": "code",
      "source": [
        "# Check for the indicatore which is required for our analysis using regular expression.\n",
        "df_data[df_data['Indicator Name'].str.contains('literacy rate', regex = True)]\n"
      ],
      "metadata": {
        "id": "zcMPY5eqU8Sm"
      },
      "execution_count": null,
      "outputs": []
    },
    {
      "cell_type": "code",
      "source": [
        "# Indicator list\n",
        "indi_list = ['UIS.TRTP.0', 'SE.ADT.LITR.ZS']\n",
        "\n",
        "# Filter the DataFrame to only include rows with the specified indicator codes\n",
        "df_tvlr = data_extractor(df_data, indi_list)\n",
        "\n",
        "# Drop unnecessary columns and rows with too many missing values\n",
        "df_tvlr = df_tvlr.loc[:, df_tvlr.count() > 40]\n",
        "\n",
        "# Group the DataFrame by 'Indicator Code' and 'Country Name', and calculate the mean\n",
        "df_tvlr = df_tvlr.groupby(['Indicator Code', 'Country Name']).mean()\n",
        "\n",
        "# Transpose the DataFrame to swap the rows and columns\n",
        "df_tvlr = df_tvlr.T\n",
        "\n",
        "# Drop columns with too many missing values\n",
        "df_tvlr = df_tvlr.loc[:, df_tvlr.count() > 10]\n",
        "df_tvlr.drop(columns=df_tvlr.count()[df_tvlr.count() <= 3].index, inplace=True)\n",
        "\n",
        "# Convert the index to datetime format and extract the year\n",
        "df_tvlr.index = pd.to_datetime(df_tvlr.index, format='%Y').year\n",
        "\n",
        "# Interpolate missing values\n",
        "df_tvlr.interpolate(method='linear', inplace=True, limit_direction='both')\n",
        "\n",
        "\n",
        "df_tvlr.head(5)\n"
      ],
      "metadata": {
        "id": "KJZHHDY5JupW"
      },
      "execution_count": null,
      "outputs": []
    },
    {
      "cell_type": "markdown",
      "source": [
        "####**Explanation:**\n",
        "\n",
        "1. **Indicator list definition**: The indicators chosen (UIS.TRTP.0 and SE.ADT.LITR.ZS) are related to preprimary education (teachers in preprimary education) and literacy rates.\n",
        "\n",
        "2. **Filter DataFrame based on indicators**: The DataFrame is filtered to include only rows corresponding to the selected indicators, focusing on data relevant to preprimary education and literacy rates.\n",
        "\n",
        "3. **Drop unnecessary columns and rows**: Columns with too many missing values are dropped, emphasizing data quality. This step ensures that the retained data is informative for the analysis.\n",
        "\n",
        "4. **Group by indicator code and country name**: The DataFrame is grouped by 'Indicator Code' and 'Country Name,' and the mean is calculated. This aggregation facilitates a country-level analysis of preprimary education and literacy.\n",
        "\n",
        "5. **Transpose the DataFrame**: Transposing the DataFrame swaps rows and columns, allowing for a clearer analysis and visualization.\n",
        "\n",
        "6. **Drop columns with too many missing values**: Further columns are dropped based on the count of non-NaN values, focusing on relevant information.\n",
        "\n",
        "7. **Drop columns with very few values**: Columns with three or fewer non-NaN values are dropped to remove less informative data.\n",
        "\n",
        "8. **Convert index to datetime format**: The index (representing years) is converted to datetime format, retaining only the year for a better time series representation.\n",
        "\n",
        "9. **Interpolate missing values**: Missing values in the DataFrame are interpolated using the linear method. This step ensures a more complete dataset, crucial for exploring correlations.\n",
        "\n",
        "This code prepares the data for an in-depth analysis of the correlation between the percentage of teachers in preprimary education and literacy rates in countries, aligning with the provided problem statement."
      ],
      "metadata": {
        "id": "aHbgDe_fjwZi"
      }
    },
    {
      "cell_type": "code",
      "source": [
        "# Set the style and font scale of the plots\n",
        "sns.set(style='darkgrid', font_scale=1.3)\n",
        "\n",
        "# Create a 2x2 grid of subplots\n",
        "fig, axs = plt.subplots(2, 2, figsize=(16, 10))\n",
        "\n",
        "# Define the list of countries\n",
        "countries = ['Heavily indebted poor countries (HIPC)', 'Sub-Saharan Africa',\n",
        "             'Sub-Saharan Africa (excluding high income)', 'West Bank and Gaza']\n",
        "\n",
        "# Define the list of titles\n",
        "titles = ['Heavily indebted poor countries (HIPC)', 'Sub-Saharan Africa',\n",
        "          'Sub-Saharan Africa (excluding high income)', 'West Bank and Gaza(Palestine)']\n",
        "\n",
        "# Loop over each subplot\n",
        "for i, ax in enumerate(axs.flatten()):\n",
        "    # Create a scatter plot for each country\n",
        "    sns.scatterplot(data=df_tvlr, x=df_tvlr[('SE.ADT.LITR.ZS', countries[i])], y=df_tvlr[('UIS.TRTP.0', countries[i])], hue = df_tvlr.index, palette = 'viridis', ax=ax)\n",
        "\n",
        "    # Set the labels and title of the plot\n",
        "    ax.set_xlabel('Literacy Rate(%)', fontsize=14)\n",
        "    ax.set_ylabel('Teachers(%)', fontsize=14)\n",
        "    ax.set_title(titles[i], loc='right', fontweight='bold')\n",
        "\n",
        "    # Setting legend.\n",
        "    ax.legend(title = 'Years', bbox_to_anchor = (1,1)).get_title().set_fontweight('bold')\n",
        "\n",
        "# Adjust the space between the subplots\n",
        "plt.subplots_adjust(wspace=0.6, hspace=0.5)\n",
        "\n",
        "# Display the plots\n",
        "plt.show()\n"
      ],
      "metadata": {
        "id": "PvpbtAdXOHya"
      },
      "execution_count": null,
      "outputs": []
    },
    {
      "cell_type": "markdown",
      "source": [
        "**Why did you pick the specific chart?**"
      ],
      "metadata": {
        "id": "Gy2-SNnHUA03"
      }
    },
    {
      "cell_type": "markdown",
      "source": [
        "I have chosen a scatter plot as the preferred visualization method due to the specific insights I aim to uncover. The objective is to identify and analyze the correlation between Literacy rate and Teacher in pre-primary education across different countries and years.\n",
        "\n",
        "The scatter plot proves to be an effective tool for examining relationships between variables. In this context, it allows for the exploration of how changes in one indicator align with changes in another, providing insights into potential correlations or patterns."
      ],
      "metadata": {
        "id": "-9fHJyjCUAqs"
      }
    },
    {
      "cell_type": "markdown",
      "source": [
        "**What is/are the insight(s) found from the chart?**"
      ],
      "metadata": {
        "id": "m29tzN1JUAgy"
      }
    },
    {
      "cell_type": "markdown",
      "source": [
        "The analysis reveals an intriguing inverse relationship between the percentage of teachers in preprimary education and literacy rates across countries. Contrary to expectations, as literacy rates increase, the percentage of teachers tends to decrease. This trend is consistent across the selected countries, emphasizing the need for a closer examination of the impact of early education on literacy outcomes.\n",
        "\n",
        "In the late 19th century, HIPC countries exhibited a literacy rate of approximately 45% alongside a relatively high percentage of teachers, reaching around 65%. However, as time progressed, an interesting shift occurred. The percentage of teachers decreased while literacy rates continued to rise. Notably, this pattern was observed consistently in all analyzed countries, with the exception of Palestine. In Palestine, the percentage of teachers remained consistently high, coinciding with the country boasting the highest literacy rate among the selected nations.\n",
        "\n",
        "The data suggests a complex relationship between the quantity of preprimary education teachers and literacy outcomes, warranting further investigation into the quality and effectiveness of early education programs.\n",
        "Variations in education systems, teaching methodologies, and cultural factors may contribute to the observed patterns, underscoring the need for a nuanced understanding of each country's educational landscape.\n",
        "\n",
        "\n"
      ],
      "metadata": {
        "id": "HvzuiVd8UAXW"
      }
    },
    {
      "cell_type": "markdown",
      "source": [
        "##### 3. **Will the gained insights help creating a positive business impact?**\n",
        "**Are there any insights that lead to negative growth? Justify with specific reason.**"
      ],
      "metadata": {
        "id": "7idePqxZuKNa"
      }
    },
    {
      "cell_type": "markdown",
      "source": [
        "####**Positive Impact on Education:**\n",
        "\n",
        "**Focus on Literacy Improvement**: The observed rise in literacy rates, despite a decrease in the percentage of preprimary education teachers, suggests that other factors or interventions may be positively influencing literacy outcomes. This insight could guide educational policymakers to identify and prioritize effective strategies for literacy improvement.\n",
        "\n",
        "####**Negative Impact on Education:**\n",
        "\n",
        "**Concerns About Early Education Quality**: The inverse relationship raises concerns about the quality and effectiveness of preprimary education programs. A decrease in the percentage of teachers might indicate potential challenges in the early education system that could negatively impact literacy outcomes. Further investigation is crucial to address these concerns and enhance the overall effectiveness of early education."
      ],
      "metadata": {
        "id": "G7BTvrgqvUnX"
      }
    },
    {
      "cell_type": "markdown",
      "source": [
        "## **5. Primary Education Enrollment: Determine if there's a relationship between primary education enrollment rates and overall literacy rates in countries.**\n",
        "\n"
      ],
      "metadata": {
        "id": "C2cOfslqPGQB"
      }
    },
    {
      "cell_type": "code",
      "source": [
        "df_data[df_data['Indicator Name'].str.contains('enrolment ratio in primary education', regex = True)]"
      ],
      "metadata": {
        "id": "3rOyse6FRQ8G"
      },
      "execution_count": null,
      "outputs": []
    },
    {
      "cell_type": "code",
      "source": [
        "countries_5 = ['Iran, Islamic Rep.', 'Kuwait', 'Mexico', 'Qatar', 'Spain', 'Turkey']\n"
      ],
      "metadata": {
        "id": "P48E2RJUTA11"
      },
      "execution_count": null,
      "outputs": []
    },
    {
      "cell_type": "code",
      "source": [
        "# Filter the DataFrame to only include rows with the specified indicator codes\n",
        "df_erpe = df_data[df_data['Indicator Code'].isin(['UIS.OAPP.1', 'UIS.UAPP.1'])].copy()\n",
        "\n",
        "# Drop rows and columns that only contain NaN values\n",
        "df_erpe.dropna(axis=1, how='all', inplace=True)\n",
        "df_erpe.dropna(axis=0, how='all', inplace=True)\n",
        "\n",
        "# Group the DataFrame by 'Country Name' and calculate the mean of the remaining columns\n",
        "df_erpe = df_erpe.groupby('Country Name').mean().T\n",
        "\n",
        "# Convert the index to datetime format and extract the year\n",
        "df_erpe.index = pd.to_datetime(df_erpe.index, format='%Y').year\n",
        "\n",
        "\n",
        "# Showing the top 5 rows.\n",
        "df_erpe.head(5)"
      ],
      "metadata": {
        "id": "NGD9sIhSSjbA"
      },
      "execution_count": null,
      "outputs": []
    },
    {
      "cell_type": "code",
      "source": [
        "# Extract the columns which has less NaN values and covert it's datatype to float so that we can fill the missing values.\n",
        "df_1 = df_erpe[['Iran, Islamic Rep.', 'Kuwait', 'Mexico', 'Qatar', 'Spain', 'Turkey']].astype(float)\n",
        "\n",
        "# Filling the missing values linearly by using interpolate method.\n",
        "df_1 = df_1.interpolate(method = 'linear', axis = 0, limit_diraction = 'both').dropna()\n",
        "\n",
        "# Using handle_outliers() method to remove any outliers by IQR method\n",
        "df_1 = handle_outliers(df_1)\n",
        "\n",
        "# Showing top 5 rows\n",
        "df_1.head(5)"
      ],
      "metadata": {
        "id": "bsaZ1T6TtozB"
      },
      "execution_count": null,
      "outputs": []
    },
    {
      "cell_type": "code",
      "source": [
        "# Let's extract the for adult literacy rate by using data_extractor method.\n",
        "df_2 = data_extractor(df_data, 'SE.ADT.LITR.ZS')\n",
        "\n",
        "# Showing top 5 rows\n",
        "df_2.head(5)"
      ],
      "metadata": {
        "id": "tlWYcO2AQhwL"
      },
      "execution_count": null,
      "outputs": []
    },
    {
      "cell_type": "code",
      "source": [
        "# Cleaning the data by using data_cleaner method.\n",
        "df_2 = data_cleaner(df_2, 0)\n",
        "\n",
        "# Let's copy this dataframe for it's usage in next problems\n",
        "df_alr = df_2.T\n",
        "\n",
        "# Showing top 5 rows\n",
        "df_2.head(5)"
      ],
      "metadata": {
        "id": "nEtmf9q9QbES"
      },
      "execution_count": null,
      "outputs": []
    },
    {
      "cell_type": "code",
      "source": [
        "# Remove outliers if any by using handle outliers method.\n",
        "df_2 = handle_outliers(df_2)\n",
        "\n",
        "# Transpose my dataframe for further analysis\n",
        "df_2 = df_2.T\n",
        "\n",
        "# Extract the of the countries where there are less number of NaN values\n",
        "df_2 = df_2[['Iran, Islamic Rep.', 'Kuwait', 'Mexico', 'Qatar', 'Spain', 'Turkey']]\n",
        "\n",
        "# Showing top 5 rows\n",
        "df_2.head(5)"
      ],
      "metadata": {
        "id": "Ez6s4YTlQa21"
      },
      "execution_count": null,
      "outputs": []
    },
    {
      "cell_type": "code",
      "source": [
        "# Merge the two DataFrames\n",
        "df_5_merged = pd.merge(df_1, df_2, left_index=True, right_index=True, how='inner', suffixes=('_erpe', '_alr'))\n",
        "\n",
        "# Keep only the columns for the specified countries\n",
        "df_5_merged = df_5_merged[[f'{country}_{suffix}' for country in countries_5 for suffix in ['erpe', 'alr']]]\n",
        "\n",
        "# Reset index\n",
        "df_5_merged = df_5_merged.reset_index()\n",
        "\n",
        "# Showing the top 5 rows.\n",
        "df_5_merged.head(5)"
      ],
      "metadata": {
        "id": "nynnbT_puE--"
      },
      "execution_count": null,
      "outputs": []
    },
    {
      "cell_type": "markdown",
      "source": [
        "####**Explanation:**\n",
        "\n",
        "1. **Filter the DataFrame for primary education enrollment rates (df_erpe)**: Rows are filtered based on indicator codes related to primary education enrollment rates, and NaN values are removed to ensure data quality.\n",
        "\n",
        "2. **Group by 'Country Name' and calculate the mean**: The DataFrame is grouped by country, and the mean of remaining columns is calculated. This step aggregates the primary education enrollment data.\n",
        "\n",
        "3. **Filter the DataFrame for adult literacy rates (df_alr)**: Rows are filtered for the indicator code related to adult literacy rates, and the DataFrame is transposed for better analysis.\n",
        "\n",
        "4. **Merge the two DataFrames (df_5_merged)**: The DataFrames related to primary education enrollment and literacy rates are merged based on country names and years.\n",
        "\n",
        "5. **Drop columns with too many missing values**: Columns with fewer than 10 non-NaN values are retained for analysis.\n",
        "\n",
        "6. **Keep only specified countries**: Columns for specified countries are selected, creating a DataFrame focusing on the countries of interest.\n",
        "\n",
        "7. **Convert the index to datetime format**: The index, representing years, is converted to datetime format for better time series analysis.\n",
        "\n",
        "8. **Convert the DataFrame to float type**: Ensures that the DataFrame contains numerical values.\n",
        "\n",
        "9. **Interpolate missing values**: Linear interpolation is applied to fill in missing values, ensuring a more complete dataset.\n",
        "\n",
        "10. **Calculate the IQR of the DataFrame**: Outliers are handled using the IQR method, enhancing the robustness of the data.\n",
        "\n",
        "11. **Reset index**: The DataFrame is reset to have a clean index.\n",
        "\n",
        "This code prepares the data for investigating the relationship between primary education enrollment rates and overall literacy rates in countries, aligning with the provided problem statement."
      ],
      "metadata": {
        "id": "NTWe_VuWlp9e"
      }
    },
    {
      "cell_type": "code",
      "source": [
        "# Set the style and font scale of the plots\n",
        "sns.set(style='darkgrid', font_scale=1.3)\n",
        "\n",
        "# Create a 3x2 grid of subplots\n",
        "fig, axs = plt.subplots(3, 2, figsize=(15, 15))\n",
        "\n",
        "# Define the list of countries\n",
        "countries = ['Iran, Islamic Rep.', 'Kuwait', 'Mexico', 'Qatar', 'Spain', 'Turkey']\n",
        "\n",
        "# Loop over each subplot\n",
        "for i, ax in enumerate(axs.flatten()):\n",
        "    # Create a scatter plot for each country\n",
        "    sns.scatterplot(data=df_5_merged,\n",
        "                    x=df_5_merged[f'{countries[i]}_erpe'],\n",
        "                    y=df_5_merged[f'{countries[i]}_alr'],\n",
        "                    ax=ax, hue = 'index', palette = 'coolwarm')\n",
        "\n",
        "    # Set the labels and title of the plot\n",
        "    ax.set_xlabel('Primary edu. enrollment rates(%)', fontsize=14)\n",
        "    ax.set_ylabel('Literacy Rate(%)', fontsize=14)\n",
        "    ax.set_title(countries[i], loc='right', fontweight='bold')\n",
        "    ax.legend(title = 'Years', bbox_to_anchor = (1.35,1)).get_title().set_fontweight('bold')\n",
        "\n",
        "# Adjust the space between the subplots\n",
        "plt.subplots_adjust(wspace=0.6, hspace=0.6)\n",
        "\n",
        "# Display the legend and the plots\n",
        "plt.show()\n"
      ],
      "metadata": {
        "id": "QUe-lBgXVWgo"
      },
      "execution_count": null,
      "outputs": []
    },
    {
      "cell_type": "markdown",
      "source": [
        "**Why did you pick the specific chart?**"
      ],
      "metadata": {
        "id": "l1PdPevBUJm4"
      }
    },
    {
      "cell_type": "markdown",
      "source": [
        "I have chosen a scatter plot as the preferred visualization method due to the specific insights I aim to uncover. The objective is to identify and analyze the correlation between Literacy rate and Primary education enrollment rates across different countries and years.\n",
        "\n",
        "The scatter plot proves to be an effective tool for examining relationships between variables. In this context, it allows for the exploration of how changes in one indicator align with changes in another, providing insights into potential correlations or patterns."
      ],
      "metadata": {
        "id": "a9r1UAV-UJNX"
      }
    },
    {
      "cell_type": "markdown",
      "source": [
        "**What is/are the insight(s) found from the chart?**"
      ],
      "metadata": {
        "id": "TGHyvpUVUIzn"
      }
    },
    {
      "cell_type": "markdown",
      "source": [
        "The unexpected correlation between decreasing primary education enrollment rates and increasing literacy rates, as observed in the analysis of Iran, Spain, Qatar, Mexico, Turkey, and Kuwait, challenges conventional expectations. While further investigation is required to unravel the intricacies of this relationship, the insights offer valuable considerations for policymakers.\n",
        "\n",
        "The findings suggest that the pursuit of literacy goals may extend beyond traditional metrics of primary education enrollment. Quality-focused initiatives, targeted interventions, and evolving demographics may contribute to the observed trend.\n",
        "\n",
        "**Possible Explanations:**\n",
        "\n",
        "1. **Quality vs. Quantity**: The observed trend could be indicative of a focus on the quality of primary education rather than simply the quantity of enrolled students. Countries may be prioritizing educational programs that ensure effective learning outcomes, contributing to higher literacy rates.\n",
        "\n",
        "2. **Targeted Interventions**: Some countries may have implemented targeted interventions to improve literacy rates, such as adult literacy programs or community-based initiatives. These efforts may have a more direct impact on literacy rates than on primary education enrollment.\n",
        "\n",
        "3. **Changing Demographics**: Shifts in demographics, including age distribution and migration patterns, might influence the observed relationship. For instance, an aging population could contribute to higher literacy rates even with lower primary education enrollment."
      ],
      "metadata": {
        "id": "5NNJpAUuUIir"
      }
    },
    {
      "cell_type": "markdown",
      "source": [
        "##### 3. **Will the gained insights help creating a positive business impact?**\n",
        "**Are there any insights that lead to negative growth? Justify with specific reason.**"
      ],
      "metadata": {
        "id": "eIFGY50guNMj"
      }
    },
    {
      "cell_type": "markdown",
      "source": [
        "####**Positive Impact on Education:**\n",
        "\n",
        "**Focus on Educational Quality:** The unexpected correlation suggests a potential prioritization of educational quality over quantity, which could positively impact overall learning outcomes. Policymakers could consider investing in quality-focused initiatives to further enhance literacy rates.\n",
        "####**Negative Impact on Education:**\n",
        "\n",
        "**Challenges in Enrollment Metrics**: The unconventional relationship challenges traditional metrics that heavily rely on primary education enrollment as an indicator of educational progress. Policymakers may face challenges in accurately assessing educational development if the emphasis shifts away from enrollment numbers.\n",
        "####**Conclusion:**\n",
        "The unexpected correlation prompts a reevaluation of conventional assumptions about the relationship between primary education enrollment and literacy rates. Policymakers should explore quality-focused approaches, targeted interventions, and demographic shifts to inform strategies that effectively contribute to improved literacy outcomes. Further research is essential to fully comprehend the nuances of this unique correlation and its implications for educational policies."
      ],
      "metadata": {
        "id": "Giqo7gTUwGOr"
      }
    },
    {
      "cell_type": "markdown",
      "source": [
        "####**Note:** I've reviewed the dataset and the steps involved in this analysis, and I have determined that the enrollment rates in primary education is decreasing with time , while the adult literacy rates is increasing with time. This alignment validates the correctness of my analysis."
      ],
      "metadata": {
        "id": "RQd5uxwZWR2E"
      }
    },
    {
      "cell_type": "markdown",
      "source": [
        "## **6. New Entrants in Primary Education: Investigate trends in the number of new entrants to primary education.**\n",
        "\n"
      ],
      "metadata": {
        "id": "98qPw9wHI4no"
      }
    },
    {
      "cell_type": "code",
      "source": [
        "# Check for the indicatore which is required for our analysis using regular expression.\n",
        "df_data[df_data['Indicator Name'].str.contains('[N|n]ew entrants', regex =True)]"
      ],
      "metadata": {
        "id": "HpJ2_CicAKfK"
      },
      "execution_count": null,
      "outputs": []
    },
    {
      "cell_type": "code",
      "source": [
        "# New entrants to Grade 1 of primary education with early childhood education experience , both sexes (number)\tUIS.NE.1.ECD"
      ],
      "metadata": {
        "id": "wN5SczJ9G34q"
      },
      "execution_count": null,
      "outputs": []
    },
    {
      "cell_type": "code",
      "source": [
        "# Extracting the data for the required indicator code by using data_extractor() function.\n",
        "df_ne = data_extractor(df_data, 'UIS.NE.1.ECD')\n",
        "\n",
        "# Show the datafram.\n",
        "df_ne.head(5)"
      ],
      "metadata": {
        "id": "gviB0B-makWI"
      },
      "execution_count": null,
      "outputs": []
    },
    {
      "cell_type": "code",
      "source": [
        "# Data wrangling work by usnig data_cleaner function.\n",
        "df_ne = data_cleaner(df_ne, 13)\n",
        "\n",
        "# Show the dataframe.\n",
        "df_ne.head(5)\n"
      ],
      "metadata": {
        "id": "acdoJnrgyjNw"
      },
      "execution_count": null,
      "outputs": []
    },
    {
      "cell_type": "code",
      "source": [
        "# Handling the outliers by using the handle_outliers function.\n",
        "df_ne = handle_outliers(df_ne)\n",
        "\n",
        "# Showing the dataframe\n",
        "df_ne.head(5)\n"
      ],
      "metadata": {
        "id": "PqGKKTJ8yimn"
      },
      "execution_count": null,
      "outputs": []
    },
    {
      "cell_type": "code",
      "source": [
        "# Resetting index.\n",
        "df_ne = df_ne.reset_index()\n",
        "\n",
        "# reshaping the dataframe.\n",
        "df_ne_melt = melt(df_ne, ['Country Name'], 'Years', 'Values')\n",
        "\n",
        "# Showing the dataframe.\n",
        "df_ne_melt.head(5)\n"
      ],
      "metadata": {
        "id": "nB7Y28ebysqe"
      },
      "execution_count": null,
      "outputs": []
    },
    {
      "cell_type": "markdown",
      "source": [
        "####**Explanation:**\n",
        "\n",
        "1. **Extract data for the indicator 'UIS.NE.1.ECD' (df_ne)**: The data_extractor function is used to filter the DataFrame (df_data) and extract data related to the number of new entrants to primary education.\n",
        "\n",
        "2. **Data wrangling using data_cleaner function**: The data_cleaner function is applied to clean and preprocess the data. It drops unnecessary columns, transposes the DataFrame for better analysis, converts years to datetime format, and fills missing values using linear interpolation.\n",
        "\n",
        "3. **Handling outliers with handle_outliers function**: The handle_outliers function is used to identify and handle outliers in the data. This step ensures that extreme values do not unduly influence the analysis.\n",
        "\n",
        "4. **Resetting index**: The index of the DataFrame is reset to have a clean and ordered index.\n",
        "\n",
        "5. **Reshaping the DataFrame (df_ne_melt)**: The melt function is applied to reshape the DataFrame, making it suitable for analysis. The DataFrame is transformed to have columns for 'Country Name,' 'Years,' and 'Values,' facilitating easier visualization and exploration of trends over time.\n",
        "\n",
        "This code prepares the data for investigating trends in the number of new entrants to primary education, aligning with the provided problem statement. The DataFrame df_ne_melt is now ready for further analysis and visualization to understand patterns and trends in the context of new entrants in primary education across different countries."
      ],
      "metadata": {
        "id": "AE4C0uO8oVYI"
      }
    },
    {
      "cell_type": "code",
      "source": [
        "# Set the figure size\n",
        "plt.figure(figsize=(10, 6))\n",
        "\n",
        "# Create a line plot using Seaborn\n",
        "sns.lineplot(x=df_ne_melt['Years'], y=df_ne_melt['Values'], hue=df_ne_melt['Country Name'], data=df_ne_melt, marker='o')\n",
        "\n",
        "# Set the color map for the plot\n",
        "plt.get_cmap('cividis')\n",
        "\n",
        "# Set the x-axis label\n",
        "plt.xlabel('Years', fontsize=14)\n",
        "\n",
        "# Set the y-axis label\n",
        "plt.ylabel('No. Of New Entrants', fontsize=14)\n",
        "\n",
        "# Set the title of the plot with a specific location and font weight\n",
        "plt.title('New Entrants to Primary Education', fontsize=18, loc='right', fontweight='bold')\n",
        "\n",
        "# Add a legend with a specific title and adjust its position\n",
        "plt.legend(title='Countries', bbox_to_anchor=(1, 1)).get_title().set_fontweight('bold')\n",
        "\n",
        "# Show the plot\n",
        "plt.show()\n"
      ],
      "metadata": {
        "id": "ndTSwhZ_deLP"
      },
      "execution_count": null,
      "outputs": []
    },
    {
      "cell_type": "markdown",
      "source": [
        "**Why did you pick the specific chart?**"
      ],
      "metadata": {
        "id": "mllR2NXnUQU2"
      }
    },
    {
      "cell_type": "markdown",
      "source": [
        "I selected this chart due to the nature of my data, which is predominantly Time-Series data. In the context of Time-Series analysis, a line plot will serves as an optimal visualization method to depict trends and patterns of Number of new entrants in primary education over time in different Countries."
      ],
      "metadata": {
        "id": "4pJx16YFUQI4"
      }
    },
    {
      "cell_type": "markdown",
      "source": [
        "**What is/are the insight(s) found from the chart?**"
      ],
      "metadata": {
        "id": "17LLruoJUP6U"
      }
    },
    {
      "cell_type": "markdown",
      "source": [
        "In the analysis of trends in new entrants to primary education, it is observed that the number of new entrants remains relatively constant in most countries, with some experiencing an increase. Notably, Cube stands out as the only country where the number of new entrants is decreasing.\n",
        "\n",
        "In specific instances, such as in the UAE and Lao PDR, there is a substantial increase in the number of new entrants, showcasing positive trends in primary education enrollment. The UAE saw a commendable rise from 35,000 to 85,000 new entrants per year, while Lao PDR experienced a drastic increase from 15,000 to 85,000 per year.\n",
        "\n"
      ],
      "metadata": {
        "id": "A6QrMOL1UPtC"
      }
    },
    {
      "cell_type": "markdown",
      "source": [
        "##### 3. **Will the gained insights help creating a positive business impact?**\n",
        "**Are there any insights that lead to negative growth? Justify with specific reason.**"
      ],
      "metadata": {
        "id": "6GYiCEKNwiWp"
      }
    },
    {
      "cell_type": "markdown",
      "source": [
        "####**Positive Impact on Education:**\n",
        "\n",
        "**Successful Initiatives**: Positive trends in UAE and Lao PDR indicate that successful initiatives and policies can lead to increased enrollment, contributing to improved educational outcomes.\n",
        "####**Negative Impact on Education:**\n",
        "\n",
        "**Challenges in Costa Rica**: The decreasing trend in Costa Rica raises concerns about potential challenges in maintaining or enhancing primary education enrollment. Identifying and addressing these challenges is crucial for sustaining positive educational outcomes.\n",
        "####**Conclusion:**\n",
        "The analysis highlights both positive and unique trends in new entrants to primary education. Policymakers should leverage successful initiatives from countries like the UAE and Lao PDR while paying special attention to Costa Rica's situation to understand and address any challenges hindering primary education enrollment. This comprehensive approach can contribute to sustained positive impacts on education."
      ],
      "metadata": {
        "id": "g-KqXxsjw2dw"
      }
    },
    {
      "cell_type": "markdown",
      "source": [
        "## **7. Secondary Education Enrollment Trends: Analyze variations in secondary education enrollment ratios among countries and identify factors that influence these trends.**\n",
        "\n"
      ],
      "metadata": {
        "id": "b7-OPXlraWNx"
      }
    },
    {
      "cell_type": "markdown",
      "source": [
        "The World Bank assigns the world’s economies to some income groups—low, lower-middle, upper-middle, and high income. The classifications are updated each year on July 1 and are based on the GNI per capita of the previous year (2021). GNI measures are expressed in United States dollars (USD), and are determined using conversion factors derived according to the Atlas method.\n",
        "\n",
        "Classifications can change for two reasons:\n",
        "\n",
        "1. Changes to Atlas GNI per capita: In each country, factors such as economic growth, inflation, exchange rates, and population growth influence the level of Atlas GNI per capita. Revisions to improve national accounts estimates and methods can also have an impact. Updated data on Atlas GNI per capita for 2021 can be accessed here.\n",
        "\n",
        "2. Changes to classification thresholds: To keep income classification thresholds fixed in real terms, they are adjusted annually for inflation using the Special Drawing Rights (SDR) deflator,  a weighted average of the GDP deflators of China, Japan, the United Kingdom, the United States, and the Euro Area. The new thresholds for Atlas GNI per capita are as follows:\n"
      ],
      "metadata": {
        "id": "4L9Lv3OlREGK"
      }
    },
    {
      "cell_type": "code",
      "source": [
        "# Check for the indicatore which is required for our analysis using regular expression.\n",
        "df_data[df_data['Indicator Name'].str.contains('Gross enrolment ratio', regex = True)]"
      ],
      "metadata": {
        "id": "JkXfTs4DabrY"
      },
      "execution_count": null,
      "outputs": []
    },
    {
      "cell_type": "code",
      "source": [
        "# Define the list of countries and indicators\n",
        "countries = ['Low income', 'Lower middle income', 'Upper middle income', 'High income']\n",
        "indi_list_7 = ['SE.SEC.ENRR.LO', 'SE.SEC.ENRR.UP']\n",
        "\n",
        "# Use the data_extractor function to filter the DataFrame and drop unnecessary columns\n",
        "df_seer = data_extractor(df_data, indi_list_7)\n",
        "\n",
        "# Reset the index of the DataFrame\n",
        "df_seer.reset_index(inplace=True)\n",
        "\n",
        "# Display the first 5 rows of the DataFrame\n",
        "df_seer.head(5)\n",
        "\n"
      ],
      "metadata": {
        "id": "M0sLz_lcEtIy"
      },
      "execution_count": null,
      "outputs": []
    },
    {
      "cell_type": "markdown",
      "source": [
        "In this section, a list of countries and secondary education enrollment indicators is defined. The data_extractor function is then employed to filter the main DataFrame (df_data) based on the specified indicators. The index is reset for a clean start."
      ],
      "metadata": {
        "id": "gm5Y2Rct7GiF"
      }
    },
    {
      "cell_type": "code",
      "source": [
        "# Define the list of years\n",
        "years = ['1995', '2000', '2005', '2010', '2015']\n",
        "\n",
        "# Keep only the columns for the specified countries and years\n",
        "df_seer = df_seer[['Country Name', 'Indicator Code'] + years].copy()\n",
        "\n",
        "# Map the indicator codes to their names\n",
        "indi_name = {'SE.SEC.ENRR.LO':'Lower Secondary', 'SE.SEC.ENRR.UP': 'Upper Secondary'}\n",
        "df_seer['Indicator Code'] = df_seer['Indicator Code'].map(indi_name)\n",
        "\n",
        "# Melt the DataFrame to create plots\n",
        "df_seer_melt = df_seer.melt(['Country Name', 'Indicator Code'], var_name='Years', value_name='Values')\n",
        "\n",
        "# Rename the 'Indicator Code' column to 'Level'\n",
        "df_seer_melt.rename(columns={'Indicator Code': 'Level'}, inplace=True)\n",
        "\n",
        "# Display the first 5 rows of the DataFrame\n",
        "df_seer_melt.head(5)"
      ],
      "metadata": {
        "id": "deOMYbSS6sZb"
      },
      "execution_count": null,
      "outputs": []
    },
    {
      "cell_type": "markdown",
      "source": [
        "This part involves further refining the DataFrame. Only columns related to specified countries and years are kept. The indicator codes are mapped to their corresponding names, and the DataFrame is melted to facilitate plotting."
      ],
      "metadata": {
        "id": "8rkCjckX7NOM"
      }
    },
    {
      "cell_type": "code",
      "source": [
        "# Filter the DataFrame to only include rows whose 'Country Name' is in 'countries'\n",
        "df_seer1 = df_seer_melt[df_seer_melt['Country Name'].isin(countries)]\n",
        "\n",
        "# Filter rows where the 'Level' column is 'Lower Secondary'\n",
        "df_lower_secondary = df_seer1[df_seer1['Level'] == 'Lower Secondary']\n",
        "\n",
        "# Filter rows where the 'Level' column is 'Upper Secondary'\n",
        "df_upper_secondary = df_seer1[df_seer1['Level'] == 'Upper Secondary']\n",
        "\n",
        "# Filter rows where the 'Country Name' column is 'Low income'\n",
        "df_low_income = df_seer1[df_seer1['Country Name'] == 'Low income']\n",
        "\n",
        "# Filter rows where the 'Country Name' column is 'Lower middle income'\n",
        "df_lowmid_income = df_seer1[df_seer1['Country Name'] == 'Lower middle income']\n",
        "\n",
        "# Filter rows where the 'Country Name' column is 'Upper middle income'\n",
        "df_upmid_income = df_seer1[df_seer1['Country Name'] == 'Upper middle income']\n",
        "\n",
        "# Filter rows where the 'Country Name' column is 'High income'\n",
        "df_high_income = df_seer1[df_seer1['Country Name'] == 'High income']\n",
        "\n"
      ],
      "metadata": {
        "id": "LWcHZP506liY"
      },
      "execution_count": null,
      "outputs": []
    },
    {
      "cell_type": "markdown",
      "source": [
        "Finally, the DataFrame is filtered to include only the rows related to the specified countries. Separate DataFrames are created for different levels (lower secondary and upper secondary) and income groups (low income, lower middle income, upper middle income, and high income). These filtered DataFrames are ready for in-depth analysis and visualization to explore trends in secondary education enrollment among countries."
      ],
      "metadata": {
        "id": "t6YFj7Bm7ch6"
      }
    },
    {
      "cell_type": "code",
      "source": [
        "# Create a 2x1 subplot layout with a total figure size of (12, 8)\n",
        "fig, axs = plt.subplots(2, 1, figsize=(12, 8))\n",
        "\n",
        "# Create a list of DataFrames, one for 'Lower Secondary' and one for 'Upper Secondary'\n",
        "dataframes = [df_lower_secondary, df_upper_secondary]\n",
        "\n",
        "# Create titles for the subplots\n",
        "titles = ['Lower Secondary', 'Upper Secondary']\n",
        "\n",
        "# Iterate over the subplots\n",
        "for i, ax in enumerate(axs):\n",
        "    # Create a bar plot for the current DataFrame in the loop\n",
        "    sns.barplot(data=dataframes[i], x='Years', y='Values', hue='Country Name', ax=ax, palette='cubehelix')\n",
        "\n",
        "    # Set x-axis label\n",
        "    ax.set_xlabel('Years', fontsize=16)\n",
        "\n",
        "    # Set y-axis label\n",
        "    ax.set_ylabel('Enrollment Rates(%)', fontsize=16)\n",
        "\n",
        "    # Set subplot title\n",
        "    ax.set_title(titles[i], fontsize=20, loc='right', fontweight='bold')\n",
        "\n",
        "    # Add legend with title for each subplot, positioned to the right\n",
        "    ax.legend(title='Countries Based on Income', bbox_to_anchor=(1, 1)).get_title().set_fontweight('bold')\n",
        "\n",
        "# Adjust the spacing between subplots\n",
        "plt.subplots_adjust(wspace=0.4, hspace=0.4)\n",
        "\n",
        "# Display the plot\n",
        "plt.show()\n",
        "\n"
      ],
      "metadata": {
        "id": "nORalsW1Xkou"
      },
      "execution_count": null,
      "outputs": []
    },
    {
      "cell_type": "markdown",
      "source": [
        "**Why did you pick the specific chart?**"
      ],
      "metadata": {
        "id": "3HXfG4PUUWxV"
      }
    },
    {
      "cell_type": "markdown",
      "source": [
        "I have chosen this chart to compare the Enrollment rates of different economic groups. A bar chart was deemed suitable for this purpose due to its inherent capacity to showcase variations in data points among distinct categories, such as countries in this context. The horizontal bars allow for a direct visual comparison of the data, aiding in the identification of trends, disparities, and outliers across the selected countries.\n"
      ],
      "metadata": {
        "id": "zFYJFCaQUWfp"
      }
    },
    {
      "cell_type": "markdown",
      "source": [
        " **What is/are the insight(s) found from the chart?**"
      ],
      "metadata": {
        "id": "p65PSGzoUWMG"
      }
    },
    {
      "cell_type": "markdown",
      "source": [
        "**Global Disparities:**\n",
        "Bar plots indicate a substantial disparity in enrollment rates between low-income and high-income countries, with the latter experiencing rates almost 80% higher. This highlights the role of economic prosperity in facilitating access to secondary education.\n",
        "\n",
        "**Income-Enrollment Correlation:**\n",
        "A discernible pattern reveals that as the income of countries increases, so does the enrollment rate in secondary education. This underscores the critical role economic development plays in fostering educational access.\n",
        "\n",
        "1. **Lower Secondary Education:**\n",
        "\n",
        "  Enrollment rates for lower secondary education witnessed an overall increase over time.\n",
        "  In low-income countries, the rate doubled from 25% to 50%, showcasing positive progress.\n",
        "  The lower-middle-income group experienced a more modest increase from 60% to 80%, and a similar trend is observed in the upper-middle-income group, with a 20% increase.\n",
        "\n",
        "2. **Upper Secondary Education:**\n",
        "\n",
        "  Similar to lower secondary education, enrollment rates in upper secondary education increased over time.\n",
        "  In low-income countries, the rate doubled from 15% to 30%, while the lower-middle-income group saw an increase from 30% to 55%.\n",
        "  Notably, the upper-middle-income group exhibited a substantial rise, doubling from 45% to almost 90%."
      ],
      "metadata": {
        "id": "Xbcc2T4_UV5W"
      }
    },
    {
      "cell_type": "code",
      "source": [
        "# Create a 2x2 subplot layout with a total figure size of (15, 8), sharing both x and y axes\n",
        "fig, axs = plt.subplots(2, 2, figsize=(15, 8), sharex=True, sharey=True)\n",
        "\n",
        "# Create a list of DataFrames for different income levels\n",
        "dataframes = [df_low_income, df_lowmid_income, df_upmid_income, df_high_income]\n",
        "\n",
        "# Create titles for the subplots\n",
        "titles = ['Low Income', 'Lower Middle Income', 'Upper Middle Income', 'High Income']\n",
        "\n",
        "# Iterate over the subplots\n",
        "for i, ax in enumerate(axs.flatten()):\n",
        "    # Create a bar plot for the current DataFrame in the loop\n",
        "    sns.barplot(data=dataframes[i], x='Years', y='Values', hue='Level', ax=ax, color='skyblue', palette='viridis')\n",
        "\n",
        "    # Set subplot title\n",
        "    ax.set_title(titles[i], fontsize=18, loc='right', fontweight='bold')\n",
        "\n",
        "    # Set x-axis label\n",
        "    ax.set_xlabel('Years', fontsize=16)\n",
        "\n",
        "    # Set y-axis label\n",
        "    ax.set_ylabel('Enrollment rates(%)', fontsize=16)\n",
        "\n",
        "    # Add legend with title for each subplot, positioned to the right\n",
        "    ax.legend(title='Level', bbox_to_anchor=(1.4, 1)).get_title().set_fontweight('bold')\n",
        "\n",
        "# Adjust the spacing between subplots\n",
        "plt.subplots_adjust(wspace=0.6, hspace=0.4)\n",
        "\n",
        "# Display the plot\n",
        "plt.show()\n",
        "\n"
      ],
      "metadata": {
        "id": "TM-k8W3YUdVH"
      },
      "execution_count": null,
      "outputs": []
    },
    {
      "cell_type": "markdown",
      "source": [
        "**Why did you pick the specific chart?**"
      ],
      "metadata": {
        "id": "junu3B4RUds1"
      }
    },
    {
      "cell_type": "markdown",
      "source": [
        "I have chosen this chart to compare the Enrollment rates in secondary education in different economic groups. A bar chart was deemed suitable for this purpose due to its inherent capacity to showcase variations in data points among distinct categories, such as countries in this context. The horizontal bars allow for a direct visual comparison of the data, aiding in the identification of trends, disparities, and outliers across the selected countries."
      ],
      "metadata": {
        "id": "ctQireO_Udex"
      }
    },
    {
      "cell_type": "markdown",
      "source": [
        "**What is/are the insight(s) found from the chart?**"
      ],
      "metadata": {
        "id": "t0HOyU1FUbq9"
      }
    },
    {
      "cell_type": "markdown",
      "source": [
        "1. **Low-Income Group**: While both upper and lower secondary enrollment rates are low, the rate in lower secondary is higher.\n",
        "2. **Lower Middle-Income Group**: Both rates are low but higher than in low-income countries, with a near doubling of enrollment in lower secondary compared to upper secondary.\n",
        "3. **Upper Middle-Income Group**: Both rates are low but higher than in lower income groups, with recent improvements in lower secondary enrollment.\n",
        "4. **High-Income Group:**\n",
        "In high-income countries, both upper and lower secondary enrollment rates are high, with nearly 100% enrollment in lower secondary. The disparity in the early '90s has narrowed, possibly due to students seeking education from lower-income countries.\n"
      ],
      "metadata": {
        "id": "oJ2ZVpMpUbeg"
      }
    },
    {
      "cell_type": "markdown",
      "source": [
        "##### 3. **Will the gained insights help creating a positive business impact?**\n",
        "**Are there any insights that lead to negative growth? Justify with specific reason.**"
      ],
      "metadata": {
        "id": "HMrwyaOwxF3s"
      }
    },
    {
      "cell_type": "markdown",
      "source": [
        "####**Positive Impact on Education:**\n",
        "\n",
        "**Emphasis on Lower Secondary Education**: The emphasis on lower secondary education across income groups suggests a positive impact on providing foundational education.\n",
        "####**Negative Impact on Education:**\n",
        "\n",
        "**Disparities in Low-Income Countries**: The low enrollment rates in both upper and lower secondary education in low-income countries indicate challenges in providing widespread access to secondary education.\n",
        "####**Conclusion:**\n",
        "The comparative analysis based on income groups provides insights into the enrollment patterns in upper and lower secondary education. Emphasizing lower secondary education is a common trend, and improvements in enrollment rates indicate positive efforts. Policymakers can draw on these insights to tailor strategies for each income group, addressing challenges and enhancing overall access to quality secondary education."
      ],
      "metadata": {
        "id": "3C_KB0plxn7C"
      }
    },
    {
      "cell_type": "markdown",
      "source": [
        "## **8. Access to Tertiary Education: This study aims to scrutinize the evolution of enrollment rates in tertiary education. A key aspect of the investigation will be to compare and contrast these rates across countries with diverse income levels. The objective is to gain insights into the disparities in access to tertiary education based on economic status.**\n",
        "\n"
      ],
      "metadata": {
        "id": "zn3wW-nBacpz"
      }
    },
    {
      "cell_type": "code",
      "source": [
        "# Check for the indicatore which is required for our analysis using regular expression.\n",
        "df_data[df_data['Indicator Name'].str.contains('enrolment ratio', regex = True)].head(5)\n"
      ],
      "metadata": {
        "id": "WphhNegHNAHa"
      },
      "execution_count": null,
      "outputs": []
    },
    {
      "cell_type": "code",
      "source": [
        "# Gross enrolment ratio, tertiary, both sexes (%)\tSE.TER.ENRR\n",
        "df_teer = data_extractor(df_data, 'SE.TER.ENRR')\n",
        "\n",
        "# Filter the DataFrame to include only specified countries\n",
        "countries_8 = ['Low income', 'Lower middle income', 'Upper middle income', 'High income']\n",
        "df_teer = df_teer[df_teer['Country Name'].isin(countries_8)].copy()\n",
        "\n",
        "# Drop columns with all null values and reset the index\n",
        "df_teer = df_teer.dropna(axis=1, how='all').reset_index(drop=True)\n",
        "\n",
        "# Extract specific years and relevant columns from the DataFrame\n",
        "years_of_interest = ['1995', '2000', '2005', '2010', '2015']\n",
        "df_teer = df_teer[['Country Name'] + years_of_interest]\n",
        "\n",
        "# Reshape the DataFrame using the melt function\n",
        "df_teer = melt(df_teer, 'Country Name', 'Years', 'Values')\n",
        "\n",
        "# Display the resulting DataFrame\n",
        "df_teer.head(5)\n"
      ],
      "metadata": {
        "id": "qbm1AkMWM_6H"
      },
      "execution_count": null,
      "outputs": []
    },
    {
      "cell_type": "markdown",
      "source": [
        "#### **Explanation:**\n",
        "\n",
        "1. **Data Extraction:**The code extracts data related to the gross enrolment ratio in tertiary education using the 'SE.TER.ENRR' indicator code.\n",
        "\n",
        "2. **Country Filtering:**A list of countries (countries_8) based on income levels is defined.\n",
        "The DataFrame is filtered to include only rows corresponding to the specified countries.\n",
        "\n",
        "3. **Data Cleaning:**Columns with all null values are dropped, and the index is reset for a cleaner DataFrame.\n",
        "\n",
        "4. **Year and Column Selection:**Specific years of interest ('1995', '2000', '2005', '2010', '2015') are selected.\n",
        "The DataFrame is subset to include the 'Country Name' column along with the specified years.\n",
        "\n",
        "5. **Data Reshaping:**The DataFrame is reshaped using the melt function, converting it into a format suitable for analysis and visualization.\n",
        "The resulting DataFrame (df_teer) represents the gross enrolment ratio in tertiary education for specified countries across the selected years."
      ],
      "metadata": {
        "id": "u1sMR9bS8_Ec"
      }
    },
    {
      "cell_type": "code",
      "source": [
        "# Set the figure size\n",
        "plt.figure(figsize=(15, 6))\n",
        "\n",
        "# Set the style to whitegrid using Seaborn\n",
        "sns.set(style='whitegrid')\n",
        "\n",
        "# Create a bar plot using Seaborn\n",
        "sns.barplot(data=df_teer, x='Years', y='Values', hue='Country Name', palette='viridis')\n",
        "\n",
        "# Set x-axis label\n",
        "plt.xlabel('Years', fontsize=16)\n",
        "\n",
        "# Set y-axis label\n",
        "plt.ylabel('Enrollment Rates(%)', fontsize=16)\n",
        "\n",
        "# Set plot title\n",
        "plt.title('Tertiary Education Enrollment Rate(%)', fontsize=18, loc='right', fontweight='bold')\n",
        "\n",
        "# Add legend with title, positioned to the right\n",
        "plt.legend(title='Group based on income', bbox_to_anchor=(1, 1)).get_title().set_fontweight('bold')\n",
        "\n",
        "# Show the plot\n",
        "plt.show()\n"
      ],
      "metadata": {
        "id": "1tM7OxxxM_sJ"
      },
      "execution_count": null,
      "outputs": []
    },
    {
      "cell_type": "markdown",
      "source": [
        "**Why did you pick the specific chart?**"
      ],
      "metadata": {
        "id": "wFWDQPEsUi0w"
      }
    },
    {
      "cell_type": "markdown",
      "source": [
        "I have chosen this chart to compare the Enrollment rates in tertiary education in different economic groups. A bar chart was deemed suitable for this purpose due to its inherent capacity to showcase variations in data points among distinct categories, such as countries in this context. The horizontal bars allow for a direct visual comparison of the data, aiding in the identification of trends, disparities, and outliers across the selected countries."
      ],
      "metadata": {
        "id": "Bddr1aaiUinx"
      }
    },
    {
      "cell_type": "markdown",
      "source": [
        " **What is/are the insight(s) found from the chart?**"
      ],
      "metadata": {
        "id": "w3mfU92RUglY"
      }
    },
    {
      "cell_type": "markdown",
      "source": [
        "In scrutinizing the evolution of enrollment rates in tertiary education and comparing these rates across countries with diverse income levels, several critical insights have emerged:\n",
        "\n",
        "1. **Economic Dependency:**\n",
        "\n",
        "  The enrollment rates in tertiary education are intricately tied to the economic conditions of a country, the income levels of its citizens, and the efficacy of its education system.\n",
        "For countries lacking a robust education system, students often seek opportunities abroad for better education and future prospects.\n",
        "\n",
        "2. **Income-Enrollment Relationship:**\n",
        "\n",
        "  The graph highlights a direct correlation between enrollment rates and the income of households and in which gruop it falls.\n",
        "In the Low-Income group, enrollment rates are notably low, hovering around 3%, and show a modest increase to 5% (an 8% increase) by 2015. This underscores the need for focused governmental efforts to improve the education system and elevate the country's socioeconomic standing.\n",
        "\n",
        "3. **Incomplete Enrollment:**\n",
        "\n",
        "  Notably, enrollment ratios across all income groups did not reach 100%, indicating a significant number of students discontinuing their studies after completing secondary education.\n",
        "Potential reasons for this trend include financial constraints within families and the non-feasibility of pursuing tertiary education.\n",
        "\n"
      ],
      "metadata": {
        "id": "QQttKE3_UgYo"
      }
    },
    {
      "cell_type": "markdown",
      "source": [
        "##### 3. **Will the gained insights help creating a positive business impact?**\n",
        "**Are there any insights that lead to negative growth? Justify with specific reason.**"
      ],
      "metadata": {
        "id": "KxCc5GJYxV9l"
      }
    },
    {
      "cell_type": "markdown",
      "source": [
        "####**Positive Impact on Education:**\n",
        "\n",
        "**Direct Correlation with Economic Conditions**: Understanding the link between tertiary education enrollment and economic conditions provides policymakers with insights to develop strategies for enhancing education accessibility.\n",
        "####**Negative Impact on Education:**\n",
        "\n",
        "**Incomplete Enrollment**: The fact that enrollment ratios do not reach 100% across income groups indicates challenges in ensuring continuous education beyond secondary levels.\n",
        "####**Conclusion:**\n",
        "The insights from scrutinizing tertiary education enrollment rates highlight the critical role of economic conditions and income levels in shaping enrollment patterns. Governments should focus on strengthening education systems, especially in low-income groups, to facilitate increased enrollment in tertiary education. Addressing challenges related to incomplete enrollment requires targeted interventions to alleviate financial constraints and make tertiary education more accessible. These insights guide policymakers in formulating strategies for improving overall tertiary education access and outcomes."
      ],
      "metadata": {
        "id": "EbANFCFMyAk4"
      }
    },
    {
      "cell_type": "markdown",
      "source": [
        "## **9. Government Spending on Education: Investigate the relationship between government spending on education and educational outcomes, such as literacy rates.**\n",
        "\n"
      ],
      "metadata": {
        "id": "xoDaujDSt64-"
      }
    },
    {
      "cell_type": "markdown",
      "source": [
        "\" \"\n",
        "this is my problem statement,\n",
        "\n",
        "\"\"\n",
        "this is my business objective,\n",
        "\n",
        "\"\"\n",
        "this is the insight which i found from this analysis,\n",
        "\n",
        "write the insight without grammatical errors and some extra point to enhace the quality of my answer which do not changes the answer and write the conclusion that what government should do and what is the responsibility of people there and keep in mind my business objective while writing for insights and for conclusion."
      ],
      "metadata": {
        "id": "0KXj5Ht29Qbe"
      }
    },
    {
      "cell_type": "code",
      "source": [
        "# Check for the indicatore which is required for our analysis using regular expression.\n",
        "df_data[df_data['Indicator Name'].str.contains('expenditure', regex = True)].head(5)"
      ],
      "metadata": {
        "id": "JGr0MI3MM_bX"
      },
      "execution_count": null,
      "outputs": []
    },
    {
      "cell_type": "code",
      "source": [
        "# Check for the indicatore which is required for our analysis using regular expression.\n",
        "df_data[df_data['Indicator Name'].str.contains('Adult literacy rate', regex = True)].head(5)"
      ],
      "metadata": {
        "id": "xr4dEvtkpGLM"
      },
      "execution_count": null,
      "outputs": []
    },
    {
      "cell_type": "code",
      "source": [
        "# Government expenditure on education as % of GDP (%)   SE.XPD.TOTL.GD.ZS\n",
        "# Adult literacy rate, population 15+ years, both sexes (%) SE.ADT.LITR.ZS\n",
        "\n",
        "#Lets extract the data for govt. Expenditure indicator which is mentioned above by using data_extractor function.\n",
        "df_gee = data_extractor(df_data, 'SE.XPD.TOTL.GD.ZS').copy()\n",
        "\n",
        "\n",
        "# Now I'll clean the data by dropping duplicates and null values by using data_vleaner function.\n",
        "df_gee = data_cleaner(df_gee, 20).reset_index()\n",
        "\n",
        "\n",
        "# I want only the years between 1995 to 2015 because data in this rang is more accurate with less nanan values.\n",
        "years = [str(years) for years in range(1995, 2016)]\n",
        "\n",
        "# Melting the data frame for visualisation.\n",
        "df_gee_melt = pd.melt(df_gee, id_vars = ['Country Name'], var_name = 'Years', value_name = 'Govt Expenditure')\n",
        "\n",
        "# Showing the top 5 rows of the melted data frame.\n",
        "df_gee_melt.head(5)"
      ],
      "metadata": {
        "id": "lCZ3LUKtm3HO"
      },
      "execution_count": null,
      "outputs": []
    },
    {
      "cell_type": "code",
      "source": [
        "# # Filter the DataFrame to only include rows with the specified indicator code\n",
        "# df_alr = df_data[df_data['Indicator Code'] == 'SE.ADT.LITR.ZS'].copy()\n",
        "\n",
        "# # Transpose the DataFrame and drop rows and columns that only contain NaN values\n",
        "# df_alr = df_alr.T\n",
        "# df_alr.columns = df_alr.iloc[0]\n",
        "# df_alr = df_alr.iloc[4:]\n",
        "# df_alr.dropna(axis=0, how='all', inplace=True)\n",
        "# df_alr.dropna(axis=1, how='all', inplace=True)\n",
        "\n",
        "# # Showing the top 5 rows.\n",
        "# df_alr.head(5)"
      ],
      "metadata": {
        "id": "wqfGVqaAcbQr"
      },
      "execution_count": null,
      "outputs": []
    },
    {
      "cell_type": "code",
      "source": [
        "\n",
        "# Now we need Adult literacy rate dataset for the analysis and we already have that data frame and we'll use that data frame for this problem statement.\n",
        "\n",
        "# As we already have df_alr now we need to do some data wrangling.\n",
        "df_alr_9 = df_alr.T.reset_index()\n",
        "\n",
        "# Now I'll clean the data by dropping duplicates and null values by using data_vleaner function\n",
        "df_alr_9 = data_cleaner(df_alr_9, 10).reset_index()\n",
        "\n",
        "# Showing the top 5 rows of the cleaned data set.\n",
        "df_alr_9.head(5)"
      ],
      "metadata": {
        "id": "cjSXvG8GnsQr"
      },
      "execution_count": null,
      "outputs": []
    },
    {
      "cell_type": "code",
      "source": [
        "\n",
        "# Melting the data frame for visualisation.\n",
        "df_alr_melt_9 = melt(df_alr_9, 'Country Name', 'Years', 'Adult Literacy Rate')\n",
        "\n",
        "# Showing the top 5 rows of the data frame.\n",
        "df_alr_melt_9.head(5)"
      ],
      "metadata": {
        "id": "hZWJd7gQbpmf"
      },
      "execution_count": null,
      "outputs": []
    },
    {
      "cell_type": "code",
      "source": [
        "\n",
        "# I am merging this dataset using pd.merge() function.\n",
        "df9 = pd.merge(df_gee_melt, df_alr_melt_9, how = 'inner', on = ['Country Name', 'Years'])\n",
        "\n",
        "# Showing the top 5 rows of the data frame.\n",
        "df9.head(5)"
      ],
      "metadata": {
        "id": "VGOqZLSfcy7Q"
      },
      "execution_count": null,
      "outputs": []
    },
    {
      "cell_type": "code",
      "source": [
        "# Filter the DataFrame for 'Azerbaijan'\n",
        "df_azer = df9[df9['Country Name'] == 'Azerbaijan']\n",
        "\n",
        "# Filter the DataFrame for 'Iran, Islamic Rep.'\n",
        "df_iran = df9[df9['Country Name'] == 'Iran, Islamic Rep.']\n",
        "\n",
        "# Filter the DataFrame for 'Spain'\n",
        "df_spain = df9[df9['Country Name'] == 'Spain']\n",
        "\n",
        "# Filter the DataFrame for 'Indonesia'\n",
        "df_indo = df9[df9['Country Name'] == 'Indonesia']\n",
        "\n",
        "# Filter the DataFrame for 'Pakistan'\n",
        "df_pak = df9[df9['Country Name'] == 'Pakistan']\n",
        "\n",
        "# Filter the DataFrame for 'Turkey'\n",
        "df_turkey = df9[df9['Country Name'] == 'Turkey']\n"
      ],
      "metadata": {
        "id": "APuZ_5WJjvqp"
      },
      "execution_count": null,
      "outputs": []
    },
    {
      "cell_type": "markdown",
      "source": [
        "####**Explanation:**\n",
        "1. **Data Extraction:**\n",
        "\n",
        "  The code starts by extracting data related to government expenditure on education as a percentage of GDP (SE.XPD.TOTL.GD.ZS) using the data_extractor function.\n",
        "\n",
        "2. **Data Cleaning:**\n",
        "\n",
        "  The extracted data is then cleaned by removing duplicate rows and columns with a high percentage of missing values (20 is the threshold for dropping columns) using the data_cleaner function. The resulting DataFrame (df_gee) is a cleaned representation of government expenditure data.\n",
        "\n",
        "3. **Year Selection and Reshaping:**\n",
        "  The code then selects the years between 1995 and 2015 for more accurate analysis. Subsequently, it reshapes the DataFrame (df_gee) into a long format suitable for visualization using the melt function. The resulting DataFrame (df_gee_melt) has columns 'Country Name', 'Years', and 'Govt Expenditure'.\n",
        "\n",
        "4. **Data Preparation for Adult Literacy Rate:**\n",
        "  The code uses the existing DataFrame (df_alr) for adult literacy rate analysis. It transposes (T) the DataFrame to have 'Country Name' as columns, resets the index, and then cleans the data by removing duplicates and null values.\n",
        "\n",
        "5. **Reshaping Adult Literacy Rate Data:**\n",
        "  The adult literacy rate DataFrame (df_alr_9) is then reshaped into a long format suitable for visualization using the melt function. The resulting DataFrame (df_alr_melt_9) has columns 'Country Name', 'Years', and 'Adult Literacy Rate'.\n",
        "\n",
        "6. **Merging Datasets:**\n",
        "  The code merges the two reshaped DataFrames (df_gee_melt and df_alr_melt_9) on 'Country Name' and 'Years' using pd.merge() with an inner join. The resulting DataFrame (df9) now contains information about government expenditure on education and adult literacy rates for various countries over different years.\n",
        "\n",
        "The subsequent code filters the merged DataFrame (df9) for specific countries of interest and creates separate DataFrames for each country. These individual DataFrames can be analyzed further to investigate the relationship between government spending on education and adult literacy rates in these countries."
      ],
      "metadata": {
        "id": "gjnHCjoIADwz"
      }
    },
    {
      "cell_type": "code",
      "source": [
        "# List of DataFrames for specific countries\n",
        "dfs = [df_azer, df_iran, df_spain, df_indo, df_pak, df_turkey]\n",
        "\n",
        "# List of titles corresponding to each DataFrame\n",
        "title = ['Azerbaijan', 'Iran, Islamic Rep.', 'Spain', 'Indonesia', 'Pakistan', 'Turkey']\n",
        "\n",
        "# Create a 3x2 subplot layout with a total figure size of (15, 15)\n",
        "fig, axs = plt.subplots(3, 2, figsize=(15, 15))\n",
        "\n",
        "# Set the style to darkgrid using Seaborn\n",
        "sns.set(style='darkgrid')\n",
        "\n",
        "# Iterate over the subplots\n",
        "for i, ax in enumerate(axs.flatten()):\n",
        "    # Select the current DataFrame from the list\n",
        "    df = dfs[i]\n",
        "\n",
        "    # Create a scatter plot for Govt Expenditure vs. Adult Literacy Rate\n",
        "    sns.scatterplot(data=df, x='Govt Expenditure', y='Adult Literacy Rate', hue='Years', ax=ax, palette='viridis')\n",
        "\n",
        "    # Set subplot title\n",
        "    ax.set_title(f'{title[i]}', fontsize=20, loc='right', fontweight='bold')\n",
        "\n",
        "    # Set x-axis label\n",
        "    ax.set_xlabel('Govt. Expenditure as (%) of GDP', fontsize=14)\n",
        "\n",
        "    # Set y-axis label\n",
        "    ax.set_ylabel('Adult Literacy Rate(%)', fontsize=14)\n",
        "\n",
        "    # Add legend with title for each subplot, positioned to the right\n",
        "    ax.legend(title='Years', bbox_to_anchor=(1, 1)).get_title().set_fontweight('bold')\n",
        "\n",
        "# Adjust the spacing between subplots\n",
        "plt.subplots_adjust(wspace=0.9, hspace=0.4)\n",
        "\n",
        "# Display the plot\n",
        "plt.show()"
      ],
      "metadata": {
        "id": "D3r0mQaviPrT"
      },
      "execution_count": null,
      "outputs": []
    },
    {
      "cell_type": "markdown",
      "source": [
        "**Why did you pick the specific chart?**"
      ],
      "metadata": {
        "id": "PsooYQoLUpdj"
      }
    },
    {
      "cell_type": "markdown",
      "source": [
        "I have chosen a scatter plot as the preferred visualization method due to the specific insights I aim to uncover. The objective is to identify and analyze the correlation between Literacy rate and Govt. Expenditure in education across different countries and years.\n",
        "\n",
        "The scatter plot proves to be an effective tool for examining relationships between variables. In this context, it allows for the exploration of how changes in one indicator align with changes in another, providing insights into potential correlations or patterns."
      ],
      "metadata": {
        "id": "Rg4plwN_UpQV"
      }
    },
    {
      "cell_type": "markdown",
      "source": [
        "**What is/are the insight(s) found from the chart?**"
      ],
      "metadata": {
        "id": "01-i25gmUnSB"
      }
    },
    {
      "cell_type": "markdown",
      "source": [
        "The analysis reveals a clear positive correlation between government spending on education and literacy rates. As government expenditure on education increases, literacy rates show a corresponding upward trend.\n",
        "\n",
        "The insight drawn from the graph emphasizes the direct proportionality between government investment in education and the improvement of literacy outcomes.\n",
        "\n",
        "It's crucial to recognize that increased government spending on education not only enhances literacy rates but also contributes to overall educational effectiveness.\n",
        "\n",
        "The high correlation observed underscores the significance of strategic resource allocation in optimizing educational outcomes.\n",
        "\n"
      ],
      "metadata": {
        "id": "gILITo8uUnEx"
      }
    },
    {
      "cell_type": "markdown",
      "source": [
        "##### 3. **Will the gained insights help creating a positive business impact?**\n",
        "**Are there any insights that lead to negative growth? Justify with specific reason.**"
      ],
      "metadata": {
        "id": "0-TGSLVWyUlL"
      }
    },
    {
      "cell_type": "markdown",
      "source": [
        "####**Positive Impact on Education:**\n",
        "\n",
        "**Improved Literacy Rates:** The positive correlation between government spending and literacy rates suggests that increased investment in education contributes to improved literacy outcomes.\n",
        "####**Conclusion:**\n",
        "The identified positive correlation emphasizes the crucial role of government spending in shaping educational outcomes, particularly literacy rates. Policymakers should recognize the significance of strategic resource allocation to enhance overall educational effectiveness. This insight guides the formulation of policies aimed at optimizing educational outcomes through targeted investments in education."
      ],
      "metadata": {
        "id": "Mc8fejm0yrMC"
      }
    },
    {
      "cell_type": "markdown",
      "source": [
        "## **10. Gender Parity in Primary Education: Assess the gender parity index (GPI) in primary education and identify countries where gender disparities exist.**"
      ],
      "metadata": {
        "id": "HtisoYRqx3rX"
      }
    },
    {
      "cell_type": "code",
      "source": [
        "# Check for the indicatore which is required for our analysis using regular expression.\n",
        "df_data[df_data['Indicator Name'].str.contains('gender parity index', regex = True)]"
      ],
      "metadata": {
        "id": "rPGjRzTuSn8Q"
      },
      "execution_count": null,
      "outputs": []
    },
    {
      "cell_type": "code",
      "source": [
        "# Adjusted net enrolment rate, primary, gender parity index (GPI)\tUIS.NERA.1.GPI\n",
        "# Gross enrolment ratio, primary, gender parity index (GPI)\tSE.ENR.PRIM.FM.ZS\n",
        "# Primary completion rate, gender parity index (GPI)\tUIS.AIR.1.GLAST.GPI\n",
        "\n",
        "# We'll use the following regions for our analysis because they have less null values in the dataset.\n",
        "countries_10 = ['Arab World', 'European Union', 'Latin America & Caribbean', 'Middle East & North Africa', 'South Asia', 'World']\n",
        "\n",
        "\n",
        "# Extract the data of the required indicator codes by using data_extractor() function.\n",
        "df_gpp_net = data_extractor(df_data, 'UIS.NERA.1.GPI').copy()\n",
        "df_gpp_complete = data_extractor(df_data, 'UIS.AIR.1.GLAST.GPI').copy()"
      ],
      "metadata": {
        "id": "9VmciJ2ZTj6V"
      },
      "execution_count": null,
      "outputs": []
    },
    {
      "cell_type": "code",
      "source": [
        "# Show the top 5 rows of the data frame.\n",
        "df_gpp_net.head()"
      ],
      "metadata": {
        "id": "hv6dWyEgm2mQ"
      },
      "execution_count": null,
      "outputs": []
    },
    {
      "cell_type": "code",
      "source": [
        "# Clean the data using the function data_cleaner()\n",
        "df_gpp_net = data_cleaner(df_gpp_net, 45).reset_index()\n",
        "\n",
        "# Extract the data for the regions which i've selected for this analysis.\n",
        "df_gpp_net = df_gpp_net[df_gpp_net['Country Name'].isin(countries_10)].copy()\n",
        "\n",
        "# We'll use melt function to make our code ready for visualization.\n",
        "df_gpp_net_melt = melt(df_gpp_net, 'Country Name', 'Years', 'Net enrollment')\n",
        "\n",
        "# Show the top 5 rows of the data frame.\n",
        "df_gpp_net_melt.head(5)"
      ],
      "metadata": {
        "id": "n0QscNvLr54_"
      },
      "execution_count": null,
      "outputs": []
    },
    {
      "cell_type": "code",
      "source": [
        "# Show the top 5 rows of the data frame.\n",
        "df_gpp_complete.head(5)"
      ],
      "metadata": {
        "id": "miBJXgp9m2fv"
      },
      "execution_count": null,
      "outputs": []
    },
    {
      "cell_type": "code",
      "source": [
        "# Clean the data using the function data_cleaner()\n",
        "df_gpp_complete = data_cleaner(df_gpp_complete, 35).reset_index()\n",
        "\n",
        "# Extract the data for the regions which i've selected for this analysis.\n",
        "df_gpp_complete = df_gpp_complete[df_gpp_complete['Country Name'].isin(countries_10)]\n",
        "\n",
        "# We'll use melt function to make our code ready for visualization.\n",
        "df_gpp_melt_complete = melt(df_gpp_complete, 'Country Name', 'Years', 'Primary completed')\n",
        "\n",
        "# Show the top 5 rows of the data frame.\n",
        "df_gpp_melt_complete.head(5)"
      ],
      "metadata": {
        "id": "4s82gAmHtg3R"
      },
      "execution_count": null,
      "outputs": []
    },
    {
      "cell_type": "code",
      "source": [
        "# Let's merge both the dataframe by using merge function for easy understanding and to make visualization.\n",
        "df_gpp = pd.merge(df_gpp_net_melt, df_gpp_melt_complete, how = 'inner', on = ['Country Name', 'Years'])\n",
        "\n",
        "# Show the top 5 rows of the data frame.\n",
        "df_gpp.head(5)"
      ],
      "metadata": {
        "id": "2X2BooGDm2ZQ"
      },
      "execution_count": null,
      "outputs": []
    },
    {
      "cell_type": "code",
      "source": [
        "# Use info function to check is the data types of the columns are same as required.\n",
        "df_gpp.info()"
      ],
      "metadata": {
        "id": "EcRSs7ENwxUx"
      },
      "execution_count": null,
      "outputs": []
    },
    {
      "cell_type": "code",
      "source": [
        "# Changing the datatype of the years column to date time\n",
        "df_gpp['Years'] = pd.to_datetime(df_gpp['Years'], format = '%Y').dt.year\n",
        "\n",
        "# dropping all the null values.\n",
        "df_gpp.dropna(inplace = True)\n",
        "\n",
        "# To extract years of interval 5 years we'll use np.arange function.\n",
        "years = np.arange(1970, 2016, 5)\n",
        "\n",
        "# Now i'll extract the required years only, will drop the remaining years.\n",
        "df_gpp = df_gpp[df_gpp['Years'].isin(years)]\n",
        "\n",
        "# Show the top 5 rows of the data frame.\n",
        "df_gpp.head(5)"
      ],
      "metadata": {
        "id": "2NcrJrJJM_MQ"
      },
      "execution_count": null,
      "outputs": []
    },
    {
      "cell_type": "markdown",
      "source": [
        "#### **Explanation:**\n",
        "\n",
        "1. **Extract Data:**\n",
        "\n",
        "  Use the data_extractor function to obtain two dataframes: df_gpp_net for the Net Enrollment Ratio (NER) GPI and df_gpp_complete for the Primary Completion Rate GPI.\n",
        "\n",
        "2. **Clean Data (Net Enrollment Ratio GPI):**\n",
        "\n",
        "  Clean the df_gpp_net dataframe using the data_cleaner function, specifying a threshold of 45 non-NaN values for data integrity. Reset the index for subsequent operations.\n",
        "\n",
        "3. **Filter Data (Net Enrollment Ratio GPI):**\n",
        "\n",
        "  Select data only for the specified countries (countries_10) in the df_gpp_net dataframe.\n",
        "\n",
        "4. **Melt Data (Net Enrollment Ratio GPI):**\n",
        "\n",
        "  Reshape the df_gpp_net dataframe using the melt function, transforming it into a format suitable for visualization.\n",
        "\n",
        "5. **Clean Data (Primary Completion Rate GPI):**\n",
        "\n",
        "  Clean the df_gpp_complete dataframe using the data_cleaner function, setting a threshold of 35 non-NaN values. Reset the index for further manipulations.\n",
        "\n",
        "6. **Filter Data (Primary Completion Rate GPI):**\n",
        "\n",
        "  Select data only for the specified countries (countries_10) in the df_gpp_complete dataframe.\n",
        "\n",
        "7. **Melt Data (Primary Completion Rate GPI):**\n",
        "\n",
        "  Reshape the df_gpp_complete dataframe using the melt function, preparing it for visualization.\n",
        "\n",
        "8. **Merge Dataframes:**\n",
        "\n",
        "  Combine both melted dataframes (df_gpp_net_melt and df_gpp_melt_complete) based on common columns 'Country Name' and 'Years' using the pd.merge function.\n",
        "\n",
        "9. **Data Type Conversion:**\n",
        "\n",
        "  Change the datatype of the 'Years' column in the merged dataframe (df_gpp) to datetime for better analysis.\n",
        "\n",
        "10. **Drop Null Values:**\n",
        "\n",
        "  Remove rows with null values in the merged dataframe (df_gpp).\n",
        "\n",
        "11. **Extract Specific Years:**\n",
        "\n",
        "  Retain only the years at 5-year intervals in the df_gpp dataframe.\n",
        "  \n",
        "12. **Display Top 5 Rows:**\n",
        "\n",
        "  Show the first 5 rows of the resulting dataframe (df_gpp)."
      ],
      "metadata": {
        "id": "HTOQ5bjnBxov"
      }
    },
    {
      "cell_type": "code",
      "source": [
        "# Create a 2x1 subplot layout with a total figure size of (20, 15)\n",
        "fig, ax = plt.subplots(2, 1, figsize=(20, 15))\n",
        "\n",
        "# Set the style to darkgrid using Seaborn\n",
        "sns.set_style('darkgrid')\n",
        "\n",
        "# Create a bar plot for Net primary enrollment_GPI\n",
        "sns.lineplot(data=df_gpp, y='Net enrollment', x='Years', hue='Country Name', ax=ax[0], palette='tab10', marker = 'o', linewidth=2.5, markersize=10)\n",
        "\n",
        "# Set subplot title, x-axis label, y-axis label, and legend\n",
        "ax[0].set_title('GPI of Net Enrollment in Primary Education', fontsize=20, loc='right', fontweight='bold')\n",
        "ax[0].set_xlabel('Years', fontsize=18)\n",
        "ax[0].set_ylabel('GPI', fontsize=18)\n",
        "ax[0].legend(title='Regions', bbox_to_anchor=(1, 1)).get_title().set_fontweight('bold')\n",
        "\n",
        "# Create a bar plot for Primary education completed_GPI\n",
        "sns.lineplot(data=df_gpp, y='Primary completed', x='Years', hue='Country Name', ax=ax[1], palette='tab10', marker = 'o', linewidth=3, markersize=10)\n",
        "\n",
        "# Set subplot title, x-axis label, y-axis label, and legend\n",
        "ax[1].set_title('GPI of Students Completed Primary Education', fontsize=20, loc='right', fontweight='bold')\n",
        "ax[1].set_xlabel('Years', fontsize=18)\n",
        "ax[1].set_ylabel('GPI', fontsize=18)\n",
        "ax[1].legend(title='Regions', bbox_to_anchor=(1, 1)).get_title().set_fontweight('bold')\n",
        "\n",
        "# Adjust the spacing between subplots\n",
        "plt.subplots_adjust(wspace=0.9, hspace=0.4)\n",
        "\n",
        "# Display the plot\n",
        "plt.show()\n"
      ],
      "metadata": {
        "id": "XGNWJwFEZHX2"
      },
      "execution_count": null,
      "outputs": []
    },
    {
      "cell_type": "markdown",
      "source": [
        "**Why did you pick the specific chart?**"
      ],
      "metadata": {
        "id": "wXB4llhWUxxn"
      }
    },
    {
      "cell_type": "markdown",
      "source": [
        "I selected this chart due to the nature of my data, which is predominantly Time-Series data. In the context of Time-Series analysis, a line plot will serves as an optimal visualization method to depict trends and patterns of Gender Parity Index over time in different Regions."
      ],
      "metadata": {
        "id": "aYJ54uJfUxln"
      }
    },
    {
      "cell_type": "markdown",
      "source": [
        " **What is/are the insight(s) found from the chart?**"
      ],
      "metadata": {
        "id": "J0XmVSJvUvPJ"
      }
    },
    {
      "cell_type": "markdown",
      "source": [
        "The analysis of the gender parity index (GPI) in primary education indicates that regions such as Latin America and the European Union exhibit minimal gender disparities. In contrast, gender disparities persist in primary education in the Middle East, North Africa, and South Asia.\n",
        "\n",
        "Over time, there has been a noticeable reduction in gender disparities, signifying positive progress. However, challenges persist, especially in regions where gender inequalities are more pronounced.\n",
        "\n",
        "Gender disparities in education are complex and influenced by various socio-economic and cultural factors. Addressing these disparities requires a multi-faceted approach.\n",
        "\n"
      ],
      "metadata": {
        "id": "I0U4FBELUvCI"
      }
    },
    {
      "cell_type": "markdown",
      "source": [
        "##### 3. **Will the gained insights help creating a positive business impact?**\n",
        "**Are there any insights that lead to negative growth? Justify with specific reason.**"
      ],
      "metadata": {
        "id": "SyWc96NBy5sh"
      }
    },
    {
      "cell_type": "markdown",
      "source": [
        "**Positive Impact:**\n",
        "\n",
        "1. **Equitable Access and Inclusion**: Regions with minimal gender disparities, such as Latin America and the European Union, demonstrate positive progress towards providing equitable access to primary education for both genders. This fosters inclusivity, ensuring that educational opportunities are available to all, regardless of gender.\n",
        "\n",
        "2. **Gender Equality Advocacy**: The reduction in gender disparities over time reflects a positive trend in advocating for gender equality in education. It indicates that awareness and efforts to bridge gender gaps are making a difference, contributing to a more balanced educational landscape.\n",
        "\n",
        "3. **Empowerment and Socioeconomic Development**: Achieving gender parity in primary education is a key driver of empowering individuals and fostering socioeconomic development. When both boys and girls have equal access to education, it creates a foundation for building a skilled and knowledgeable workforce, positively impacting economic growth.\n",
        "\n",
        "**Negative Impact:**\n",
        "\n",
        "1. **Persistent Disparities**: Regions facing persistent gender disparities, particularly in the Middle East, North Africa, and South Asia, indicate a negative impact on the goal of achieving equal educational opportunities. These disparities may contribute to social inequality and hinder the overall development of these regions.\n",
        "\n",
        "2. **Limitations in Opportunities**: Ongoing gender disparities limit the opportunities available to certain groups, potentially perpetuating cycles of poverty and inequality. Girls, in particular, may face challenges in accessing education, impacting their future prospects and overall societal development.\n",
        "\n",
        "3. **Cultural and Societal Barriers**: The complex influences contributing to gender disparities, including cultural and societal factors, pose challenges to addressing the root causes. Overcoming deeply ingrained cultural norms and biases requires sustained efforts and may hinder the pace of progress."
      ],
      "metadata": {
        "id": "EWHCzBd4zpGv"
      }
    },
    {
      "cell_type": "code",
      "source": [
        "# To compare the enrollment and completion we'll plot both the completion rate and enrollment rate with each other\n",
        "\n",
        "\n",
        "# Filter the DataFrame for 'Arab World' and reshape it using melt\n",
        "df_arab = df_gpp[df_gpp['Country Name'] == 'Arab World']\n",
        "df_arab = pd.melt(df_arab, id_vars=['Country Name', 'Years'], var_name='GPI of Enrollment Vs Completion', value_name='Values')\n",
        "\n",
        "# Filter the DataFrame for 'European Union' and reshape it using melt\n",
        "df_europ = df_gpp[df_gpp['Country Name'] == 'European Union']\n",
        "df_europ = pd.melt(df_europ, id_vars=['Country Name', 'Years'], var_name='GPI of Enrollment Vs Completion', value_name='Values')\n",
        "\n",
        "# Filter the DataFrame for 'Latin America & Caribbean' and reshape it using melt\n",
        "df_america = df_gpp[df_gpp['Country Name'] == 'Latin America & Caribbean']\n",
        "df_america = pd.melt(df_america, id_vars=['Country Name', 'Years'], var_name='GPI of Enrollment Vs Completion', value_name='Values')\n",
        "\n",
        "# Filter the DataFrame for 'Middle East & North Africa' and reshape it using melt\n",
        "df_me_na = df_gpp[df_gpp['Country Name'] == 'Middle East & North Africa']\n",
        "df_me_na = pd.melt(df_me_na, id_vars=['Country Name', 'Years'], var_name='GPI of Enrollment Vs Completion', value_name='Values')\n",
        "\n",
        "# Filter the DataFrame for 'South Asia' and reshape it using melt\n",
        "df_asia = df_gpp[df_gpp['Country Name'] == 'South Asia']\n",
        "df_asia = pd.melt(df_asia, id_vars=['Country Name', 'Years'], var_name='GPI of Enrollment Vs Completion', value_name='Values')\n",
        "\n",
        "# Filter the DataFrame for 'World' and reshape it using melt\n",
        "df_world = df_gpp[df_gpp['Country Name'] == 'World']\n",
        "df_world = pd.melt(df_world, id_vars=['Country Name', 'Years'], var_name='GPI of Enrollment Vs Completion', value_name='Values')\n",
        "\n",
        "# Display the resulting DataFrame\n",
        "df_world.head(5)\n"
      ],
      "metadata": {
        "id": "Zk-6Qsaf6Qed"
      },
      "execution_count": null,
      "outputs": []
    },
    {
      "cell_type": "markdown",
      "source": [
        "We further extracted the datas based on region to compare the completion rate GPI and Net enrollment rate GPI."
      ],
      "metadata": {
        "id": "X83-pt8eCxID"
      }
    },
    {
      "cell_type": "code",
      "source": [
        "# Create a list of DataFrames and titles for different regions\n",
        "dfs = [df_arab, df_europ, df_america,df_me_na, df_asia, df_world]\n",
        "titles = [f'GPI in {region}' for region in countries_10]\n",
        "\n",
        "# Create a 5x1 subplot layout with a total figure size of (15, 30)\n",
        "fig, axs = plt.subplots(3, 2, figsize=(17, 15))\n",
        "\n",
        "# Iterate over the subplots\n",
        "for i, ax in enumerate(axs.flatten()):\n",
        "    # Create a bar plot for the current DataFrame in the loop\n",
        "    sns.barplot(data=dfs[i], x='Years', y='Values', hue='GPI of Enrollment Vs Completion', ax=ax, color='skyblue', palette='tab20')\n",
        "\n",
        "    # Set subplot title\n",
        "    ax.set_title(titles[i], fontsize=18, loc='right', fontweight='bold')\n",
        "\n",
        "    # Set x-axis label\n",
        "    ax.set_xlabel('Years', fontsize=16)\n",
        "\n",
        "    # Set y-axis label\n",
        "    ax.set_ylabel('GPI', fontsize=16)\n",
        "\n",
        "    # Add legend with title for each subplot, positioned to the right\n",
        "    ax.legend(title='Enrollment Vs Completion', bbox_to_anchor=(1, 1)).get_title().set_fontweight('bold')\n",
        "\n",
        "# Adjust the spacing between subplots\n",
        "plt.subplots_adjust(wspace=0.8, hspace=0.4)\n",
        "\n",
        "# Display the plot\n",
        "plt.show()\n",
        "\n"
      ],
      "metadata": {
        "id": "yQA-L9tdZHUV"
      },
      "execution_count": null,
      "outputs": []
    },
    {
      "cell_type": "markdown",
      "source": [
        "**Why did you pick the specific chart?**"
      ],
      "metadata": {
        "id": "2UhzkbYzU5lk"
      }
    },
    {
      "cell_type": "markdown",
      "source": [
        "I have chosen this chart to compare the GPI of Net Enrollment rates in primary education with GPI of net completion of primery education. A bar chart was deemed suitable for this purpose due to its inherent capacity to showcase variations in data points among distinct categories, such as countries in this context. The horizontal bars allow for a direct visual comparison of the data, aiding in the identification of trends, disparities, and outliers across the selected countries."
      ],
      "metadata": {
        "id": "rSEPZdwGU5Zo"
      }
    },
    {
      "cell_type": "markdown",
      "source": [
        "**What is/are the insight(s) found from the chart?**"
      ],
      "metadata": {
        "id": "HOUcwz-jU3cb"
      }
    },
    {
      "cell_type": "markdown",
      "source": [
        "In these graph we compared the gender disparities between net enrollment and the rate of students who have completed the primary education in each of the region and we can see from the graph that is higher in completion rate as compared to the enrollment rate in Arab world, South Asia, Middle east and north africa."
      ],
      "metadata": {
        "id": "DkiYVM23U3PZ"
      }
    },
    {
      "cell_type": "markdown",
      "source": [
        "## **11. Teacher-Student Ratios in Secondary Education: Analyze teacher-student ratios in secondary education and assess their impact on enrollment and educational outcomes.**\n",
        "\n"
      ],
      "metadata": {
        "id": "5ihZEEQ6Gro8"
      }
    },
    {
      "cell_type": "markdown",
      "source": [
        "The term \"teacher-student ratio\" refers to the number of teachers divided by the number of students in a particular educational setting. It is a measure commonly used in education to assess the relationship between the number of teachers available and the number of students they are responsible for. The ratio is often expressed in the form of \"X:1,\" where X is the number of students for each teacher.\n",
        "\n",
        "A lower teacher-student ratio is generally considered beneficial because it suggests that each teacher has a smaller number of students to attend to, allowing for more personalized attention and potentially better educational outcomes. Conversely, a higher ratio may indicate larger class sizes and less individualized attention for students.\n",
        "\n",
        "\n",
        "The optimal range for teacher-student ratios can vary based on educational levels, teaching methodologies, and other factors. However, some general guidelines exist:\n",
        "\n",
        "1. **Lower Ratios for Early Education**: In early education settings (such as pre-primary and primary schools), lower ratios are often preferred. Smaller class sizes can be conducive to fostering a supportive learning environment, especially for young children who may need more individualized attention.\n",
        "\n",
        "2. **Varied Ratios for Secondary Education**: In secondary education, the optimal ratio may vary based on factors like subject complexity, teaching methodologies, and the age group of students. Smaller ratios are generally considered advantageous, but they may be less strictly adhered to than in primary education.\n",
        "\n",
        "3. **Higher Education**: In higher education (colleges and universities), the concept of teacher-student ratio may become less straightforward. Larger lecture-style classes are common, and the focus may shift more toward the quality of teaching and available resources rather than a specific numerical ratio.\n",
        "\n",
        "It's important to note that while teacher-student ratios provide insights, they are just one factor among many influencing the overall quality of education. Other factors, such as teacher qualifications, classroom resources, and curriculum design, also play crucial roles in determining educational outcomes."
      ],
      "metadata": {
        "id": "Dor0qb8suuPd"
      }
    },
    {
      "cell_type": "code",
      "source": [
        "# List of countries on which i'll perform this analysis.\n",
        "countries_11 = ['Heavily indebted poor countries (HIPC)', 'Low income', 'Low & middle income', 'Lower middle income', 'Middle income', 'Middle income']"
      ],
      "metadata": {
        "id": "9Phx1GgIAaC9"
      },
      "execution_count": null,
      "outputs": []
    },
    {
      "cell_type": "code",
      "source": [
        "# Check for the indicatore which is required for our analysis using regular expression.\n",
        "df_data[df_data['Indicator Name'].str.contains('Pupil-teacher ratio', regex = True)]\n"
      ],
      "metadata": {
        "id": "c-Zxr4uAZHQg"
      },
      "execution_count": null,
      "outputs": []
    },
    {
      "cell_type": "code",
      "source": [
        "# Extract data for secondary school enrollment ratio\n",
        "df_str = data_extractor(df_data, 'SE.SEC.ENRL.TC.ZS').copy()\n",
        "\n",
        "# Display the first 5 rows of the filtered DataFrame\n",
        "df_str.head(5)\n"
      ],
      "metadata": {
        "id": "_RlRDB6H_QIL"
      },
      "execution_count": null,
      "outputs": []
    },
    {
      "cell_type": "code",
      "source": [
        "# Clean the data by removing rows with less than 40 data points\n",
        "df_str = data_cleaner(df_str, 40)\n",
        "\n",
        "# Display the first 5 rows of the filtered DataFrame\n",
        "df_str.head(5)"
      ],
      "metadata": {
        "id": "sF6guoII0wJ0"
      },
      "execution_count": null,
      "outputs": []
    },
    {
      "cell_type": "code",
      "source": [
        "# Handle outliers in the cleaned data\n",
        "df_str = handle_outliers(df_str)\n",
        "\n",
        "# Display the first 5 rows of the filtered DataFrame\n",
        "df_str.head(5)"
      ],
      "metadata": {
        "id": "M_Vq_N880vxn"
      },
      "execution_count": null,
      "outputs": []
    },
    {
      "cell_type": "code",
      "source": [
        "# Reset the index after data manipulation\n",
        "df_str = df_str.reset_index()\n",
        "\n",
        "# Filter the data for countries in the specified list\n",
        "df_str_1 = df_str[df_str['Country Name'].isin(countries_11)]\n",
        "\n",
        "# Display the first 5 rows of the filtered DataFrame\n",
        "df_str_1.head(5)"
      ],
      "metadata": {
        "id": "HWVIHz2l0vhC"
      },
      "execution_count": null,
      "outputs": []
    },
    {
      "cell_type": "code",
      "source": [
        "# As we already have dataframe for adult literacy rate, we'll use that dataframe for this problem statement too.\n",
        "df_alr_11 = df_alr_9\n",
        "\n",
        "# Showing the top 5 rows of the data frame.\n",
        "df_alr_11.head(5)"
      ],
      "metadata": {
        "id": "dljBatcrBYN2"
      },
      "execution_count": null,
      "outputs": []
    },
    {
      "cell_type": "code",
      "source": [
        "# Let's extract the data for countries that we need for the analysis.\n",
        "df_alr_11 = df_alr_11[df_alr_11['Country Name'].isin(countries_11)]\n",
        "\n",
        "# Showing the top 5 rows of the data frame.\n",
        "df_alr_11.head(5)"
      ],
      "metadata": {
        "id": "CQb_JkdwQUhL"
      },
      "execution_count": null,
      "outputs": []
    },
    {
      "cell_type": "code",
      "source": [
        "# We'll use melt function to make our code ready for visualization.\n",
        "df_str_melt = melt(df_str_1, 'Country Name', 'Years', 'Student-Teacher Ratio')\n",
        "\n",
        "# We'll use melt function to make our code ready for visualization.\n",
        "df_alr_melt_11 = melt(df_alr_11, 'Country Name', 'Years', 'Adult Literacy Rate')\n"
      ],
      "metadata": {
        "id": "WNHM-EPyrD1N"
      },
      "execution_count": null,
      "outputs": []
    },
    {
      "cell_type": "code",
      "source": [
        "# Let's consider the years from 1970 to 2015 with an interval of 5 years.\n",
        "years = np.arange(1970, 2016, 5)\n",
        "\n",
        "# Now i'll use merge function to merge both the data frames i.e. student/teacher ratio and adult literacy rate.\n",
        "df_11 = pd.merge(df_str_melt, df_alr_melt_11, how = 'inner', on = ['Country Name', 'Years'])\n",
        "\n",
        "# Now i'll extract the data from the the final dataframe for the selected years.\n",
        "df_11_year = df_11[df_11['Years'].isin(years)]\n",
        "\n",
        "# Showing the top 5 rows of the data frame.\n",
        "df_11_year.head(5)\n"
      ],
      "metadata": {
        "id": "jYWgDYhCZHI-"
      },
      "execution_count": null,
      "outputs": []
    },
    {
      "cell_type": "markdown",
      "source": [
        "#### **Explanation:**\n",
        "\n",
        "1. **Extract Data for Secondary School Enrollment Ratio:**\n",
        "\n",
        "  Use the data_extractor function to obtain a dataframe (df_str) containing the secondary school enrollment ratio (SE.SEC.ENRL.TC.ZS).\n",
        "\n",
        "2. **Clean Data for Secondary School Enrollment Ratio:**\n",
        "\n",
        "  Apply the data_cleaner function to remove rows with less than 40 data points in the df_str dataframe.\n",
        "\n",
        "3. **Handle Outliers:**\n",
        "\n",
        "  Utilize the handle_outliers function to address outliers in the cleaned data (df_str).\n",
        "\n",
        "4. **Reset Index:**\n",
        "\n",
        "  Reset the index of the manipulated dataframe (df_str) for subsequent operations.\n",
        "\n",
        "5. **Filter Data for Specified Countries (Student-Teacher Ratio):**\n",
        "\n",
        "  Create a subset (df_str_1) of the dataframe for countries specified in countries_11.\n",
        "\n",
        "6. **Extract Data for Adult Literacy Rate:**\n",
        "\n",
        "  As there is an existing dataframe (df_alr_9) for adult literacy rate, reuse this dataframe for the analysis.\n",
        "\n",
        "7. **Filter Data for Specified Countries (Adult Literacy Rate):**\n",
        "\n",
        "  Create a subset (df_alr_11) of the adult literacy rate dataframe for countries specified in countries_11.\n",
        "\n",
        "8. **Melt Data for Student-Teacher Ratio:**\n",
        "\n",
        "  Use the melt function, defined earlier, to reshape df_str_1 for visualization, creating df_str_melt with columns 'Country Name', 'Years', and 'Student-Teacher Ratio'.\n",
        "\n",
        "9. **Melt Data for Adult Literacy Rate:**\n",
        "\n",
        "  Utilize the melt function, defined earlier, to reshape df_alr_11 for visualization, creating df_alr_melt_11 with columns 'Country Name', 'Years', and 'Adult Literacy Rate'.\n",
        "\n",
        "10. **Select Specific Years:**\n",
        "\n",
        "  Consider years from 1970 to 2015 at 5-year intervals (years = np.arange(1970, 2016, 5)).\n",
        "\n",
        "11. **Merge Dataframes:**\n",
        "\n",
        "  Use the pd.merge function, defined earlier, to combine df_str_melt and df_alr_melt_11 based on common columns 'Country Name' and 'Years', resulting in the final dataframe (df_11).\n",
        "\n",
        "12. **Extract Data for Selected Years:**\n",
        "\n",
        "  Create a subset (df_11_year) of the final dataframe for the specified years.\n",
        "\n",
        "13. **Display Top 5 Rows:**\n",
        "\n",
        "  Show the first 5 rows of the resulting dataframe (df_11_year)."
      ],
      "metadata": {
        "id": "RtT9nyq-EouL"
      }
    },
    {
      "cell_type": "code",
      "source": [
        "# Create a 2x1 subplot layout with a total figure size of (20, 12)\n",
        "fig, axs = plt.subplots(figsize=(15, 6))\n",
        "\n",
        "# Set the Seaborn style to darkgrid\n",
        "sns.set_style(style='darkgrid')\n",
        "\n",
        "# Barplot for comparing student-teacher ratio in different economic groups over the years\n",
        "sns.barplot(data=df_11_year, x='Years', y='Student-Teacher Ratio', hue='Country Name', palette='tab20')\n",
        "\n",
        "# Set x-axis label\n",
        "axs.set_xlabel('Years', fontsize=18)\n",
        "\n",
        "# Set y-axis label\n",
        "axs.set_ylabel('Student-Teacher Ratio', fontsize=18)\n",
        "\n",
        "# Set subplot title\n",
        "axs.set_title('Comparison of Student-Teacher Ratio in Different Economic Groups Over the Years', fontsize=18, fontweight='bold', loc='right')\n",
        "\n",
        "# Add legend outside the plot\n",
        "plt.legend(title='Groups Based on Income', bbox_to_anchor=(1, 1)).get_title().set_fontweight('bold')\n",
        "\n"
      ],
      "metadata": {
        "id": "9e4vmmEOZHFM"
      },
      "execution_count": null,
      "outputs": []
    },
    {
      "cell_type": "markdown",
      "source": [
        "**Why did you pick the specific chart?**"
      ],
      "metadata": {
        "id": "yMdeR6yutcYa"
      }
    },
    {
      "cell_type": "markdown",
      "source": [
        "I have chosen this chart to compare the Student-Teacher ration is different economic groups. A bar chart was deemed suitable for this purpose due to its inherent capacity to showcase variations in data points among distinct categories, such as countries in this context. The horizontal bars allow for a direct visual comparison of the data, aiding in the identification of trends, disparities, and outliers across the selected countries."
      ],
      "metadata": {
        "id": "GhDqmwg7swG9"
      }
    },
    {
      "cell_type": "code",
      "source": [
        "# Create a 2x1 subplot layout with a total figure size of (20, 12)\n",
        "fig, axs = plt.subplots(figsize=(15, 6))\n",
        "\n",
        "# Set the Seaborn style to darkgrid\n",
        "sns.set_style(style='darkgrid')\n",
        "\n",
        "# Barplot for comparing student-teacher ratio year-wise in different income groups\n",
        "sns.barplot(data=df_11_year, x='Country Name', y='Student-Teacher Ratio', hue='Years', palette='tab20')\n",
        "\n",
        "# Set x-axis label\n",
        "axs.set_xlabel('Income Groups', fontsize=18)\n",
        "\n",
        "# Set y-axis label\n",
        "axs.set_ylabel('Student-Teacher Ratio', fontsize=18)\n",
        "\n",
        "# Set subplot title\n",
        "axs.set_title('Comparison of Student-Teacher Ratio Year-wise in Different Income Groups', fontsize=18, fontweight='bold', loc='right')\n",
        "\n",
        "# Add legend outside the plot\n",
        "axs.legend(title='Years', bbox_to_anchor=(1, 1)).get_title().set_fontweight('bold')\n",
        "\n",
        "# Adjust vertical spacing between subplots\n",
        "plt.subplots_adjust(hspace=0.5)\n",
        "\n",
        "# Display the plot\n",
        "plt.show()\n"
      ],
      "metadata": {
        "id": "2A7XvhMirWuj"
      },
      "execution_count": null,
      "outputs": []
    },
    {
      "cell_type": "markdown",
      "source": [
        "**Why did you pick the specific chart?**"
      ],
      "metadata": {
        "id": "t944dDn7VAU4"
      }
    },
    {
      "cell_type": "markdown",
      "source": [
        "I have chosen this chart to compare the Student-Teacher ration is different economic groups. A bar chart was deemed suitable for this purpose due to its inherent capacity to showcase variations in data points among distinct categories, such as countries in this context. The horizontal bars allow for a direct visual comparison of the data, aiding in the identification of trends, disparities, and outliers across the selected countries."
      ],
      "metadata": {
        "id": "xH-jM4HWVAH3"
      }
    },
    {
      "cell_type": "markdown",
      "source": [
        "**What is/are the insight(s) found from the chart?**"
      ],
      "metadata": {
        "id": "5jsz0xmaU-hU"
      }
    },
    {
      "cell_type": "markdown",
      "source": [
        "Optimal teacher-student ratios are crucial for effective learning outcomes. The analysis reveals that lower ratios, such as the 16:1 ratio in the Middle and Low & Middle income groups, are associated with better educational effectiveness.\n",
        "\n",
        "There is a need for improvement in the Lower Middle income group, where the teacher-student ratio increased from 19 to 23. While the ratio in HIPC decreased from 25 to 23, further efforts are necessary to achieve an even more favorable ratio.\n",
        "\n",
        "Despite progress, challenges persist in the low-income group, where the ratio increased from 21 to 23. Although it improved from the 2005 level of 25, ongoing efforts are essential to maintain and enhance the positive trend.\n",
        "\n",
        "\n",
        "Teacher-student ratios directly impact the quality of education. Lower ratios allow teachers to provide more individualized attention to students, fostering a conducive learning environment.\n",
        "\n",
        "Governments should focus on policies that aim to reduce teacher-student ratios, especially in regions where the ratios are relatively high.\n",
        "\n",
        "Investment in teacher training and recruitment initiatives can contribute to achieving optimal teacher-student ratios.\n",
        "\n",
        "Governments should prioritize strategies to further improve teacher-student ratios, with a specific focus on regions and income groups where ratios are less favorable.\n",
        "\n",
        "Continuous monitoring and assessment of teacher-student ratios are essential to adapt policies and interventions based on evolving educational needs.\n",
        "\n",
        "Collaborative efforts between education authorities, communities, and international organizations can facilitate the optimization of teacher distribution and contribute to overall improvements in educational effectiveness."
      ],
      "metadata": {
        "id": "tsnv27I3U-Tg"
      }
    },
    {
      "cell_type": "code",
      "source": [
        "# Create a 2x1 subplot layout with a total figure size of (20, 12)\n",
        "fig, axs = plt.subplots(2, 1, figsize=(20, 12))\n",
        "\n",
        "# Set the Seaborn style to darkgrid\n",
        "sns.set_style(style='darkgrid')\n",
        "\n",
        "# Barplot for comparing adult literacy rate in different economic groups over the years\n",
        "sns.barplot(data=df_11_year, y='Adult Literacy Rate', x='Years', hue='Country Name', ax=axs[0], palette='tab20')\n",
        "\n",
        "# Set x-axis label\n",
        "axs[0].set_xlabel('Years', fontsize=18)\n",
        "\n",
        "# Set y-axis label\n",
        "axs[0].set_ylabel('Literacy Rate(%)', fontsize=18)\n",
        "\n",
        "# Set subplot title\n",
        "axs[0].set_title('Comparison of Adult Literacy Rate in Different Economic Groups Over the Years', fontsize=18, fontweight='bold', loc='right')\n",
        "\n",
        "# Add legend outside the plot\n",
        "axs[0].legend(title='Groups Based on Income', bbox_to_anchor=(1, 1)).get_title().set_fontweight('bold')\n",
        "\n",
        "# Barplot for comparing adult literacy rate year-wise in different income groups\n",
        "sns.barplot(data=df_11_year, y='Adult Literacy Rate', x='Country Name', hue='Years', ax=axs[1], palette='tab20')\n",
        "\n",
        "# Set x-axis label\n",
        "axs[1].set_xlabel('Income Groups', fontsize=18)\n",
        "\n",
        "# Set y-axis label\n",
        "axs[1].set_ylabel('Literacy Rate(%)', fontsize=18)\n",
        "\n",
        "# Set subplot title\n",
        "axs[1].set_title('Comparison of Adult Literacy Rate Year-wise in Different Income Groups', fontsize=18, fontweight='bold', loc='right')\n",
        "\n",
        "# Add legend outside the plot\n",
        "axs[1].legend(title='Years', bbox_to_anchor=(1, 1)).get_title().set_fontweight('bold')\n",
        "\n",
        "# Adjust vertical spacing between subplots\n",
        "plt.subplots_adjust(hspace=0.5)\n",
        "\n",
        "# Display the plot\n",
        "plt.show()\n"
      ],
      "metadata": {
        "id": "h1QFi72iZHBi"
      },
      "execution_count": null,
      "outputs": []
    },
    {
      "cell_type": "markdown",
      "source": [
        "**Why did you pick the specific chart?**"
      ],
      "metadata": {
        "id": "_ABoP5FfVFUO"
      }
    },
    {
      "cell_type": "markdown",
      "source": [
        "I have chosen this chart to compare Adult literacy rate in different economic groups. A bar chart was deemed suitable for this purpose due to its inherent capacity to showcase variations in data points among distinct categories, such as countries in this context. The horizontal bars allow for a direct visual comparison of the data, aiding in the identification of trends, disparities, and outliers across the selected countries."
      ],
      "metadata": {
        "id": "6DmlEfIxVFGc"
      }
    },
    {
      "cell_type": "markdown",
      "source": [
        " **What is/are the insight(s) found from the chart?**"
      ],
      "metadata": {
        "id": "iFjW9a4yVDJx"
      }
    },
    {
      "cell_type": "markdown",
      "source": [
        "We've already discussed about the literacy rate in different economic groups earlier."
      ],
      "metadata": {
        "id": "F98WvF8mVCso"
      }
    },
    {
      "cell_type": "code",
      "source": [
        "# List of countries to analyze\n",
        "countries = ['Heavily indebted poor countries (HIPC)', 'Low income', 'Low & middle income', 'Lower middle income', 'Middle income', 'Middle income']\n",
        "\n",
        "# Create a 3x2 subplot layout with a total figure size of (15, 15)\n",
        "fig, axs = plt.subplots(3, 2, figsize=(15, 15))\n",
        "\n",
        "# Set the style to darkgrid using Seaborn and adjust the font scale\n",
        "sns.set(style='darkgrid', font_scale=1.3)\n",
        "\n",
        "# Iterate over the subplots\n",
        "for i, ax in enumerate(axs.flatten()):\n",
        "    # Select the current country from the list\n",
        "    country = countries[i]\n",
        "\n",
        "    # Filter the DataFrame for the current country\n",
        "    df = df_11[df_11['Country Name'] == country]\n",
        "\n",
        "    # Create a scatter plot for Student-Teacher Ratio vs. Adult Literacy Rate\n",
        "    sns.scatterplot(data=df, x='Student-Teacher Ratio', y='Adult Literacy Rate', hue='Years', palette='coolwarm', ax=ax)\n",
        "\n",
        "    # Set x-axis label\n",
        "    ax.set_xlabel('Teacher-Student Ratio', fontsize=14)\n",
        "\n",
        "    # Set y-axis label\n",
        "    ax.set_ylabel('Literacy Rate(%)', fontsize=14)\n",
        "\n",
        "    # Set subplot title\n",
        "    ax.set_title(country, fontsize=18, loc='right', fontweight='bold')\n",
        "\n",
        "    # Add a legend outside the subplots\n",
        "    ax.legend(loc='upper left', bbox_to_anchor=(1, 1), title='Years', fontsize=12, title_fontsize=14)\n",
        "\n",
        "\n",
        "# Adjust the spacing between subplots\n",
        "plt.subplots_adjust(wspace=0.5, hspace=0.6)\n",
        "\n",
        "\n",
        "# Display the plot\n",
        "plt.show()\n"
      ],
      "metadata": {
        "id": "SDPDMqljZG9o"
      },
      "execution_count": null,
      "outputs": []
    },
    {
      "cell_type": "markdown",
      "source": [
        "**Why did you pick the specific chart?**"
      ],
      "metadata": {
        "id": "gOMDY8i3VOaw"
      }
    },
    {
      "cell_type": "markdown",
      "source": [
        "I have chosen a scatter plot as the preferred visualization method due to the specific insights I aim to uncover. The objective is to identify and analyze the correlation between Literacy rate and Teacher- Student ratio across different countries and years.\n",
        "\n",
        "The scatter plot proves to be an effective tool for examining relationships between variables. In this context, it allows for the exploration of how changes in one indicator align with changes in another, providing insights into potential correlations or patterns."
      ],
      "metadata": {
        "id": "tNdhBFtiVON_"
      }
    },
    {
      "cell_type": "markdown",
      "source": [
        "**What is/are the insight(s) found from the chart?**"
      ],
      "metadata": {
        "id": "HSz4ImlNVMOu"
      }
    },
    {
      "cell_type": "markdown",
      "source": [
        "Examining the relationship between teacher-student ratios and literacy rates reveals a significant finding. The data suggests an inverse proportionality between teacher-student ratios and literacy rates. Specifically, as teacher-student ratios decrease, literacy rates tend to increase, indicating a negative correlation.\n",
        "\n",
        "The observed negative correlation implies that optimizing teacher distribution by reducing teacher-student ratios can potentially lead to improved literacy rates and, consequently, enhanced educational effectiveness.\n",
        "\n",
        "It's essential to recognize that the impact of teacher-student ratios on enrollment and educational outcomes is dynamic and subject to changes over time.\n"
      ],
      "metadata": {
        "id": "kYjcX1dCVMBL"
      }
    },
    {
      "cell_type": "markdown",
      "source": [
        "##### 3. **Will the gained insights help creating a positive business impact?**\n",
        "**Are there any insights that lead to negative growth? Justify with specific reason.**"
      ],
      "metadata": {
        "id": "5JI8qt9i0EAX"
      }
    },
    {
      "cell_type": "markdown",
      "source": [
        "**Positive Impact:**\n",
        "\n",
        "1. **Improved Educational Effectiveness**: Optimizing teacher distribution by reducing teacher-student ratios has the potential to positively impact educational effectiveness. As observed, a decrease in teacher-student ratios correlates with increased literacy rates. This suggests that more personalized attention and focused teaching can contribute to improved learning outcomes.\n",
        "\n",
        "2. **Enhanced Literacy Rates:** The negative correlation between teacher-student ratios and literacy rates implies that efforts to reduce these ratios could lead to higher literacy rates. Adequate teacher-student ratios may facilitate a more conducive learning environment, allowing students to receive the necessary support for literacy development.\n",
        "\n",
        "3. **Resource Optimization**: Understanding the importance of teacher-student ratios enables policymakers to allocate resources more efficiently. By prioritizing interventions that address and improve these ratios, governments can make strategic investments that positively impact overall literacy and educational outcomes.\n",
        "\n",
        "**Negative Impact:**\n",
        "\n",
        "1. **Resource Challenges**: Achieving optimal teacher-student ratios may pose resource challenges for educational institutions and governments. Reducing ratios often requires additional teaching staff and infrastructure, which could strain limited resources, especially in regions with budget constraints.\n",
        "\n",
        "2. **Transition Period Challenges**: Implementing changes in teacher-student ratios may face challenges during the transition period. Adjustments in staffing, training, and infrastructure might lead to temporary disruptions in the education system before the positive impacts become fully apparent.\n",
        "\n",
        "3. **Varied Educational Landscapes**: The impact of teacher-student ratios can vary across different educational landscapes. Factors such as teaching methodologies, curriculum, and cultural contexts may influence the effectiveness of changes in ratios. A one-size-fits-all approach may not be suitable, requiring tailored strategies for diverse settings.\n",
        "\n",
        "In conclusion, optimizing teacher-student ratios holds the potential for positive impacts on educational effectiveness and literacy rates. However, challenges related to resource allocation and implementation dynamics should be considered to ensure sustainable improvements in the education system."
      ],
      "metadata": {
        "id": "HeoM89aK0rb8"
      }
    },
    {
      "cell_type": "code",
      "source": [
        "# Correlation between teacher and student ratio and literacy rate\n",
        "df = df_11_year.corr()\n",
        "print(df)"
      ],
      "metadata": {
        "id": "3wXfnLoy0c-I"
      },
      "execution_count": null,
      "outputs": []
    },
    {
      "cell_type": "markdown",
      "source": [
        "## **12. Literacy and Economic Development: Investigate the correlation between adult literacy rates and a country's level of economic development, as measured by GDP per capita.**"
      ],
      "metadata": {
        "id": "0EipDeKd8Fj6"
      }
    },
    {
      "cell_type": "code",
      "source": [
        "# Check for the indicatore which is required for our analysis using regular expression.\n",
        "df_data[df_data['Indicator Name'].str.contains('GDP per capita', regex = True)].head(5)\n"
      ],
      "metadata": {
        "id": "NzdKnCIAZG51"
      },
      "execution_count": null,
      "outputs": []
    },
    {
      "cell_type": "markdown",
      "source": [
        "**So now i have two indicators:**\n",
        "1. GDP per capita (current USD )\tNY.GDP.PCAP.CD\n",
        "2. GDP per capita (constant 2005 USD)\tNY.GDP.PCAP.KD\n",
        "\n",
        "**Now from these two we have to choose one of them which will be most suitable for our analysis.**\n",
        "\n",
        "1. GDP per Capita (Current US$): This indicator represents the economic well-being of a country in current US dollars, which can be influenced by currency fluctuations and inflation. When comparing economic development with student literacy rates over a long time span, these factors can distort the interpretation of trends.\n",
        "\n",
        "2. GDP per Capita (Constant 2005 US$): This indicator adjusts for inflation and currency changes by using a constant reference year (2005). It provides a more reliable basis for tracking and comparing economic growth and development over time. When analyzing long-term trends and comparing them with student literacy rates, using constant dollars is preferable as it removes the inflation factor and helps maintain the integrity of the analysis.\n",
        "\n",
        "\n",
        "We'll use \"GDP per Capita (Constant 2005 US$)\" this indicator for our analysis because this indicator will give us accurate result.."
      ],
      "metadata": {
        "id": "Rd-c-Xad_dIv"
      }
    },
    {
      "cell_type": "code",
      "source": [
        "# Define the list of countries\n",
        "countries_12 = ['Heavily indebted poor countries (HIPC)', 'Low income', 'Low & middle income', 'Lower middle income', 'Middle income', 'Middle income', 'High income']\n",
        "\n",
        "# Filter the DataFrame to include only rows where the 'Indicator Code' is \"NY.GDP.PCAP.KD\"\n",
        "df_gdp = df_data[df_data['Indicator Code'] == \"NY.GDP.PCAP.KD\"].copy()\n",
        "\n",
        "# Drop columns that contain only NA values\n",
        "df_gdp.dropna(axis=1, how='all', inplace=True)\n",
        "\n",
        "# Filter the DataFrame to include only rows where the 'Country Name' is in the list of countries\n",
        "df_gdp1 = df_gdp[df_gdp['Country Name'].isin(countries_12)]\n",
        "\n",
        "# Transpose the DataFrame and set the column names to the first row\n",
        "df_gdp1 = df_gdp1.T\n",
        "df_gdp1.columns = df_gdp1.iloc[0]\n",
        "\n",
        "# Filter the DataFrame to include only rows from '1985' to '2015'\n",
        "df_gdp1 = df_gdp1.loc['1985':'2015']\n",
        "\n",
        "# # Convert the index to datetime format and extract only the year\n",
        "df_gdp1.index = pd.to_datetime(df_gdp1.index, format='%Y').year\n",
        "\n",
        "\n",
        "# # Extract rows at an interval of 5 years from 1985 to 2015 and reset the index\n",
        "df_gdp1 = df_gdp1.T.reset_index()\n",
        "df_gdp1.head()\n"
      ],
      "metadata": {
        "id": "-tsI8Tw8xiQQ"
      },
      "execution_count": null,
      "outputs": []
    },
    {
      "cell_type": "code",
      "source": [
        "# Melting the dataframe.\n",
        "df_gdp_melt = melt(df_gdp1, 'Country Name', 'Years', 'GDP per capita')\n",
        "\n",
        "# Showing the top 5 rows.\n",
        "df_gdp_melt.head(5)"
      ],
      "metadata": {
        "id": "nJbDOHNWZGyQ"
      },
      "execution_count": null,
      "outputs": []
    },
    {
      "cell_type": "code",
      "source": [
        "# Filtering the data of specific years from 1985 to 2015 with an interval of 5 years.\n",
        "df_gdp_melt1 = df_gdp_melt[df_gdp_melt['Years'].isin(np.arange(1985, 2016, 5))]\n",
        "\n",
        "# Showing the top 5 rows.\n",
        "df_gdp_melt1.head(5)"
      ],
      "metadata": {
        "id": "Wj_0YpdhBzU7"
      },
      "execution_count": null,
      "outputs": []
    },
    {
      "cell_type": "markdown",
      "source": [
        "####**Explanation:**\n",
        "\n",
        "1. **List of Countries:** You've defined a list countries_12 containing the names of different income groups and individual countries.\n",
        "\n",
        "2. **Filtering GDP Data**: You filtered the original DataFrame (df_data) to include only rows where the 'Indicator Code' is \"NY.GDP.PCAP.KD\" (GDP per capita).\n",
        "\n",
        "3. **Dropping NA Columns**: Columns that contain only NA (Not Available) values are dropped from the filtered GDP DataFrame (df_gdp).\n",
        "\n",
        "4. **Filtering by Countries**: Rows in the filtered GDP DataFrame are further filtered to include only those where the 'Country Name' is in the list of countries defined in countries_12.\n",
        "\n",
        "5. **Transposing and Setting Column Names**: The DataFrame is transposed, and the column names are set to the values in the first row.\n",
        "\n",
        "6. **Filtering by Years**: Rows in the transposed DataFrame are selected for the years from 1985 to 2015.\n",
        "\n",
        "7. **Index Conversion**: The index is converted to datetime format, and only the years are extracted.\n",
        "\n",
        "8. **Data Reshaping**: The transposed DataFrame is transposed again and reset the index to prepare it for visualization.\n",
        "\n",
        "9. **Melting the DataFrame**: The DataFrame is melted to have a 'Country Name', 'Years', and 'GDP per capita' columns, which is a suitable format for visualization.\n",
        "\n",
        "10. **Filtering Specific Years**: The final melted DataFrame is filtered to include only data for specific years (1985, 1990, ..., 2015) with an interval of 5 years.\n",
        "\n",
        "The code filters and reshapes the World Bank global education analysis data to focus on GDP per capita for specific countries and specific years, making it suitable for further analysis and visualization related to the correlation between adult literacy rates and a country's level of economic development."
      ],
      "metadata": {
        "id": "paIhzCiwHfHV"
      }
    },
    {
      "cell_type": "code",
      "source": [
        "# Create subplots with 2 rows and 1 column\n",
        "fig, axs = plt.subplots(2, 1, figsize=(12, 12))\n",
        "\n",
        "# Set the style of the plot\n",
        "sns.set_style(style='darkgrid')\n",
        "\n",
        "# Plotting Economic Growth (years wise)\n",
        "sns.barplot(data=df_gdp_melt1, x='Years', y='GDP per capita', hue='Country Name', palette='tab20', ax=axs[0])\n",
        "\n",
        "# Set labels and title for the first subplot\n",
        "axs[0].set_xlabel('Years', fontsize=15, fontweight='bold')\n",
        "axs[0].set_ylabel('GDP per Capita', fontsize=15, fontweight='bold')\n",
        "axs[0].set_title('Economic Growth (Years Wise)', fontsize=22, loc='right', fontweight='bold')\n",
        "\n",
        "# Add legend for the first subplot\n",
        "axs[0].legend(title='Economic Group', bbox_to_anchor=(1, 1)).get_title().set_fontweight('bold')\n",
        "\n",
        "# Plotting Economic Growth (Country wise)\n",
        "sns.barplot(data=df_gdp_melt1, x='Country Name', y='GDP per capita', hue='Years', palette='tab20', ax=axs[1])\n",
        "\n",
        "# Rotate x-axis labels for better readability\n",
        "axs[1].set_xticklabels(axs[1].get_xticklabels(), rotation=60)\n",
        "\n",
        "# Set labels and title for the second subplot\n",
        "axs[1].set_xlabel('Countries', fontsize=15, fontweight='bold')\n",
        "axs[1].set_ylabel('GDP per Capita', fontsize=15, fontweight='bold')\n",
        "axs[1].set_title('Economic Growth (Country Wise)', fontsize=22, loc='right', fontweight='bold')\n",
        "\n",
        "# Add legend for the second subplot\n",
        "axs[1].legend(title='Years', bbox_to_anchor=(1, 1)).get_title().set_fontweight('bold')\n",
        "\n",
        "# Adjust the vertical spacing between subplots\n",
        "plt.subplots_adjust(hspace=0.5)\n"
      ],
      "metadata": {
        "id": "9FfZaDdaZGtQ"
      },
      "execution_count": null,
      "outputs": []
    },
    {
      "cell_type": "markdown",
      "source": [
        "**Why did you pick the specific chart?**"
      ],
      "metadata": {
        "id": "vtMSSI6pVV58"
      }
    },
    {
      "cell_type": "markdown",
      "source": [
        "I have chosen this chart to compare the GDP per capita in different economic groups. A bar chart was deemed suitable for this purpose due to its inherent capacity to showcase variations in data points among distinct categories, such as countries in this context. The horizontal bars allow for a direct visual comparison of the data, aiding in the identification of trends, disparities, and outliers across the selected countries."
      ],
      "metadata": {
        "id": "EZ9ifOsrVVgK"
      }
    },
    {
      "cell_type": "markdown",
      "source": [
        "**What is/are the insight(s) found from the chart?**"
      ],
      "metadata": {
        "id": "-cstb6RhVTFM"
      }
    },
    {
      "cell_type": "markdown",
      "source": [
        "From the above bar chart we can conclude that the GDP per capita for Low income, lower middle is very low\n",
        "1. low income:-400 to 500.\n",
        "2. HIPC:- 600-700.\n",
        "4. Lower middle income\t800-900\n",
        "3. Low & middle income\t\t1800-1900\n",
        "5. High income\t1985\t25000-30000\n",
        "\n",
        "The difference s clear."
      ],
      "metadata": {
        "id": "_XmSPJisVS3P"
      }
    },
    {
      "cell_type": "code",
      "source": [
        "# As we already have the dataframe for Adult literacy rate so that we'll use that dataframe in this problem too.\n",
        "df_alr_12 = df_alr_9\n",
        "\n",
        "# Filtering the dataframe according to countries which we need to use for this analysis.\n",
        "df_alr_12 = df_alr_12[df_alr_12['Country Name'].isin(countries_12)].reset_index(drop = True)\n",
        "\n",
        "# Melting the dataframe.\n",
        "df_alr_melt_12 = melt(df_alr_12, 'Country Name', 'Years', 'Adult Literacy Rate')\n",
        "\n",
        "# Showing the top 5 rows of the dataframe.\n",
        "df_alr_melt_12.head(5)"
      ],
      "metadata": {
        "id": "14n3QW4mbbvB"
      },
      "execution_count": null,
      "outputs": []
    },
    {
      "cell_type": "code",
      "source": [
        "# Merging both the dataframe in a single dataframe.\n",
        "df_gdp = pd.merge(df_alr_melt_12, df_gdp_melt, how = 'inner', on = ['Country Name', 'Years'])\n",
        "\n",
        "# Showing the top 5 rows.\n",
        "df_gdp.head(5)"
      ],
      "metadata": {
        "id": "cxmGFI7vZGpN"
      },
      "execution_count": null,
      "outputs": []
    },
    {
      "cell_type": "code",
      "source": [
        "# As me know that high income group is not present in adult literacy rate so we'll drop it.\n",
        "# List of countries for analysis\n",
        "countries = ['Heavily indebted poor countries (HIPC)', 'Low income', 'Low & middle income', 'Lower middle income', 'Middle income', 'Middle income']\n",
        "\n",
        "# Create subplots with 3 rows and 2 columns\n",
        "fig, axs = plt.subplots(3, 2, figsize=(15, 15))\n",
        "\n",
        "# Set the style and font scale for the plot\n",
        "sns.set(style='darkgrid', font_scale=1.3)\n",
        "\n",
        "# Set font size for x and y ticks\n",
        "plt.xticks(fontsize=14)\n",
        "plt.yticks(fontsize=14)\n",
        "\n",
        "# Loop through each subplot\n",
        "for i, ax in enumerate(axs.flatten()):\n",
        "    # Get the current country for analysis\n",
        "    country = countries[i]\n",
        "\n",
        "    # Filter the dataframe for the current country\n",
        "    df = df_gdp[df_gdp['Country Name'] == country]\n",
        "\n",
        "    # Scatter plot for GDP per capita vs. Adult Literacy Rate with color-coded by Years\n",
        "    sns.scatterplot(data=df, x='GDP per capita', y='Adult Literacy Rate', hue='Years', palette='coolwarm', ax=ax)\n",
        "\n",
        "    # Set x-axis label\n",
        "    ax.set_xlabel('GDP per capita')\n",
        "\n",
        "    # Set y-axis label\n",
        "    ax.set_ylabel('Literacy Rate(%)')\n",
        "\n",
        "    # Set title for the subplot with country name\n",
        "    ax.set_title(country, fontsize=18, loc='right', fontweight='bold')\n",
        "\n",
        "    # Add legend with title for better understanding of color-coded years\n",
        "    ax.legend(title='Years', bbox_to_anchor=(1, 1)).get_title().set_fontweight('bold')\n",
        "\n",
        "# Adjust the spacing between subplots\n",
        "plt.subplots_adjust(wspace=0.5, hspace=0.6)\n",
        "\n",
        "# Display the plot\n",
        "plt.show()\n"
      ],
      "metadata": {
        "id": "tX6rGika9-e9"
      },
      "execution_count": null,
      "outputs": []
    },
    {
      "cell_type": "markdown",
      "source": [
        "**Why did you pick the specific chart?**"
      ],
      "metadata": {
        "id": "wjBAXssIVb-0"
      }
    },
    {
      "cell_type": "markdown",
      "source": [
        "I have chosen a scatter plot as the preferred visualization method due to the specific insights I aim to uncover. The objective is to identify and analyze the correlation between Literacy rate and GDP per capita across different countries and years.\n",
        "\n",
        "The scatter plot proves to be an effective tool for examining relationships between variables. In this context, it allows for the exploration of how changes in one indicator align with changes in another, providing insights into potential correlations or patterns."
      ],
      "metadata": {
        "id": "LcgHHB67VbxA"
      }
    },
    {
      "cell_type": "markdown",
      "source": [
        " **What is/are the insight(s) found from the chart?**"
      ],
      "metadata": {
        "id": "JaIbjHwfVf-6"
      }
    },
    {
      "cell_type": "markdown",
      "source": [
        "Exploring the correlation between adult literacy rates and a country's GDP per capita reveals a notable trend. The analysis suggests a direct proportionality between literacy rates and the economic development of a country, as measured by GDP per capita.\n",
        "\n",
        "The observed direct correlation signifies that higher literacy rates are associated with higher GDP per capita. This indicates that promoting literacy can serve as a catalyst for economic growth and development.\n",
        "\n",
        "It's crucial to recognize the interconnectedness of education and economic prosperity. Countries with higher literacy rates are likely to experience increased economic development, fostering a positive feedback loop.\n"
      ],
      "metadata": {
        "id": "xVp8bXXXVhmx"
      }
    },
    {
      "cell_type": "markdown",
      "source": [
        "##### 3. **Will the gained insights help creating a positive business impact?**\n",
        "**Are there any insights that lead to negative growth? Justify with specific reason.**"
      ],
      "metadata": {
        "id": "wlOPrJbCP6mA"
      }
    },
    {
      "cell_type": "markdown",
      "source": [
        "**Positive Impact:**\n",
        "\n",
        "1. **Economic Growth**: The direct proportionality between adult literacy rates and GDP per capita implies a positive impact on economic growth. Higher literacy rates contribute to a more skilled and knowledgeable workforce, fostering innovation, productivity, and overall economic development.\n",
        "\n",
        "2. **Human Capital Development**: Promoting literacy serves as an investment in human capital. A literate population is better equipped to participate in the workforce, adapt to technological advancements, and contribute meaningfully to various sectors, thereby enhancing the overall human capital of a nation.\n",
        "\n",
        "3. **Poverty Reduction**: Increased literacy rates are linked to poverty reduction. A literate population has better access to economic opportunities, employment, and higher-paying jobs. This, in turn, contributes to the alleviation of poverty and the improvement of living standards.\n",
        "\n",
        "**Negative Impact:**\n",
        "\n",
        "1. **Initial Resource Investment**: While the long-term benefits are substantial, achieving higher literacy rates may require significant initial investments in education infrastructure, teacher training, and literacy programs. Governments may face challenges in mobilizing resources for these upfront costs.\n",
        "\n",
        "2. **Time Lag in Economic Impact:** The positive impact on economic development due to increased literacy rates may not be immediate. There could be a time lag between investments in education and the realization of economic benefits, requiring patience and sustained commitment.\n",
        "\n",
        "3. **Socioeconomic Disparities**: The correlation between literacy rates and economic development may contribute to socioeconomic disparities if not accompanied by inclusive policies. Certain population groups may lag behind in literacy, exacerbating existing inequalities.\n",
        "\n",
        "In conclusion, the positive impact of promoting literacy on economic growth and development is evident. However, addressing challenges related to initial resource investments, time lags, and socioeconomic disparities is crucial to ensuring the sustainability and inclusivity of the impact."
      ],
      "metadata": {
        "id": "UF9wvjFY1Hbh"
      }
    },
    {
      "cell_type": "markdown",
      "source": [
        "# 13. **Correlation Heatmap**"
      ],
      "metadata": {
        "id": "ObDwsx5SGUqq"
      }
    },
    {
      "cell_type": "markdown",
      "source": [
        "The following indicators have been chosen for analysis:\n",
        "\n",
        "1. SP.POP.TOTL - Total Population\n",
        "2. SP.POP.TOTL.FE.IN - Total Female Population\n",
        "3. SP.POP.TOTL.MA.IN - Total Male Population\n",
        "4. SE.ADT.1524.LT.MA.ZS - \"Youth literacy rate Male\n",
        "5. SE.ADT.1524.LT.FE.ZS - \"Youth literacy rate Female\n",
        "6. SE.ADT.1524.LT.ZS - Youth literacy rate Total\n",
        "7. SE.ADT.LITR.ZS - Adult literacy rate. Total\n",
        "8. UIS.LR.AG15T99.GPI - GPI in Adult literacy rate.M/F\n",
        "9. UIS.TRTP.0\t- Percentage of trained teachers in pre-primary education.M/F\n",
        "10. UIS.NE.1.ECD - New entrants to Grade 1 of primary education\tM/F\n",
        "11. UIS.OAPP.1 - Enrollment ratio in primary education M/F\n",
        "12. UIS.NERA.1.GPI - GPI in enrolment rate, primary education.\n",
        "13. UIS.AIR.1.GLAST.GPI\t - Primary completion rate, gender parity index\n",
        "14. SE.SEC.ENRR.LO - Enrollment ratio in lower secondary education.\n",
        "15. SE.SEC.ENRR.UP - Enrollment ratio in upper secondary education.\n",
        "16. SE.SEC.ENRL.TC.ZS - Student-teacher ratio in secondary education.\n",
        "17. SE.TER.ENRR - Enrollment ratio in tertiary education.\n",
        "18. SE.COM.DURS - Compulsory Education Duration\n",
        "19. SE.XPD.TOTL.GD.ZS - Government expenditure on education as % of GDP (%)\n",
        "20. NY.GDP.PCAP.KD - GDP in USD\n"
      ],
      "metadata": {
        "id": "D2rr-X7EINL4"
      }
    },
    {
      "cell_type": "code",
      "source": [
        "# Let's find the correlation between the indicaotrs which we have used till now and create a correlation heatmap.\n",
        "\n",
        "# Let's make a dicto of all the indicator with it's code as key and name as value to map the values of the column inidcator code.\n",
        "indi_dict = {'SP.POP.TOTL': 'Total Population..',\n",
        "'SP.POP.TOTL.FE.IN' : 'Total Female Population.',\n",
        "'SP.POP.TOTL.MA.IN' : 'Total Male Population.',\n",
        "'SE.ADT.1524.LT.MA.ZS' : 'Youth literacy rate Male.',\n",
        "'SE.ADT.1524.LT.FE.ZS' : 'Youth literacy rate Female.',\n",
        "'SE.ADT.1524.LT.ZS' : 'Youth literacy rate Total.',\n",
        "'SE.ADT.LITR.ZS' : 'Adult literacy rate. Total.',\n",
        "'UIS.LR.AG15T99.GPI' : 'GPI in Adult literacy rate.M/F.',\n",
        "'UIS.TRTP.0'\t: 'Percentage of trained teachers in pre-primary education.M/F.',\n",
        "'UIS.NE.1.ECD' : 'New entrants to Grade 1 of primary education\tM/F',\n",
        "'UIS.OAPP.1' : 'Enrollment ratio in primary education M/F.',\n",
        "'UIS.NERA.1.GPI' : 'GPI in enrolment rate, primary education.',\n",
        "'UIS.AIR.1.GLAST.GPI'\t : 'Primary completion rate, gender parity index.',\n",
        "'SE.SEC.ENRR.LO' : 'Enrollment ratio in lower secondary education.',\n",
        "'SE.SEC.ENRR.UP' : 'Enrollment ratio in upper secondary education.',\n",
        "'SE.SEC.ENRL.TC.ZS' : 'Student-teacher ratio in secondary education.',\n",
        "'SE.TER.ENRR' : 'Enrollment ratio in tertiary education.',\n",
        "'SE.COM.DURS' : 'Compulsory Education Duration.',\n",
        "'SE.XPD.TOTL.GD.ZS' : 'Government expenditure on education as % of GDP (%).',\n",
        "'NY.GDP.PCAP.KD': 'GDP in USD'}\n",
        "\n",
        "# Here's the list of indicator codes.\n",
        "indi_list = ['SP.POP.TOTL', 'SP.POP.TOTL.FE.IN', 'SP.POP.TOTL.MA.IN', 'SE.ADT.1524.LT.MA.ZS',\n",
        "             'SE.ADT.1524.LT.FE.ZS', 'SE.ADT.1524.LT.ZS', 'SE.ADT.LITR.ZS', 'UIS.LR.AG15T99.GPI',\n",
        "             'UIS.TRTP.0', 'UIS.NE.1.ECD', 'UIS.OAPP.1', 'UIS.NERA.1.GPI', 'UIS.AIR.1.GLAST.GPI',\n",
        "             'SE.SEC.ENRR.LO', 'SE.SEC.ENRR.UP', 'SE.SEC.ENRL.TC.ZS', 'SE.TER.ENRR', 'SE.COM.DURS',\n",
        "             'SE.XPD.TOTL.GD.ZS', 'NY.GDP.PCAP.KD']\n",
        "\n",
        "# Here's the list of countries on which i'm gonna find the correlations of the different indicators\n",
        "countries_13 = ['United States', 'India', 'China', 'Japan', 'United Kingdom', 'South Africa']"
      ],
      "metadata": {
        "id": "OPbDByX07vz9"
      },
      "execution_count": null,
      "outputs": []
    },
    {
      "cell_type": "code",
      "source": [
        "# Now i'll extract the data of all the indicators\n",
        "df = df_data[df_data['Indicator Code'].isin(indi_list)]\n",
        "\n",
        "# Filtering the data of the selected countries.\n",
        "df = df[df['Country Name'].isin(countries_13)].reset_index(drop = True)\n",
        "\n",
        "# Now change the name of the indicaotr code with it's name. And these names will be our columns name of the finsl dataframe.\n",
        "df['Indicator Code'] = df['Indicator Code'].map(indi_dict)\n",
        "\n",
        "# Droping the unnecessary columns.\n",
        "df = df.drop(['Country Code', 'Indicator Name'], axis = 1)\n",
        "\n",
        "# Dropping the colums with all the NaN values.\n",
        "df = df.dropna(axis = 1, how = 'all')\n",
        "\n",
        "# Melting the dataframe so that it'll be easy to make indicator name as columns.\n",
        "df_melt = pd.melt(df, id_vars = ['Country Name', 'Indicator Code'], var_name = 'Years', value_name = 'Values')\n",
        "\n",
        "# Now i'll use the pivot_table()method to convert the indicator name as columns as column names.\n",
        "df_pivot = df_melt.pivot_table(index = ['Country Name', 'Years'], columns = 'Indicator Code', values = 'Values')\n",
        "\n",
        "# Now i'll drop the columns which will have more then 100 null values to find some accurate correlations between indicaotrs.\n",
        "df_pivot = df_pivot.dropna(axis = 1, thresh = 100)\n",
        "\n",
        "# Now i'll drop the row which will have more then 8 null values to find some accurate correlations between indicaotrs.\n",
        "df_pivot = df_pivot.dropna(axis = 0, thresh = 8)\n",
        "\n",
        "# Now, drop the name of the column names\n",
        "df_pivot.columns.name = None\n",
        "\n",
        "# Showing the top 5 rows of the dataframe.\n",
        "df_pivot.head(5)"
      ],
      "metadata": {
        "id": "i8pDHdIe9-Uy"
      },
      "execution_count": null,
      "outputs": []
    },
    {
      "cell_type": "code",
      "source": [
        "# There are two level of indexing present in my dataframe but i want only country name will be my index, to that ill use reset index function.\n",
        "df_pivot = df_pivot.reset_index().set_index('Country Name')\n",
        "\n",
        "# Showing the top 5 rows of the dataframe.\n",
        "df_pivot.head(5)"
      ],
      "metadata": {
        "id": "hAZRVbjvZGjv"
      },
      "execution_count": null,
      "outputs": []
    },
    {
      "cell_type": "code",
      "source": [
        "# Now let's create a function to fill the missing values by using interpolate function with linear method.\n",
        "def data_wrangling(df_pivot, country):\n",
        "    \"\"\"\n",
        "    Perform data wrangling on a specific country's data from a pivot table.\n",
        "\n",
        "    Parameters:\n",
        "    - df_pivot (DataFrame): The input DataFrame in pivot table format.\n",
        "    - country (str): The name of the country for which data wrangling is to be performed.\n",
        "\n",
        "    Returns:\n",
        "    - df (DataFrame): The processed DataFrame after data wrangling.\n",
        "    \"\"\"\n",
        "\n",
        "    # Filter the pivot table for the specified country\n",
        "    df = df_pivot[df_pivot.index == country]\n",
        "\n",
        "    # Convert data to float for numerical operations\n",
        "    df = df.astype(float)\n",
        "\n",
        "    # Interpolate missing values along the columns using linear interpolation\n",
        "    df = df.interpolate(axis=0, method='linear', limit_direction='both')\n",
        "\n",
        "    # Convert the 'Years' column to datetime format and extract the year\n",
        "    df['Years'] = pd.to_datetime(df['Years'], format='%Y').dt.year\n",
        "\n",
        "    # Reset the index for a clean DataFrame\n",
        "    df = df.reset_index()\n",
        "\n",
        "    # Return the processed DataFrame\n",
        "    return df\n"
      ],
      "metadata": {
        "id": "zJL2sM_CJSAo"
      },
      "execution_count": null,
      "outputs": []
    },
    {
      "cell_type": "code",
      "source": [
        "# Filling the missing values in us datafram using data_wrangling function which we've created above.\n",
        "df_us = data_wrangling(df_pivot, 'United States')\n",
        "\n",
        "# Showing the top 5 rows of the dataframe india\n",
        "df_us.head(5)"
      ],
      "metadata": {
        "id": "_jdmnepRKtDU"
      },
      "execution_count": null,
      "outputs": []
    },
    {
      "cell_type": "code",
      "source": [
        "# Filling the missing values in inida datafram using data_wrangling function which we've created above.\n",
        "df_india = data_wrangling(df_pivot, 'India')\n",
        "\n",
        "# Showing the top 5 rows of the dataframe india\n",
        "df_india.head(5)"
      ],
      "metadata": {
        "id": "z_ZnHtbp1p98"
      },
      "execution_count": null,
      "outputs": []
    },
    {
      "cell_type": "code",
      "source": [
        "# Filling the missing values in china datafram using data_wrangling function which we've created above.\n",
        "df_china = data_wrangling(df_pivot, 'China')\n",
        "\n",
        "# Showing the top 5 rows of the dataframe india\n",
        "df_china.head(5)"
      ],
      "metadata": {
        "id": "NRVyU_tM1pwM"
      },
      "execution_count": null,
      "outputs": []
    },
    {
      "cell_type": "code",
      "source": [
        "# Filling the missing values in japan datafram using data_wrangling function which we've created above.\n",
        "df_japan = data_wrangling(df_pivot, 'Japan')\n",
        "\n",
        "# Showing the top 5 rows of the dataframe india\n",
        "df_japan.head(5)"
      ],
      "metadata": {
        "id": "WCp1cp5u1phH"
      },
      "execution_count": null,
      "outputs": []
    },
    {
      "cell_type": "code",
      "source": [
        "# Filling the missing values in uk datafram using data_wrangling function which we've created above.\n",
        "df_uk = data_wrangling(df_pivot, 'United Kingdom')\n",
        "\n",
        "# Showing the top 5 rows of the dataframe india\n",
        "df_uk.head(5)"
      ],
      "metadata": {
        "id": "v6J0jaGV1vlS"
      },
      "execution_count": null,
      "outputs": []
    },
    {
      "cell_type": "code",
      "source": [
        "# Filling the missing values in africa datafram using data_wrangling function which we've created above.\n",
        "df_africa = data_wrangling(df_pivot, 'South Africa')\n",
        "\n",
        "# Showing the top 5 rows of the dataframe india\n",
        "df_africa.head(5)"
      ],
      "metadata": {
        "id": "LV9VYJ6i1vR4"
      },
      "execution_count": null,
      "outputs": []
    },
    {
      "cell_type": "markdown",
      "source": [
        "####**Explanation:**\n",
        "\n",
        "In this analysis, we have systematically chosen the indicators utilized in our previous investigations to explore correlations between them. However, during the data wrangling process, a significant number of indicators were excluded due to insufficient data availability, resulting in a considerable number of NaN values. This curation was essential to ensure the quality and reliability of the dataset for our correlation analysis. The rigorous filtering criteria aimed to retain indicators with sufficient data points, enabling a more meaningful and robust exploration of relationships between the selected variables. This strategic approach enhances the overall credibility and interpretability of our correlation analysis."
      ],
      "metadata": {
        "id": "TxQsxZm5I6ES"
      }
    },
    {
      "cell_type": "code",
      "source": [
        "# List of dataframes for correlation analysis\n",
        "dfs = [df_us, df_india, df_china, df_japan, df_uk, df_africa]\n",
        "\n",
        "# List of titles for each subplot\n",
        "title = ['United States', 'India', 'China', 'Japan', 'United Kingdom', 'South Africa']\n",
        "\n",
        "# Create subplots with 3 rows and 2 columns\n",
        "fig, axs = plt.subplots(3, 2, figsize=(20, 30))\n",
        "\n",
        "# Set the style and font scale for the plot\n",
        "sns.set(style='darkgrid', font_scale=0.8)\n",
        "\n",
        "# Set the main title for the entire figure\n",
        "fig.suptitle('Correlation Heatmaps', fontsize=30, fontweight='bold')\n",
        "\n",
        "# Loop through each subplot\n",
        "for i, ax in enumerate(axs.flatten()):\n",
        "    # Get the current dataframe for correlation analysis\n",
        "    df = dfs[i]\n",
        "\n",
        "    # Generate a heatmap of the correlation matrix with annotations\n",
        "    sns.heatmap(data=df.corr(), annot=True, linecolor='black', ax=ax, square = True)\n",
        "\n",
        "    # Set the title for the subplot with the corresponding country name\n",
        "    ax.set_title(title[i], fontsize=18, loc='right', fontweight='bold')\n",
        "\n",
        "    # Set tick label size for both x and y axes\n",
        "    ax.tick_params(axis='x', labelsize=8)\n",
        "    ax.tick_params(axis='y', labelsize=8)\n",
        "\n",
        "# Adjust the spacing between subplots\n",
        "plt.subplots_adjust(wspace=0.6, hspace=0.8)\n",
        "\n",
        "# Display the plot\n",
        "plt.show()\n"
      ],
      "metadata": {
        "id": "RncCEdw_Nh4Y"
      },
      "execution_count": null,
      "outputs": []
    },
    {
      "cell_type": "markdown",
      "source": [
        "**Why did you pick the specific chart?**"
      ],
      "metadata": {
        "id": "oAATR6uJVsDL"
      }
    },
    {
      "cell_type": "markdown",
      "source": [
        "A heatmap is chosen because it is an effective way to visualize the correlations between multiple numerical variables. In this case, it shows how each numerical variable is related to others in terms of their correlation coefficients."
      ],
      "metadata": {
        "id": "dvRUA-NgVry0"
      }
    },
    {
      "cell_type": "markdown",
      "source": [
        "**What is/are the insight(s) found from the chart?**"
      ],
      "metadata": {
        "id": "zpBHDk3YVper"
      }
    },
    {
      "cell_type": "markdown",
      "source": [
        "**Correlation Coefficients**: The heatmap displays correlation coefficients between pairs of numerical variables. These coefficients indicate the strength and direction of the linear relationship between variables. Positive values indicate a positive correlation, negative values indicate a negative correlation, and values close to zero indicate little or no correlation.\n",
        "\n",
        "**Strong Positive Correlations**: Darker and more intense colors on the heatmap represent stronger correlations. For example, if two variables have a strong positive correlation, we will see a dark square in the corresponding cell.\n",
        "\n",
        "**Strong Negative Correlations**: Similarly, dark squares in the opposite direction (diagonally mirrored) represent strong negative correlations."
      ],
      "metadata": {
        "id": "k5TXogN4Vn6M"
      }
    },
    {
      "cell_type": "markdown",
      "source": [
        "# **14. Pair Plot:**"
      ],
      "metadata": {
        "id": "zFCy7GTiGl2H"
      }
    },
    {
      "cell_type": "code",
      "source": [
        "# TO draw the pair plot we'll merge all the dataframes of all the countries one above another, to achieve that we'll use concat function by ingoring index.\n",
        "dfs = [df_us, df_india, df_china, df_japan, df_uk, df_africa]\n",
        "df = pd.concat(dfs, ignore_index = True)\n",
        "\n",
        "# Showing the top 5 rows.\n",
        "df.head(5)"
      ],
      "metadata": {
        "id": "ApNGhDsyWtKM"
      },
      "execution_count": null,
      "outputs": []
    },
    {
      "cell_type": "code",
      "source": [
        "# The indicators on which i am going to plot the pairplot. We have excluded some variables because it was not that important.\n",
        "var = ['Enrollment ratio in lower secondary education.',  'Enrollment ratio in tertiary education.',\n",
        "       'GDP in USD', 'GPI in enrolment rate, primary education.', 'Government expenditure on education as % of GDP (%).']"
      ],
      "metadata": {
        "id": "_6EwUI6fY3ae"
      },
      "execution_count": null,
      "outputs": []
    },
    {
      "cell_type": "code",
      "source": [
        "# Set the figure size\n",
        "plt.figure(figsize=(30,30))\n",
        "\n",
        "sns.set_style(style = 'darkgrid')\n",
        "# Create a pairplot\n",
        "# data: DataFrame to be plotted\n",
        "# hue: Variable in data to map plot aspects to different colors\n",
        "# palette: Set of colors for mapping the hue variable\n",
        "# vars: Variables within data to use\n",
        "# kind: Kind of plot for the off-diagonal subplots\n",
        "# diag_kind: Kind of plot for the diagonal subplots\n",
        "# markers: Marker style for the scatterplot elements\n",
        "# height: Height of each facet in inches\n",
        "# aspect: Aspect ratio of each facet\n",
        "sns.pairplot(data=df, hue='Country Name', palette='tab20b', vars=var, kind='scatter', diag_kind='auto', markers=['o', '<', '>', '*', '^', 's'], height=5, aspect=1)\n",
        "\n",
        "# Display the plot\n",
        "plt.show()\n"
      ],
      "metadata": {
        "id": "eQXVWGh7VKb5"
      },
      "execution_count": null,
      "outputs": []
    },
    {
      "cell_type": "markdown",
      "source": [
        "**Why did you pick the specific chart?**"
      ],
      "metadata": {
        "id": "rS6fZbUFVwHc"
      }
    },
    {
      "cell_type": "markdown",
      "source": [
        "A pair plot is chosen because it provides a comprehensive view of the relationships between multiple numerical variables. It displays scatterplots for pairs of variables and histograms for each variable on the diagonal, making it useful for both univariate and bivariate analysis."
      ],
      "metadata": {
        "id": "o2Y3KGFQVvu-"
      }
    },
    {
      "cell_type": "markdown",
      "source": [
        "**What is/are the insight(s) found from the chart?**"
      ],
      "metadata": {
        "id": "zuO-ccoeVvJQ"
      }
    },
    {
      "cell_type": "markdown",
      "source": [
        "**Scatterplots**: The scatterplots in the lower part of the pair plot show the relationships between pairs of numerical variables. They help identify patterns, trends, and correlations between variables.\n",
        "\n",
        "**Diagonal Histograms**: The histograms on the diagonal display the distribution of each individual numerical variable. They show the shape and spread of each variable's values.Answer Here."
      ],
      "metadata": {
        "id": "LbyXE7I1olp8"
      }
    },
    {
      "cell_type": "markdown",
      "source": [
        "## **5. Solution to Business Objective**"
      ],
      "metadata": {
        "id": "JcMwzZxoAimU"
      }
    },
    {
      "cell_type": "markdown",
      "source": [
        "#### What do you suggest the client to achieve Business Objective ?\n",
        "Explain Briefly."
      ],
      "metadata": {
        "id": "8G2x9gOozGDZ"
      }
    },
    {
      "cell_type": "markdown",
      "source": [
        "####1. **Literacy Rate Disparities:**\n",
        "\n",
        "**Business Objective**: Evaluate the gender-based literacy rate disparities in various countries to inform targeted interventions and policies aimed at achieving gender equality in education."
      ],
      "metadata": {
        "id": "QlmLoSG-hJF7"
      }
    },
    {
      "cell_type": "markdown",
      "source": [
        "**Government Actions:**\n",
        "\n",
        "1. Allocate resources and design targeted programs to address gender disparity in Afghanistan, focusing on improving access for women.\n",
        "2. Strengthen efforts in Nepal through continued investments in educational infrastructure, teacher training, and awareness campaigns.\n",
        "3. Prioritize policies and interventions to reduce persistent gender disparities in Pakistan and India, implementing affirmative action and community engagement.\n",
        "4. Commend progress in Bangladesh and continue initiatives to further reduce the gender gap in literacy rates.\n",
        "5. Develop targeted strategies in South Africa to minimize the relatively constant gender-based gaps through community dialogues and educational reforms.\n",
        "**Community Engagement:**\n",
        "\n",
        "1. Promote a cultural shift to value and support girls' education equally with boys, encouraging families to send girls to school.\n",
        "2. Advocate for gender equality in education at the community level, engaging local leaders and parents in creating an inclusive educational environment.\n",
        "3. Actively participate in awareness campaigns and community discussions to dispel myths and stereotypes related to gender roles in education."
      ],
      "metadata": {
        "id": "pASKb0qOza21"
      }
    },
    {
      "cell_type": "markdown",
      "source": [
        "####2. **Youth Literacy Progress:**\n",
        "\n",
        "**Business Objective**: Examine changes in youth literacy rates over time to identify successful strategies and areas needing improvement, guiding educational policies for enhanced youth literacy."
      ],
      "metadata": {
        "id": "H6uIZYMmhLF2"
      }
    },
    {
      "cell_type": "markdown",
      "source": [
        "**Government Actions:**\n",
        "\n",
        "1. Strengthen existing successful literacy programs and invest in new initiatives to ensure continuous improvement in youth literacy rates.\n",
        "2. Allocate resources for teacher training and educational infrastructure to address areas needing improvement in literacy outcomes.\n",
        "3. Implement policies that enhance the accessibility and quality of education, particularly in regions with slower progress in youth literacy rates.\n",
        "4. Collaborate with international organizations to share successful strategies and adopt best practices for comprehensive literacy improvement.\n",
        "**Community Engagement:**\n",
        "\n",
        "1. Promote community involvement in literacy programs through awareness campaigns, encouraging parents and local leaders to prioritize and support education.\n",
        "2. Establish partnerships with local NGOs to enhance community-driven literacy initiatives, fostering a sense of ownership and sustainability.\n",
        "3. Encourage parental involvement in children's education, emphasizing the role of families in creating a supportive learning environment at home."
      ],
      "metadata": {
        "id": "EQvo6-Q7hjmo"
      }
    },
    {
      "cell_type": "markdown",
      "source": [
        "####3. **Gender Gap in Youth Literacy:**\n",
        "\n",
        "**Business Objective**: Investigate the gender gap in youth literacy rates to develop strategies and initiatives fostering gender equity in education, ensuring equal opportunities for male and female youth."
      ],
      "metadata": {
        "id": "uF9glIAPhtxT"
      }
    },
    {
      "cell_type": "markdown",
      "source": [
        "**Government Actions:**\n",
        "\n",
        "1. Implement targeted policies and programs aimed at reducing gender gaps in literacy rates, particularly in lower-income groups.\n",
        "2. Allocate resources to enhance educational infrastructure in regions with higher gender disparities, focusing on marginalized communities.\n",
        "3. Introduce affirmative action measures, such as scholarships and incentives, to encourage female youth participation in education.\n",
        "4. Regularly monitor and assess the impact of gender equity initiatives, adjusting strategies based on ongoing evaluations.\n",
        "**Community Engagement:**\n",
        "\n",
        "1. Conduct awareness campaigns to challenge gender stereotypes and promote the importance of equal educational opportunities for both genders.\n",
        "2. Collaborate with community leaders and organizations to address cultural barriers that contribute to gender disparities in literacy rates.\n",
        "3. Encourage the active participation of parents and local communities in advocating for gender equity in education.\n",
        "4. Establish mentorship programs to support and guide female students, fostering a conducive environment for their educational development.\n",
        "\n",
        "\n",
        "\n",
        "\n"
      ],
      "metadata": {
        "id": "bdyxv1U1iDyo"
      }
    },
    {
      "cell_type": "markdown",
      "source": [
        "####4. **Preprimary Education Impact:**\n",
        "\n",
        "**Business Objective**: Explore the correlation between preprimary education teacher percentages and literacy rates to understand the impact of early education on literacy, providing insights for educational policymakers.\n",
        "\n"
      ],
      "metadata": {
        "id": "0CpvdXQ6iOZf"
      }
    },
    {
      "cell_type": "markdown",
      "source": [
        "**Government Actions:**\n",
        "\n",
        "1. Conduct comprehensive studies to assess the quality and effectiveness of preprimary education programs in correlation with literacy outcomes.\n",
        "2. Establish national standards for preprimary education, focusing on curriculum development, teacher training, and learning methodologies.\n",
        "3. Invest in professional development programs for preprimary educators, ensuring they are equipped with the necessary skills to foster literacy development.\n",
        "4. Implement targeted interventions in regions where the inverse relationship between teacher percentages and literacy rates is observed, addressing specific challenges.\n",
        "5. Collaborate with educational institutions to develop guidelines for maintaining an optimal percentage of teachers in preprimary education, aligning with literacy goals.\n",
        "**Educational Policymakers:**\n",
        "\n",
        "1. Foster research partnerships to explore the cultural and methodological factors influencing the observed patterns in different countries.\n",
        "2. Develop guidelines for integrating innovative teaching approaches and technologies into preprimary education to enhance literacy outcomes.\n",
        "3. Regularly review and adapt policies based on ongoing research findings to optimize the impact of early education on literacy rates.\n",
        "4. Establish frameworks for monitoring and regulating the percentage of teachers in preprimary education, ensuring alignment with literacy improvement objectives.\n",
        "5. Collaborate with international organizations to exchange best practices and insights on effective preprimary education strategies."
      ],
      "metadata": {
        "id": "Ns59-HTYjLet"
      }
    },
    {
      "cell_type": "markdown",
      "source": [
        "####5. **Primary Education Enrollment**:\n",
        "\n",
        "**Business Objective**: Determine the relationship between primary education enrollment rates and overall literacy rates, guiding efforts to enhance primary education access and quality for improved literacy outcomes.\n",
        "\n"
      ],
      "metadata": {
        "id": "JClMhnA4jdQd"
      }
    },
    {
      "cell_type": "markdown",
      "source": [
        "**Government Actions:**\n",
        "\n",
        "1. Conduct in-depth studies to understand the factors contributing to the unexpected correlation between decreasing primary education enrollment rates and increasing literacy rates.\n",
        "2. Implement targeted interventions to address the specific challenges identified in countries experiencing this correlation, focusing on improving educational quality.\n",
        "3. Collaborate with international organizations to share insights and best practices for enhancing literacy outcomes without solely relying on traditional primary education enrollment metrics.\n",
        "4. Invest in innovative teaching methodologies and technologies to improve the effectiveness of primary education, ensuring that students acquire strong literacy skills.\n",
        "5. Monitor and adapt education policies based on ongoing research to align with the evolving dynamics of literacy attainment through primary education.\n",
        "**Educational Policymakers:**\n",
        "\n",
        "1. Develop frameworks for evaluating the quality of primary education, considering factors beyond enrollment rates to ensure a holistic approach to literacy improvement.\n",
        "2. Establish guidelines for integrating literacy-focused initiatives into primary education curricula, emphasizing skill development and real-world application.\n",
        "3. Encourage collaboration between educational institutions, researchers, and policymakers to collectively address the complexities of the relationship between enrollment rates and literacy outcomes.\n",
        "4. Advocate for investments in teacher training programs that prioritize literacy instruction and adapt to changing educational landscapes.\n",
        "5. Engage with communities to raise awareness about the importance of literacy beyond enrollment, fostering a comprehensive understanding of educational goals."
      ],
      "metadata": {
        "id": "qhbMUUlaj9xZ"
      }
    },
    {
      "cell_type": "markdown",
      "source": [
        "####6. **New Entrants in Primary Education**:\n",
        "\n",
        "**Business Objective**: Investigate trends in new entrants to primary education and their impact on educational outcomes, informing policies to address challenges and enhance the effectiveness of primary education programs.\n",
        "\n"
      ],
      "metadata": {
        "id": "x60cm7rIkRc6"
      }
    },
    {
      "cell_type": "markdown",
      "source": [
        "**Government Actions:**\n",
        "\n",
        "1. Evaluate the factors contributing to the decrease in new entrants in Costa Rica and develop targeted strategies to reverse this trend, ensuring sustained access to primary education.\n",
        "2. Analyze the successful approaches in the UAE and Lao PDR to increase new entrants and consider implementing similar initiatives in other countries facing enrollment challenges.\n",
        "3. Invest in awareness campaigns to promote the importance of primary education and encourage parents to enroll their children, especially in regions with decreasing new entrants.\n",
        "4. Collaborate with international organizations to share best practices in boosting new entrants and improving primary education outcomes globally.\n",
        "5. Establish monitoring mechanisms to track the impact of policies aimed at increasing new entrants, ensuring continuous adaptation based on evolving educational landscapes.\n",
        "**Educational Policymakers:**\n",
        "\n",
        "1. Develop comprehensive frameworks for assessing the effectiveness of primary education programs, considering both the quantity and quality of new entrants.\n",
        "2. Design targeted interventions to address barriers to enrollment and promote inclusivity, particularly in regions experiencing a decline in new entrants.\n",
        "3. Collaborate with NGOs and community organizations to implement outreach programs that educate parents about the long-term benefits of primary education for their children.\n",
        "4. Integrate innovative teaching methods into primary education curricula to enhance the learning experience for new entrants.\n",
        "5. Conduct regular reviews of primary education policies, incorporating feedback from educators, parents, and students to continually improve program effectiveness."
      ],
      "metadata": {
        "id": "IfSe5lJjkwK6"
      }
    },
    {
      "cell_type": "markdown",
      "source": [
        "####7. **Secondary Education Enrollment Trends**:\n",
        "\n",
        "**Business Objective**: Analyze variations in secondary education enrollment ratios among countries to identify disparities and inform strategies for improving secondary education access and outcomes globally.\n",
        "\n"
      ],
      "metadata": {
        "id": "JHyteYQClFJE"
      }
    },
    {
      "cell_type": "markdown",
      "source": [
        "**Government Actions:**\n",
        "\n",
        "1. Prioritize investment in educational infrastructure and resources in low-income countries to improve both upper and lower secondary enrollment rates, focusing on areas with the greatest disparities.\n",
        "2. Implement targeted initiatives to address barriers to enrollment in lower middle-income countries, emphasizing the importance of both upper and lower secondary education.\n",
        "3. Support ongoing efforts in upper middle-income countries by identifying and addressing specific challenges that may still hinder optimal enrollment rates in both secondary levels.\n",
        "4. Foster international collaborations and exchange programs to facilitate knowledge transfer and improve education systems globally, especially between high-income and lower-income countries.\n",
        "5. Continuously assess and update educational policies to adapt to changing economic conditions, technological advancements, and societal needs, ensuring sustained progress in secondary education access.\n",
        "**Community and Stakeholder Engagement:**\n",
        "\n",
        "1. Advocate for the value of secondary education in communities, emphasizing the long-term benefits for individuals and society.\n",
        "2. Collaborate with local businesses and organizations to create scholarship programs, mentorship initiatives, and skill development opportunities, enhancing the appeal and accessibility of secondary education.\n",
        "3. Encourage parents to actively participate in their children's education, promoting awareness of the importance of both upper and lower secondary education for future opportunities.\n",
        "4. Establish community-driven support networks to address specific challenges related to secondary education, fostering a sense of collective responsibility for educational outcomes.\n",
        "5. Leverage technology and online resources to provide supplementary educational materials and support for students in regions with limited access to traditional schooling."
      ],
      "metadata": {
        "id": "7UaO8cybnQfp"
      }
    },
    {
      "cell_type": "markdown",
      "source": [
        "####8. **Tertiary Education Access**:\n",
        "\n",
        "**Business Objective**: Explore changes in tertiary education enrollment rates and assess the impact of government expenditure on tertiary education, guiding policies to enhance access and quality in tertiary education.\n",
        "\n"
      ],
      "metadata": {
        "id": "p8IOdMNDng1P"
      }
    },
    {
      "cell_type": "markdown",
      "source": [
        "**Government Actions:**\n",
        "\n",
        "1. Strengthening national education systems, investing in infrastructure, and implementing financial aid programs can address economic dependencies, income-enrollment relationships, and incomplete enrollment.\n",
        "\n",
        "**Community Engagement:**\n",
        "\n",
        "1. Raising awareness on supporting local education, advocating for prioritizing education, and creating community support networks are vital steps to enhance tertiary education access."
      ],
      "metadata": {
        "id": "5impwujMoFqd"
      }
    },
    {
      "cell_type": "markdown",
      "source": [
        "####9. **Government Spending on Education**:\n",
        "\n",
        "**Business Objective**: Investigate the relationship between government spending on education and educational outcomes, focusing on literacy rates, to optimize resource allocation and improve overall educational effectiveness.\n",
        "\n"
      ],
      "metadata": {
        "id": "xaR897ceoNSk"
      }
    },
    {
      "cell_type": "markdown",
      "source": [
        "**Government Actions:**\n",
        "\n",
        "1. Prioritize increased budget allocation for education, ensuring efficient resource distribution, and focusing on literacy-centric initiatives to enhance overall educational effectiveness.\n",
        "\n",
        "**Public Engagement:**\n",
        "\n",
        "1. Advocate for transparent government spending in education, promoting community awareness on the positive impact of increased investment in literacy programs for comprehensive educational improvement."
      ],
      "metadata": {
        "id": "591Zoehqojl-"
      }
    },
    {
      "cell_type": "markdown",
      "source": [
        "#### 10. **Gender Parity in Primary Education**:\n",
        "\n",
        "**Business Objective**: Assess the gender parity index in primary education and identify countries with gender disparities, informing initiatives to address gender-based inequalities in primary education.\n",
        "\n"
      ],
      "metadata": {
        "id": "zcRe2RTPooA7"
      }
    },
    {
      "cell_type": "markdown",
      "source": [
        "**Government Actions:**\n",
        "\n",
        "1. Implement targeted policies addressing gender disparities in regions with persistent challenges, focusing on creating an inclusive and supportive environment for female students in primary education.\n",
        "\n",
        "**Public Engagement:**\n",
        "\n",
        "1. Raise awareness and advocate for gender-inclusive education, encouraging communities to actively participate in dismantling cultural and socio-economic barriers that contribute to gender disparities in primary education."
      ],
      "metadata": {
        "id": "1Pef80-Ro_B9"
      }
    },
    {
      "cell_type": "markdown",
      "source": [
        "####11. **Teacher-Student Ratios in Secondary Education**:\n",
        "\n",
        "**Business Objective**: Analyze teacher-student ratios in secondary education and assess their impact on enrollment and educational outcomes, guiding policies to optimize teacher distribution and improve educational effectiveness.\n",
        "\n"
      ],
      "metadata": {
        "id": "_OJNac8ApEjl"
      }
    },
    {
      "cell_type": "markdown",
      "source": [
        "**Government Actions:**\n",
        "\n",
        "1. Implement policies aimed at reducing teacher-student ratios in secondary education, ensuring an optimal learning environment that fosters improved literacy rates and overall educational effectiveness.\n",
        "\n",
        "**Educational Institutions and Stakeholders:**\n",
        "\n",
        "1. Collaborate with educational institutions and stakeholders to prioritize resource allocation and teacher distribution strategies that contribute to favorable teacher-student ratios and, subsequently, positive educational outcomes."
      ],
      "metadata": {
        "id": "Gxvs5QQbpayg"
      }
    },
    {
      "cell_type": "markdown",
      "source": [
        "####12. **Literacy and Economic Development:**\n",
        "\n",
        "**Business Objective**: Investigate the correlation between adult literacy rates and a country's level of economic development, guiding strategies to promote literacy as a driver of economic growth and development."
      ],
      "metadata": {
        "id": "2ZACsh3apgo3"
      }
    },
    {
      "cell_type": "markdown",
      "source": [
        "**Government and Policy Actions:**\n",
        "\n",
        "1. Develop and implement comprehensive literacy promotion strategies, recognizing the role of literacy as a key driver of economic growth. Allocate resources to adult education programs and initiatives that enhance overall literacy rates.\n",
        "\n",
        "**Public Awareness and Engagement:**\n",
        "\n",
        "1. Encourage public awareness campaigns to emphasize the economic benefits of literacy. Foster a culture that values education and promotes lifelong learning, contributing to both individual and national economic development."
      ],
      "metadata": {
        "id": "Bg7lL-17p2FP"
      }
    },
    {
      "cell_type": "markdown",
      "source": [
        "# **Conclusion**"
      ],
      "metadata": {
        "id": "gCX9965dhzqZ"
      }
    },
    {
      "cell_type": "markdown",
      "source": [
        "As we conclude this comprehensive exploration of global education trends through the lens of the World Bank's dataset, it becomes evident that education is a dynamic and multifaceted domain with intricacies that extend far beyond traditional metrics. The synthesis of insights derived from twelve distinct problem statements has provided nuanced perspectives on various facets of education, allowing us to draw meaningful conclusions and propose actionable recommendations.\n",
        "\n",
        "\n",
        "The Gender Parity Index (GPI) has been a vital tool in uncovering gender-based disparities in literacy rates globally. Notable progress has been made, exemplified by Afghanistan's challenges and Nepal's strides towards gender equality. However, persistent disparities in countries like Pakistan and South Africa underscore the ongoing need for targeted interventions.\n",
        "\n",
        "\n",
        "While global literacy rates have shown a positive trajectory, the analysis emphasizes the imperative for sustained governmental commitment and intensified efforts to further enhance youth literacy. Education emerges as a pivotal driver for societal advancement, demanding continuous focus and investments.\n",
        "\n",
        "\n",
        "Insights into the gender gap in youth literacy rates reveal that income levels correlate with gender disparities. Though progress is observed, especially in the lower-middle-income group, there remains a need for nuanced strategies to address persisting gaps, particularly in regions with lower income levels.\n",
        "\n",
        "\n",
        "The unexpected inverse relationship between preprimary education teacher percentages and literacy rates prompts a deeper exploration of early education's quality and effectiveness. Variances across countries underscore the need for tailored approaches, considering diverse educational landscapes.\n",
        "\n",
        "\n",
        "The unexpected correlation between decreasing primary education enrollment rates and increasing literacy rates challenges conventional expectations. The findings advocate for a shift towards quality-focused initiatives, targeted interventions, and an understanding of evolving demographics.\n",
        "\n",
        "\n",
        "While most countries maintain relatively constant numbers of new entrants, standout cases like Costa Rica, the UAE, and Lao PDR showcase positive trends in primary education enrollment. These success stories emphasize the impact of strategic initiatives in enhancing educational access.\n",
        "\n",
        "Analyzing variations in secondary education enrollment rates across income groups reveals disparities. The income-enrollment correlation accentuates the pivotal role of economic development in fostering educational access. Noteworthy improvements, especially in lower secondary education, suggest positive strides, but challenges persist in low-income settings.\n",
        "\n",
        "\n",
        "Global disparities in secondary education underscore the role of economic prosperity in facilitating access. The observed income-enrollment correlation highlights the critical link between economic development and educational accessibility, guiding strategies to bridge gaps on a global scale.\n",
        "\n",
        "\n",
        "The intricate relationship between tertiary education enrollment rates and economic conditions emphasizes the need for robust education systems. Economic dependency and incomplete enrollment in low-income countries highlight the importance of targeted governmental efforts to improve education and socioeconomic standing.\n",
        "\n",
        "\n",
        "A clear positive correlation between government spending on education and literacy rates underscores the significance of strategic resource allocation. Increased government investment not only enhances literacy rates but contributes to overall educational effectiveness, emphasizing the need for continued financial commitments.\n",
        "\n",
        "\n",
        "Analyzing the gender parity index in primary education reveals progress in minimizing disparities. While regions like Latin America and the European Union exhibit minimal gender disparities, challenges persist in the Middle East, North Africa, and South Asia. A multi-faceted approach is essential to address complex socio-economic and cultural factors influencing gender disparities.\n",
        "\n",
        "\n",
        "The inverse proportionality between teacher-student ratios and literacy rates highlights the dynamic impact of teacher distribution on educational effectiveness. Recognizing this correlation is crucial for optimizing resource allocation and enhancing educational outcomes.\n",
        "\n",
        "\n",
        "Exploring the correlation between adult literacy rates and GDP per capita reaffirms the interconnectedness of education and economic prosperity. Promoting literacy emerges as a catalyst for economic growth, emphasizing the positive feedback loop between literacy rates and economic development.\n",
        "\n",
        "In conclusion, this EDA project serves as a robust foundation for evidence-based policymaking, offering insights into diverse aspects of global education. The recommendations derived from these insights underscore the need for targeted interventions, continuous investments, and a holistic approach to address the evolving challenges in the educational landscape. As we navigate the complex realm of education, this analysis lays the groundwork for fostering equitable, accessible, and effective educational systems worldwide.\n",
        "\n",
        "\n",
        "\n",
        "\n",
        "\n"
      ],
      "metadata": {
        "id": "DN9sph3o0N1X"
      }
    },
    {
      "cell_type": "markdown",
      "source": [
        "**Personal Opinion:**\n",
        "\n",
        "In today's scenario, education has become a means to generate income, with many individuals turning to platforms like YouTube to offer teaching services. However, the concern arises for economically disadvantaged students who lack access to smartphones. Amidst the lockdown, when the government instructed people to stay indoors, schools and colleges swiftly transitioned to online teaching without considering the plight of those who couldn't afford smartphones. This raises a critical issue as many families struggled to provide even basic necessities, let alone a device for their children's education. The government's lack of action in addressing this digital divide further exacerbates the challenges faced by economically vulnerable students. This expresses my personal opinion on the matter."
      ],
      "metadata": {
        "id": "Fjb1IsQkh3yE"
      }
    },
    {
      "cell_type": "markdown",
      "source": [
        "**Solution:**\n",
        "\n",
        "Addressing the issue of unequal access to education requires a multi-faceted approach:\n",
        "\n",
        "**Government Initiatives**: Governments should implement policies and initiatives that bridge the digital divide. This might include providing financial assistance to families for acquiring electronic devices, ensuring internet connectivity in remote areas, and offering subsidies for educational resources.\n",
        "\n",
        "**Community Support**: Communities can play a role in supporting economically disadvantaged students. Local organizations and individuals can contribute by donating devices, organizing community learning centers with internet access, and facilitating mentorship programs.\n",
        "\n",
        "**Corporate Social Responsibility (CSR)**: Companies, especially those in the technology sector, can contribute to education accessibility through CSR initiatives. Donations of devices, sponsorships for educational programs, and partnerships with educational institutions are ways corporations can make a positive impact.\n",
        "\n",
        "**Non-Profit Organizations:** NGOs focused on education can play a crucial role in providing resources to underprivileged students. This includes distributing devices, organizing educational workshops, and advocating for policies that promote equal access.\n",
        "\n",
        "**Inclusive Educational Policies**: Education systems should adapt by developing inclusive policies that consider the varying socio-economic backgrounds of students. This might involve a combination of online and offline teaching methods to cater to diverse learning environments.\n",
        "\n",
        "**Public Awareness Campaigns**: Raising awareness about the digital divide is essential. Governments, NGOs, and community leaders can launch campaigns to highlight the challenges faced by economically disadvantaged students and garner support for initiatives aimed at narrowing the gap.\n",
        "\n",
        "By combining efforts at the government, community, corporate, and non-profit levels, a more comprehensive and effective solution can be crafted to ensure that all students, regardless of their economic status, have equal opportunities for education."
      ],
      "metadata": {
        "id": "MVx4y-xk1vIr"
      }
    },
    {
      "cell_type": "markdown",
      "source": [
        "### ***Hurrah! You have successfully completed your EDA Capstone Project !!!***"
      ],
      "metadata": {
        "id": "gIfDvo9L0UH2"
      }
    }
  ]
}